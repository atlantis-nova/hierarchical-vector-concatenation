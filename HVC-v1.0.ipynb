{
 "cells": [
  {
   "cell_type": "markdown",
   "metadata": {},
   "source": [
    "# Hierarchical Vector Concatenation\n",
    "\n",
    "In this notebook, we are going to simulate the concatenation of two vectors using the HVC technique"
   ]
  },
  {
   "cell_type": "markdown",
   "metadata": {},
   "source": [
    "### defining functions"
   ]
  },
  {
   "cell_type": "code",
   "execution_count": 30,
   "metadata": {},
   "outputs": [],
   "source": [
    "import pandas as pd\n",
    "import random\n",
    "from itertools import combinations, product\n",
    "from scipy.spatial import distance\n",
    "import numpy as np\n",
    "from sklearn.neighbors import NearestNeighbors\n",
    "import json\n",
    "import math\n",
    "\n",
    "def vector_(vector, new_vector_length, x):\n",
    "    vector = [(vector[i], vector[i]*x)[i < new_vector_length] for i in range(len(vector))]\n",
    "    vector = np.array(vector)\n",
    "    return vector\n",
    "\n",
    "def test_knn(df, class_n, minimum_scale_coefficient, test_amount, sample_id=None, minimum_sample_n=0, verbose=False):\n",
    "    '''\n",
    "    tests each individual class sample vs all the other sample in the dataset\n",
    "    when minimum_scale_coefficient==-1 means calculation cannot be done: WE DO NOT RAISE ERROR\n",
    "    '''\n",
    "    if minimum_scale_coefficient == -1:\n",
    "        if verbose:\n",
    "            print('minimum_scale_coefficient == -1')\n",
    "            print('inconsistencies:', -1)\n",
    "        return True\n",
    "\n",
    "    class Found(Exception): pass\n",
    "    # df = pd.read_parquet(f'{exp}/df_hierarchical_vector.parquet') #we reset the vectors so they do not kee scaling per iteration\n",
    "    df_ = df.copy()\n",
    "\n",
    "    # test for inefficiencies\n",
    "    key1 = class_n\n",
    "    if sample_id:\n",
    "        samples = [sample_id]\n",
    "    else:\n",
    "        samples = [*df_[df_['class_1']==key1].index]\n",
    "\n",
    "    for r in samples:\n",
    "        if r >= minimum_sample_n:\n",
    "\n",
    "            if verbose : print('**', '\\tsample:', r, '\\tmsc:', minimum_scale_coefficient)\n",
    "            \n",
    "            for msc_variation in [['less_than', minimum_scale_coefficient-test_amount], ['more_than', minimum_scale_coefficient+test_amount]]:\n",
    "                \n",
    "                # df = pd.read_parquet(f'{exp}/df_hierarchical_vector.parquet') #we reset the vectors so they do not keep scaling per iteration\n",
    "                df_ = df.copy()\n",
    "                df_['vector_full'] = df_['vector_full'].apply(lambda x : vector_(x, new_vector_length, msc_variation[1]))\n",
    "\n",
    "                # classes\n",
    "                nbrs = NearestNeighbors(n_neighbors=len(df_), metric='euclidean').fit(df_['vector_full'].values.tolist())\n",
    "                distances, indices = nbrs.kneighbors([df_['vector_full'].iloc[r]]) # EDIT VECTOR 0 HERE\n",
    "\n",
    "                list1 = [df_.iloc[x]['class_1'].values.tolist() for x in indices][0]\n",
    "                counter = 1\n",
    "                for i in range(len(list1)-1):\n",
    "                    # count contaminations\n",
    "                    el = list1[i], list1[i+1]\n",
    "                    if el[0] != el[1]:\n",
    "                        # print(r, indices[0][i:i+1], list1[i:i+1], distance.euclidean(df_.iloc[indices[0][0]]['vector_full'], df_.iloc[indices[0][i]]['vector_full']))\n",
    "                        counter += 1\n",
    "\n",
    "                inconsistencies = counter-n_classes\n",
    "                if msc_variation[0] == 'less_than':\n",
    "                    # should have inconsistencies, because we test it on a scaler < msc+test_amount\n",
    "\n",
    "                    if inconsistencies == 0:\n",
    "                        if verbose : \n",
    "                            print('<', 'ERR')\n",
    "                            print('<', 'inconsistencies:', inconsistencies)\n",
    "                        # raise Found\n",
    "                        return False\n",
    "                    else:\n",
    "                        if verbose :\n",
    "                            print('<', 'inconsistencies:', inconsistencies)\n",
    "                        \n",
    "                if msc_variation[0] == 'more_than':\n",
    "                    # should not have inconsistencies, because we test it on a scaler > msc+test_amount\n",
    "\n",
    "                    if inconsistencies == 0:\n",
    "                        if verbose : \n",
    "                            print('>', 'inconsistencies:', inconsistencies)\n",
    "                        \n",
    "                    else:\n",
    "                        if verbose :\n",
    "                            print('>', 'ERR')\n",
    "                            print('>', 'inconsistencies:', inconsistencies)\n",
    "                        return False\n",
    "                        # raise Found\n",
    "                \n",
    "            # has not encountered exit because of errors, so far\n",
    "            return True\n",
    "                        \n",
    "        if sample_id is not None:\n",
    "            return True\n",
    "            \n",
    "def triangular_extension(A, B, C, concat_vector_length):\n",
    "    \n",
    "    if not len(A)==len(B)==len(C):\n",
    "        raise Exception('all vectors must be of the same length')\n",
    "\n",
    "    n = len(A)\n",
    "    m = concat_vector_length\n",
    "    numerator = 0\n",
    "    for i in range(m, n):\n",
    "        numerator += (2*A[i]*(B[i]-C[i]) + C[i]**2 - B[i]**2)\n",
    "\n",
    "    denominator = 0\n",
    "    for i in range(m):\n",
    "        denominator += ( 2*A[i]*(C[i]-B[i]) + B[i]**2 - C[i]**2 )\n",
    "    \n",
    "    try:\n",
    "        # AB will never be larger than AC\n",
    "        # issue 1: negative quotient (sqrt is impossible)\n",
    "        # issue 2: denominator is 0\n",
    "        total = numerator/denominator\n",
    "        total = math.sqrt(total)\n",
    "        return total   \n",
    "    except:\n",
    "        # AB can be larger than AC\n",
    "        return -1\n",
    "    \n",
    "def get_msc(df_total, sample_id, verbose=False):\n",
    "    \"\"\"\n",
    "    we get the exact minimum scale coefficient given a sample.\n",
    "    in total, a given A, B, C will have the same samples with an msc score for each step of a single path\n",
    "    for a given A, we need to get the highest msc of the sample for it to work\n",
    "    \"\"\"\n",
    "    df_ = df_total[(df_total['index']==sample_id)]\n",
    "    if verbose :\n",
    "        display(df_)\n",
    "    return df_.minimum_scale_coefficient.max()\n",
    "\n",
    "letters = 'abcdefghijklmnopqrstwxyz'\n",
    "letters = letters.upper()\n",
    "def create_class(k):\n",
    "    class_name = ''.join(random.choices(letters, k=k))\n",
    "    return class_name"
   ]
  },
  {
   "cell_type": "markdown",
   "metadata": {},
   "source": [
    "### creating sample dataset"
   ]
  },
  {
   "cell_type": "code",
   "execution_count": null,
   "metadata": {},
   "outputs": [],
   "source": [
    "#   non-labeled df\n",
    "initial_vector_n = 2000 # 1h computation\n",
    "initial_vector_length = 80\n",
    "df = pd.DataFrame([[[random.random()*2-1 for x in range(initial_vector_length)] for k in range(initial_vector_n)]]).T\n",
    "df.columns = ['vector_0']\n",
    "df['vector_full'] = df['vector_0'] \n",
    "df\n",
    "\n",
    "#   labeled df\n",
    "for depth in range(1):\n",
    "    # we start counting from 1, the previous vector start from depth 0\n",
    "    depth += 1\n",
    "    n_classes = 8\n",
    "    new_vector_length = 100\n",
    "\n",
    "    # the vector for each class has to be identical\n",
    "    classes = [(str(x), '0'+str(x))[x<10] for x in range(n_classes)]\n",
    "    # classes = ['A', 'B', 'C', 'D']\n",
    "    arr1 = {key:[random.random()*2-1 for x in range(new_vector_length)] for key in classes}\n",
    "    df_new = pd.DataFrame([[x, arr1[x]] for x in random.choices(classes, k=len(df))])\n",
    "    df_new.columns = [f'class_{depth}', f'vector_{depth}']\n",
    "    df_new_clean = df_new.drop_duplicates(f'class_{depth}')\n",
    "\n",
    "    df = pd.concat([df_new, df], axis=1)\n",
    "\n",
    "    # for now we just sum it: we scale it later\n",
    "    df['vector_full'] = df[f'vector_{depth}'] + df['vector_full']\n",
    "    df['vector_new'] = df[f'vector_{depth}']\n",
    "\n",
    "exp = 'exp1'\n",
    "\n",
    "# save records\n",
    "df.to_parquet(f'{exp}/df_hierarchical_vector.parquet', index=None)"
   ]
  },
  {
   "cell_type": "markdown",
   "metadata": {},
   "source": [
    "### computing msc for every sample in the dataset"
   ]
  },
  {
   "cell_type": "code",
   "execution_count": 4,
   "metadata": {},
   "outputs": [
    {
     "name": "stdout",
     "output_type": "stream",
     "text": [
      "A: 06 \tB: 06 \tC: 00 \t** 0.9913065877383754\n",
      "A: 06 \tB: 00 \tC: 02 \t** 7.555059784706563\n",
      "A: 06 \tB: 02 \tC: 07 \t** 2.8713008958269493\n",
      "A: 06 \tB: 07 \tC: 04 \t** 14.298526483669757\n",
      "A: 06 \tB: 04 \tC: 03 \t** 7.432602857308244\n",
      "A: 06 \tB: 03 \tC: 01 \t** 15.224730932063627\n",
      "A: 06 \tB: 01 \tC: 05 \t** 2.0379467940107223\n",
      "A: 04 \tB: 04 \tC: 02 \t** 1.0681853264605454\n",
      "A: 04 \tB: 02 \tC: 07 \t** 2.8806884968049773\n",
      "A: 04 \tB: 07 \tC: 00 \t** 3.8841708656663663\n",
      "A: 04 \tB: 00 \tC: 06 \t** 7.859493981125199\n",
      "A: 04 \tB: 06 \tC: 01 \t** 3.51339300834529\n",
      "A: 04 \tB: 01 \tC: 05 \t** 4.586826363396587\n",
      "A: 04 \tB: 05 \tC: 03 \t** 3.178070112717601\n",
      "A: 02 \tB: 02 \tC: 04 \t** 1.018051413885821\n",
      "A: 02 \tB: 04 \tC: 06 \t** 3.800601126084943\n",
      "A: 02 \tB: 06 \tC: 00 \t** 2.2572550229747934\n",
      "A: 02 \tB: 00 \tC: 05 \t** 5.486983854769195\n",
      "A: 02 \tB: 05 \tC: 03 \t** 13.158939926284905\n",
      "A: 02 \tB: 03 \tC: 01 \t** 12.068375689970424\n",
      "A: 02 \tB: 01 \tC: 07 \t** 9.27043678279616\n",
      "A: 05 \tB: 05 \tC: 07 \t** 0.9104126771652138\n",
      "A: 05 \tB: 07 \tC: 00 \t** 3.3305959902558055\n",
      "A: 05 \tB: 00 \tC: 02 \t** 7.905138790453892\n",
      "A: 05 \tB: 02 \tC: 04 \t** 6.408170781269769\n",
      "A: 05 \tB: 04 \tC: 03 \t** 3.021870680231631\n",
      "A: 05 \tB: 03 \tC: 01 \t** 7.96713468674911\n",
      "A: 05 \tB: 01 \tC: 06 \t** 6.1580997749590525\n",
      "A: 03 \tB: 03 \tC: 06 \t** 0.9077760841970232\n",
      "A: 03 \tB: 06 \tC: 00 \t** 4.514292966322998\n",
      "A: 03 \tB: 00 \tC: 02 \t** 5.609773915254889\n",
      "A: 03 \tB: 02 \tC: 01 \t** 3.2234258076314783\n",
      "A: 03 \tB: 01 \tC: 07 \t** 15.863151108108969\n",
      "A: 03 \tB: 07 \tC: 04 \t** 6.9231859848046176\n",
      "A: 03 \tB: 04 \tC: 05 \t** 13.862709640678107\n",
      "A: 07 \tB: 07 \tC: 04 \t** 0.9506408529681127\n",
      "A: 07 \tB: 04 \tC: 06 \t** 3.5412265290125777\n",
      "A: 07 \tB: 06 \tC: 05 \t** 20.57529798606695\n",
      "A: 07 \tB: 05 \tC: 02 \t** 2.796193378649836\n",
      "A: 07 \tB: 02 \tC: 00 \t** 5.654531191840261\n",
      "A: 07 \tB: 00 \tC: 03 \t** 4.090082244664899\n",
      "A: 07 \tB: 03 \tC: 01 \t** 3.788339185474972\n",
      "A: 00 \tB: 00 \tC: 06 \t** 0.9690168913080492\n",
      "A: 00 \tB: 06 \tC: 04 \t** 2.765778199725296\n",
      "A: 00 \tB: 04 \tC: 02 \t** 3.504650096865781\n",
      "A: 00 \tB: 02 \tC: 03 \t** 11.47320574459728\n",
      "A: 00 \tB: 03 \tC: 05 \t** 9.862420585840704\n",
      "A: 00 \tB: 05 \tC: 01 \t** 6.872989618118565\n",
      "A: 00 \tB: 01 \tC: 07 \t** 4.392406611892428\n",
      "A: 01 \tB: 01 \tC: 06 \t** 0.9002808617891722\n",
      "A: 01 \tB: 06 \tC: 04 \t** 4.353461581712129\n",
      "A: 01 \tB: 04 \tC: 00 \t** 6.217125596206919\n",
      "A: 01 \tB: 00 \tC: 02 \t** 10.91988385416939\n",
      "A: 01 \tB: 02 \tC: 03 \t** 3.237581892741197\n",
      "A: 01 \tB: 03 \tC: 05 \t** 4.735087514377799\n",
      "A: 01 \tB: 05 \tC: 07 \t** 5.92979097134341\n"
     ]
    }
   ],
   "source": [
    "exp = 'exp1'\n",
    "depth = 1\n",
    "df = pd.read_parquet(f'{exp}/df_hierarchical_vector.parquet')\n",
    "df_new_clean = df[['class_1', 'vector_1']].drop_duplicates(f'class_{depth}')\n",
    "n_classes = len(df_new_clean.class_1.unique())\n",
    "new_vector_length = len(df.vector_1[0])\n",
    "selection_method = 'precise' # 'approximate' 'precise'\n",
    "\n",
    "seq = dict()\n",
    "for key_A in [*df_new_clean['class_1']]:\n",
    "    nbrs = NearestNeighbors(n_neighbors=len(df_new_clean), metric='euclidean').fit(df_new_clean['vector_1'].values.tolist())\n",
    "    distances, indices = nbrs.kneighbors(df_new_clean[df_new_clean['class_1']==key_A]['vector_1'].values.tolist())\n",
    "    seq[key_A] = [*df_new_clean['class_1'].iloc[indices[0]].values]\n",
    "\n",
    "t = list()\n",
    "total = list()\n",
    "for key_A in [*seq.keys()]:\n",
    "    if key_A not in ['m']: #[*df_total[0].unique()][:-1]:\n",
    "\n",
    "        df = pd.read_parquet(f'{exp}/df_hierarchical_vector.parquet')\n",
    "\n",
    "        for _ in seq[key_A]:\n",
    "            # find the path from key_A to all the following keys in order of distance\n",
    "            sequence_ = list()\n",
    "            for index in range(len(seq[key_A])-1):\n",
    "                sequence_.append([seq[key_A][index], seq[key_A][index+1]])\n",
    "            sequence_\n",
    "\n",
    "        for s in sequence_:\n",
    "            key_B = s[0]\n",
    "            key_C = s[1]\n",
    "\n",
    "            if selection_method == 'precise':\n",
    "                # we take into account ALL THE OTHER POINTS: heavy computations required\n",
    "                nbrs_B = NearestNeighbors(n_neighbors=len(df[df['class_1']==key_B]), metric='euclidean').fit(df[df['class_1']==key_B]['vector_full'].values.tolist())\n",
    "                nbrs_C = NearestNeighbors(n_neighbors=len(df[df['class_1']==key_C]), metric='euclidean').fit(df[df['class_1']==key_C]['vector_full'].values.tolist())\n",
    "            elif selection_method == 'approximate':\n",
    "                # we apply k-means to every class\n",
    "                # df_sample = \n",
    "                pass\n",
    "                \n",
    "            counter = 0\n",
    "            for k in df[df['class_1']==key_A].reset_index().values.tolist():\n",
    "                point_A = k[0] # index is the absolute one\n",
    "                point_A_vector = k[4]\n",
    "\n",
    "                distances_B, indices_B = nbrs_B.kneighbors([point_A_vector])\n",
    "                distances_C, indices_C = nbrs_C.kneighbors([point_A_vector])\n",
    "\n",
    "                # given point_A, find the furthest in cluster_B\n",
    "                point_B = indices_B[0][-1]\n",
    "                point_B_vector = df[df['class_1']==key_B]['vector_full'].iloc[point_B].tolist()\n",
    "                longest_vectors = (point_A_vector, point_B_vector)\n",
    "\n",
    "                # given point_A, find the shortest in cluster_C\n",
    "                point_C = indices_C[0][0]\n",
    "                point_C_vector = df[df['class_1']==key_C]['vector_full'].iloc[point_C].tolist()\n",
    "                shortest_vectors = (point_A_vector, point_C_vector)\n",
    "\n",
    "                x = triangular_extension(\n",
    "                    point_A_vector, \n",
    "                    point_B_vector,\n",
    "                    point_C_vector, \n",
    "                    concat_vector_length=new_vector_length\n",
    "                )\n",
    "\n",
    "                total.append([key_A, key_B, key_C, point_A, x])\n",
    "                t.append([point_A_vector, point_B_vector, point_C_vector])\n",
    "\n",
    "                # print(point_A_vector, point_B_vector, point_C_vector)\n",
    "                counter += 1           \n",
    "\n",
    "            # print insights\n",
    "            df_total = pd.DataFrame(total)\n",
    "            df_total.columns = ['A', 'B', 'C', 'index', 'minimum_scale_coefficient']\n",
    "            minimum_scale_coefficient_key_B = df_total[(df_total['A']==key_A) & (df_total['B']==key_B)]['minimum_scale_coefficient'].max()\n",
    "            print('A:', key_A, '\\tB:', key_B, '\\tC:', key_C, '\\t**', minimum_scale_coefficient_key_B)\n",
    "\n",
    "df_total.to_parquet(f'{exp}/total.parquet', index=None)"
   ]
  },
  {
   "cell_type": "code",
   "execution_count": 42,
   "metadata": {},
   "outputs": [
    {
     "data": {
      "text/html": [
       "<div>\n",
       "<style scoped>\n",
       "    .dataframe tbody tr th:only-of-type {\n",
       "        vertical-align: middle;\n",
       "    }\n",
       "\n",
       "    .dataframe tbody tr th {\n",
       "        vertical-align: top;\n",
       "    }\n",
       "\n",
       "    .dataframe thead th {\n",
       "        text-align: right;\n",
       "    }\n",
       "</style>\n",
       "<table border=\"1\" class=\"dataframe\">\n",
       "  <thead>\n",
       "    <tr style=\"text-align: right;\">\n",
       "      <th></th>\n",
       "      <th>A</th>\n",
       "      <th>B</th>\n",
       "      <th>C</th>\n",
       "      <th>index</th>\n",
       "      <th>minimum_scale_coefficient</th>\n",
       "      <th>pass</th>\n",
       "    </tr>\n",
       "  </thead>\n",
       "  <tbody>\n",
       "    <tr>\n",
       "      <th>0</th>\n",
       "      <td>06</td>\n",
       "      <td>06</td>\n",
       "      <td>00</td>\n",
       "      <td>0</td>\n",
       "      <td>0.916085</td>\n",
       "      <td>False</td>\n",
       "    </tr>\n",
       "    <tr>\n",
       "      <th>1</th>\n",
       "      <td>06</td>\n",
       "      <td>06</td>\n",
       "      <td>00</td>\n",
       "      <td>3</td>\n",
       "      <td>0.842967</td>\n",
       "      <td>False</td>\n",
       "    </tr>\n",
       "    <tr>\n",
       "      <th>2</th>\n",
       "      <td>06</td>\n",
       "      <td>06</td>\n",
       "      <td>00</td>\n",
       "      <td>13</td>\n",
       "      <td>0.895831</td>\n",
       "      <td>False</td>\n",
       "    </tr>\n",
       "    <tr>\n",
       "      <th>3</th>\n",
       "      <td>06</td>\n",
       "      <td>06</td>\n",
       "      <td>00</td>\n",
       "      <td>33</td>\n",
       "      <td>0.831733</td>\n",
       "      <td>False</td>\n",
       "    </tr>\n",
       "    <tr>\n",
       "      <th>4</th>\n",
       "      <td>06</td>\n",
       "      <td>06</td>\n",
       "      <td>00</td>\n",
       "      <td>37</td>\n",
       "      <td>0.857994</td>\n",
       "      <td>False</td>\n",
       "    </tr>\n",
       "    <tr>\n",
       "      <th>...</th>\n",
       "      <td>...</td>\n",
       "      <td>...</td>\n",
       "      <td>...</td>\n",
       "      <td>...</td>\n",
       "      <td>...</td>\n",
       "      <td>...</td>\n",
       "    </tr>\n",
       "    <tr>\n",
       "      <th>13995</th>\n",
       "      <td>01</td>\n",
       "      <td>05</td>\n",
       "      <td>07</td>\n",
       "      <td>1949</td>\n",
       "      <td>5.130371</td>\n",
       "      <td>False</td>\n",
       "    </tr>\n",
       "    <tr>\n",
       "      <th>13996</th>\n",
       "      <td>01</td>\n",
       "      <td>05</td>\n",
       "      <td>07</td>\n",
       "      <td>1956</td>\n",
       "      <td>4.680801</td>\n",
       "      <td>False</td>\n",
       "    </tr>\n",
       "    <tr>\n",
       "      <th>13997</th>\n",
       "      <td>01</td>\n",
       "      <td>05</td>\n",
       "      <td>07</td>\n",
       "      <td>1962</td>\n",
       "      <td>4.649634</td>\n",
       "      <td>False</td>\n",
       "    </tr>\n",
       "    <tr>\n",
       "      <th>13998</th>\n",
       "      <td>01</td>\n",
       "      <td>05</td>\n",
       "      <td>07</td>\n",
       "      <td>1967</td>\n",
       "      <td>4.495262</td>\n",
       "      <td>False</td>\n",
       "    </tr>\n",
       "    <tr>\n",
       "      <th>13999</th>\n",
       "      <td>01</td>\n",
       "      <td>05</td>\n",
       "      <td>07</td>\n",
       "      <td>1992</td>\n",
       "      <td>5.143585</td>\n",
       "      <td>False</td>\n",
       "    </tr>\n",
       "  </tbody>\n",
       "</table>\n",
       "<p>14000 rows × 6 columns</p>\n",
       "</div>"
      ],
      "text/plain": [
       "        A   B   C  index  minimum_scale_coefficient   pass\n",
       "0      06  06  00      0                   0.916085  False\n",
       "1      06  06  00      3                   0.842967  False\n",
       "2      06  06  00     13                   0.895831  False\n",
       "3      06  06  00     33                   0.831733  False\n",
       "4      06  06  00     37                   0.857994  False\n",
       "...    ..  ..  ..    ...                        ...    ...\n",
       "13995  01  05  07   1949                   5.130371  False\n",
       "13996  01  05  07   1956                   4.680801  False\n",
       "13997  01  05  07   1962                   4.649634  False\n",
       "13998  01  05  07   1967                   4.495262  False\n",
       "13999  01  05  07   1992                   5.143585  False\n",
       "\n",
       "[14000 rows x 6 columns]"
      ]
     },
     "execution_count": 42,
     "metadata": {},
     "output_type": "execute_result"
    }
   ],
   "source": [
    "df_total"
   ]
  },
  {
   "cell_type": "markdown",
   "metadata": {},
   "source": [
    "### testing a single sample\n",
    "By using the test knn function on a sample (0), we are going to measure the number of concatenations after multiplying the concatenated vector with msc."
   ]
  },
  {
   "cell_type": "code",
   "execution_count": 31,
   "metadata": {},
   "outputs": [],
   "source": [
    "exp = 'exp1'\n",
    "depth = 1\n",
    "df = pd.read_parquet(f'{exp}/df_hierarchical_vector.parquet')\n",
    "df_new_clean = df[['class_1', 'vector_1']].drop_duplicates(f'class_{depth}')\n",
    "n_classes = len(df_new_clean.class_1.unique())\n",
    "new_vector_length = len(df.vector_1[0])"
   ]
  },
  {
   "cell_type": "code",
   "execution_count": 32,
   "metadata": {},
   "outputs": [
    {
     "data": {
      "text/plain": [
       "True"
      ]
     },
     "execution_count": 32,
     "metadata": {},
     "output_type": "execute_result"
    }
   ],
   "source": [
    "df = pd.read_parquet(f'{exp}/df_hierarchical_vector.parquet') #we reset the vectors so they do not kee scaling per iteration\n",
    "df_total = pd.read_parquet(f'{exp}/total.parquet')\n",
    "\n",
    "# test msc of single sample\n",
    "sample_id = 0\n",
    "# IF WE ADD TO OR SUBTRACT ANY NUMBER FROM msc, it should fail\n",
    "msc = get_msc(df_total, sample_id=sample_id, verbose=False)\n",
    "\n",
    "test_amount = 0.00001\n",
    "class_n = [*df_total[df_total['index']==sample_id]['A']][0]\n",
    "test_knn(df, class_n=class_n, minimum_scale_coefficient=msc, test_amount=test_amount, sample_id=sample_id, verbose=False)"
   ]
  },
  {
   "cell_type": "markdown",
   "metadata": {},
   "source": [
    "### visualize class separation"
   ]
  },
  {
   "cell_type": "code",
   "execution_count": 35,
   "metadata": {},
   "outputs": [
    {
     "name": "stdout",
     "output_type": "stream",
     "text": [
      "regular concatenation\n",
      "['06', '06', '06', '06', '06', '06', '06', '06', '06', '06', '06', '06', '06', '06', '06', '06', '06', '06', '06', '06', '06', '06', '06', '06', '06', '06', '06', '06', '06', '06', '06', '06', '06', '06', '06', '06', '06', '06', '06', '06', '06', '06', '06', '06', '06', '06', '06', '06', '06', '06', '06', '06', '06', '06', '06', '06', '06', '06', '06', '06', '06', '06', '06', '06', '06', '06', '06', '06', '06', '06', '06', '06', '06', '06', '06', '06', '06', '06', '06', '06', '06', '06', '06', '06', '06', '06', '06', '06', '06', '06', '06', '06', '06', '06', '06', '06', '06', '06', '06', '06', '06', '06', '06', '06', '06', '06', '06', '06', '06', '06', '06', '06', '06', '06', '06', '06', '06', '06', '06', '06', '06', '06', '06', '06', '06', '06', '06', '06', '06', '06', '06', '06', '06', '06', '06', '06', '06', '06', '06', '06', '06', '06', '06', '06', '06', '06', '06', '06', '06', '06', '06', '06', '06', '06', '06', '06', '06', '06', '06', '06', '06', '06', '06', '06', '06', '06', '06', '06', '06', '06', '06', '06', '06', '06', '06', '06', '06', '06', '06', '06', '06', '06', '06', '06', '06', '06', '06', '06', '06', '06', '06', '06', '06', '06', '06', '06', '06', '06', '06', '06', '06', '06', '06', '06', '06', '06', '06', '06', '06', '06', '06', '06', '06', '06', '06', '06', '06', '06', '06', '06', '06', '06', '06', '06', '06', '06', '06', '06', '06', '06', '06', '06', '06', '06', '06', '06', '06', '06', '06', '06', '06', '06', '06', '00', '00', '02', '00', '02', '00', '02', '00', '00', '00', '00', '02', '02', '02', '00', '02', '00', '00', '00', '02', '00', '00', '00', '04', '02', '01', '02', '00', '02', '02', '02', '02', '02', '03', '02', '03', '00', '00', '00', '00', '00', '00', '04', '00', '00', '00', '00', '00', '00', '00', '00', '00', '02', '00', '02', '02', '00', '00', '00', '04', '04', '02', '02', '04', '07', '07', '00', '02', '02', '00', '07', '02', '02', '00', '04', '00', '04', '00', '02', '02', '00', '01', '00', '04', '00', '00', '02', '01', '00', '01', '03', '00', '00', '02', '00', '02', '02', '02', '00', '02', '00', '03', '00', '04', '00', '02', '04', '00', '01', '00', '04', '02', '02', '02', '00', '00', '00', '02', '04', '01', '00', '07', '02', '02', '02', '03', '00', '02', '04', '02', '01', '02', '02', '02', '03', '00', '02', '00', '00', '00', '02', '02', '02', '02', '02', '01', '02', '07', '00', '00', '00', '00', '02', '00', '00', '02', '00', '07', '03', '00', '04', '02', '01', '02', '00', '00', '02', '00', '01', '02', '02', '00', '01', '00', '04', '00', '04', '01', '00', '01', '00', '04', '00', '00', '02', '00', '07', '04', '00', '02', '04', '07', '00', '00', '04', '07', '07', '07', '07', '00', '04', '00', '07', '00', '00', '04', '04', '02', '00', '07', '07', '03', '07', '00', '02', '00', '01', '02', '00', '03', '02', '01', '02', '02', '03', '00', '02', '02', '00', '01', '00', '02', '00', '00', '04', '04', '04', '03', '02', '00', '02', '00', '04', '02', '07', '00', '02', '00', '02', '02', '02', '02', '01', '03', '07', '00', '00', '02', '04', '02', '02', '04', '04', '02', '03', '03', '01', '00', '07', '02', '02', '02', '00', '02', '01', '03', '07', '07', '02', '01', '07', '00', '02', '01', '00', '00', '04', '03', '04', '07', '00', '02', '03', '01', '03', '02', '00', '00', '02', '03', '07', '03', '00', '02', '04', '07', '02', '00', '03', '00', '02', '05', '02', '03', '07', '00', '02', '04', '07', '02', '04', '01', '04', '00', '00', '00', '00', '07', '00', '04', '07', '07', '07', '05', '01', '00', '00', '02', '04', '02', '03', '03', '02', '02', '03', '00', '03', '03', '01', '02', '04', '03', '04', '00', '07', '02', '02', '02', '00', '02', '02', '07', '00', '01', '04', '03', '02', '03', '01', '07', '00', '03', '00', '00', '07', '07', '00', '02', '03', '03', '02', '03', '01', '07', '04', '04', '02', '02', '07', '04', '04', '03', '03', '02', '00', '02', '02', '00', '03', '04', '03', '04', '03', '04', '03', '02', '00', '00', '01', '00', '03', '04', '04', '02', '05', '07', '07', '02', '04', '04', '00', '04', '02', '07', '04', '04', '07', '07', '04', '01', '01', '02', '01', '02', '02', '04', '00', '04', '03', '07', '04', '02', '04', '07', '04', '00', '01', '02', '00', '02', '02', '04', '07', '07', '02', '00', '00', '01', '01', '07', '07', '02', '04', '02', '04', '07', '01', '02', '00', '03', '03', '03', '07', '00', '02', '03', '00', '03', '01', '04', '03', '02', '04', '02', '00', '02', '01', '04', '01', '00', '00', '00', '00', '01', '05', '00', '04', '03', '02', '04', '07', '02', '00', '07', '03', '07', '00', '00', '07', '03', '02', '03', '04', '02', '02', '04', '02', '04', '04', '04', '00', '04', '07', '02', '03', '03', '03', '03', '01', '03', '02', '04', '00', '04', '03', '04', '04', '02', '00', '07', '03', '03', '03', '04', '00', '04', '03', '07', '03', '04', '01', '04', '04', '07', '07', '04', '03', '00', '05', '03', '03', '02', '01', '01', '00', '01', '00', '03', '00', '00', '01', '01', '02', '02', '01', '00', '02', '04', '01', '03', '01', '03', '07', '01', '02', '02', '02', '04', '07', '07', '03', '01', '02', '01', '02', '02', '03', '03', '01', '02', '01', '01', '07', '07', '02', '07', '03', '07', '02', '07', '02', '07', '03', '00', '04', '03', '00', '07', '07', '00', '01', '04', '03', '00', '00', '03', '07', '03', '05', '04', '07', '05', '04', '03', '01', '04', '00', '00', '01', '00', '03', '02', '03', '03', '07', '01', '02', '07', '03', '00', '03', '00', '07', '04', '04', '04', '01', '07', '07', '01', '03', '04', '02', '00', '00', '07', '01', '02', '04', '01', '01', '01', '02', '02', '01', '02', '07', '03', '04', '01', '04', '04', '00', '04', '02', '02', '07', '02', '07', '02', '00', '02', '02', '07', '02', '01', '04', '01', '01', '07', '02', '02', '01', '07', '03', '01', '04', '02', '07', '05', '07', '01', '00', '04', '04', '00', '01', '00', '07', '07', '00', '01', '07', '07', '00', '02', '02', '03', '02', '03', '02', '00', '04', '02', '04', '04', '00', '03', '00', '02', '01', '00', '01', '01', '07', '00', '02', '07', '00', '04', '01', '01', '03', '07', '00', '04', '07'] \n",
      "\n",
      "hierarchical concatenation\n",
      "['06', '06', '06', '06', '06', '06', '06', '06', '06', '06', '06', '06', '06', '06', '06', '06', '06', '06', '06', '06', '06', '06', '06', '06', '06', '06', '06', '06', '06', '06', '06', '06', '06', '06', '06', '06', '06', '06', '06', '06', '06', '06', '06', '06', '06', '06', '06', '06', '06', '06', '06', '06', '06', '06', '06', '06', '06', '06', '06', '06', '06', '06', '06', '06', '06', '06', '06', '06', '06', '06', '06', '06', '06', '06', '06', '06', '06', '06', '06', '06', '06', '06', '06', '06', '06', '06', '06', '06', '06', '06', '06', '06', '06', '06', '06', '06', '06', '06', '06', '06', '06', '06', '06', '06', '06', '06', '06', '06', '06', '06', '06', '06', '06', '06', '06', '06', '06', '06', '06', '06', '06', '06', '06', '06', '06', '06', '06', '06', '06', '06', '06', '06', '06', '06', '06', '06', '06', '06', '06', '06', '06', '06', '06', '06', '06', '06', '06', '06', '06', '06', '06', '06', '06', '06', '06', '06', '06', '06', '06', '06', '06', '06', '06', '06', '06', '06', '06', '06', '06', '06', '06', '06', '06', '06', '06', '06', '06', '06', '06', '06', '06', '06', '06', '06', '06', '06', '06', '06', '06', '06', '06', '06', '06', '06', '06', '06', '06', '06', '06', '06', '06', '06', '06', '06', '06', '06', '06', '06', '06', '06', '06', '06', '06', '06', '06', '06', '06', '06', '06', '06', '06', '06', '06', '06', '06', '06', '06', '06', '06', '06', '06', '06', '06', '06', '06', '06', '06', '06', '06', '06', '06', '06', '06', '00', '00', '00', '00', '00', '00', '00', '00', '00', '00', '00', '00', '00', '00', '00', '00', '00', '00', '00', '00', '00', '00', '00', '00', '00', '00', '00', '00', '00', '00', '00', '00', '00', '00', '00', '00', '00', '00', '00', '00', '00', '00', '00', '00', '00', '00', '00', '00', '00', '00', '00', '00', '00', '00', '00', '00', '00', '00', '00', '00', '00', '00', '00', '00', '00', '00', '00', '00', '00', '00', '00', '00', '00', '00', '00', '00', '00', '00', '00', '00', '00', '00', '00', '00', '00', '00', '00', '00', '00', '00', '00', '00', '00', '00', '00', '00', '00', '00', '00', '00', '00', '00', '00', '00', '00', '00', '00', '00', '00', '00', '00', '00', '00', '00', '00', '00', '00', '00', '00', '00', '00', '00', '00', '00', '00', '00', '00', '00', '00', '00', '00', '00', '00', '00', '00', '00', '00', '00', '00', '00', '00', '00', '00', '00', '00', '00', '00', '00', '00', '00', '00', '00', '00', '00', '00', '00', '00', '00', '00', '00', '00', '00', '00', '00', '00', '00', '00', '00', '00', '00', '00', '00', '00', '00', '00', '00', '00', '00', '00', '00', '00', '00', '00', '00', '00', '00', '00', '00', '00', '00', '00', '00', '00', '00', '00', '00', '00', '00', '00', '00', '00', '00', '00', '00', '00', '00', '00', '00', '00', '00', '00', '00', '00', '00', '00', '00', '00', '00', '00', '00', '00', '00', '00', '00', '00', '00', '00', '00', '00', '00', '00', '00', '00', '02', '02', '02', '02', '02', '02', '02', '02', '02', '02', '02', '02', '02', '02', '02', '02', '02', '02', '02', '02', '02', '02', '02', '02', '02', '02', '02', '02', '02', '02', '02', '02', '02', '02', '02', '02', '02', '02', '02', '02', '02', '02', '02', '02', '02', '02', '02', '02', '02', '02', '02', '02', '02', '02', '02', '02', '02', '02', '02', '02', '02', '02', '02', '02', '02', '02', '02', '02', '02', '02', '02', '02', '02', '02', '02', '02', '02', '02', '02', '02', '02', '02', '02', '02', '02', '02', '02', '02', '02', '02', '02', '02', '02', '02', '02', '02', '02', '02', '02', '02', '02', '02', '02', '02', '02', '02', '02', '02', '02', '02', '02', '02', '02', '02', '02', '02', '02', '02', '02', '02', '02', '02', '02', '02', '02', '02', '02', '02', '02', '02', '02', '02', '02', '02', '02', '02', '02', '02', '02', '02', '02', '02', '02', '02', '02', '02', '02', '02', '02', '02', '02', '02', '02', '02', '02', '02', '02', '02', '02', '02', '02', '02', '02', '02', '02', '02', '02', '02', '02', '02', '02', '02', '02', '02', '02', '02', '02', '02', '02', '02', '02', '02', '02', '02', '02', '02', '02', '02', '02', '02', '02', '02', '02', '02', '02', '02', '02', '02', '02', '02', '02', '02', '02', '02', '02', '02', '02', '02', '02', '02', '02', '02', '02', '02', '02', '02', '02', '02', '02', '02', '02', '02', '02', '02', '02', '02', '02', '02', '02', '02', '02', '02', '02', '02', '02', '02', '02', '02', '02', '02', '02', '02', '02', '02', '02', '02', '02', '02', '02', '02', '02', '02', '02', '02', '02', '02', '02', '07', '07', '07', '07', '07', '07', '07', '07', '07', '07', '07', '07', '07', '07', '07', '07', '07', '07', '07', '07', '07', '07', '07', '07', '07', '07', '07', '07', '07', '07', '07', '07', '07', '07', '07', '07', '07', '07', '07', '07', '07', '07', '07', '07', '07', '07', '07', '07', '07', '07', '07', '07', '07', '07', '07', '07', '07', '07', '07', '07', '07', '07', '07', '07', '07', '07', '07', '07', '07', '07', '07', '07', '07', '07', '07', '07', '07', '07', '07', '07', '07', '07', '07', '07', '07', '07', '07', '07', '07', '07', '07', '07', '07', '07', '07', '07', '07', '07', '07', '07', '07', '07', '07', '07', '07', '07', '07', '07', '07', '07', '07', '07', '07', '07', '07', '07', '07', '07', '07', '07', '07', '07', '07', '07', '07', '07', '07', '07', '07', '07', '07', '07', '07', '07', '07', '07', '07', '07', '07', '07', '07', '07', '07', '07', '07', '07', '07', '07', '07', '07', '07', '07', '07', '07', '07', '07', '07', '07', '07', '07', '07', '07', '07', '07', '07', '07', '07', '07', '07', '07', '07', '07', '07', '07', '07', '07', '07', '07', '07', '07', '07', '07', '07', '07', '07', '07', '07', '07', '07', '07', '07', '07', '07', '07', '07', '07', '07', '07', '07', '07', '07', '07', '07', '07', '07', '07', '07', '07', '07', '07', '07', '07', '07', '07', '07', '07', '07', '07', '07', '07', '07', '07', '07', '07', '07', '07', '07', '07', '07', '07', '07', '07', '07', '07', '07', '07', '07', '07', '07', '07', '07', '07', '07', '07', '07', '07', '07', '07', '07', '04', '04', '04', '04', '04', '04', '04', '04', '04', '04', '04', '04', '04', '04', '04', '04', '04', '04']\n"
     ]
    }
   ],
   "source": [
    "df_ = df.copy()\n",
    "\n",
    "#\n",
    "nbrs = NearestNeighbors(n_neighbors=len(df_), metric='euclidean').fit(df_['vector_full'].values.tolist())\n",
    "distances, indices = nbrs.kneighbors([df_['vector_full'].iloc[sample_id]]) # EDIT VECTOR 0 HERE\n",
    "print('regular concatenation')\n",
    "print(df_['class_1'].iloc[indices[0]].values.tolist()[0:1000], '\\n')\n",
    "\n",
    "#\n",
    "msc = df_total['minimum_scale_coefficient'].max()\n",
    "df_['vector_full'] = df_['vector_full'].apply(lambda x : vector_(x, new_vector_length, msc))\n",
    "nbrs = NearestNeighbors(n_neighbors=len(df_), metric='euclidean').fit(df_['vector_full'].values.tolist())\n",
    "distances, indices = nbrs.kneighbors([df_['vector_full'].iloc[sample_id]]) # EDIT VECTOR 0 HERE\n",
    "print('hierarchical concatenation')\n",
    "print(df_['class_1'].iloc[indices[0]].values.tolist()[0:1000])"
   ]
  },
  {
   "cell_type": "markdown",
   "metadata": {},
   "source": [
    "### counting geometrical impossibilities, if any"
   ]
  },
  {
   "cell_type": "code",
   "execution_count": 9,
   "metadata": {},
   "outputs": [
    {
     "data": {
      "text/plain": [
       "0"
      ]
     },
     "execution_count": 9,
     "metadata": {},
     "output_type": "execute_result"
    }
   ],
   "source": [
    "# count geometrical impossibilities\n",
    "len(df_total[df_total['minimum_scale_coefficient']==-1])"
   ]
  },
  {
   "cell_type": "markdown",
   "metadata": {},
   "source": [
    "### testing the entire dataset by adding/removing epsilon (test_score)"
   ]
  },
  {
   "cell_type": "code",
   "execution_count": 60,
   "metadata": {},
   "outputs": [
    {
     "name": "stderr",
     "output_type": "stream",
     "text": [
      "class: 06: 100%|██████████| 1701/1701 [07:55<00:00,  3.57it/s]\n",
      "class: 04: 100%|██████████| 1792/1792 [08:17<00:00,  3.60it/s]\n",
      "class: 02: 100%|██████████| 1799/1799 [08:38<00:00,  3.47it/s]\n",
      "class: 05: 100%|██████████| 1736/1736 [08:19<00:00,  3.47it/s]\n",
      "class: 03: 100%|██████████| 1848/1848 [08:41<00:00,  3.54it/s]\n",
      "class: 07: 100%|██████████| 1743/1743 [08:11<00:00,  3.54it/s]\n",
      "class: 00: 100%|██████████| 1631/1631 [07:42<00:00,  3.53it/s]\n",
      "class: 01: 100%|██████████| 1750/1750 [08:16<00:00,  3.52it/s]\n"
     ]
    }
   ],
   "source": [
    "from tqdm import tqdm\n",
    "\n",
    "class Found(Exception): pass\n",
    "\n",
    "for key_A in [*df_total['A'].unique()]:\n",
    "    for sample_index in tqdm(range(len(df_total[df_total['A']==key_A]['index'])), desc=f'class: {key_A}'):\n",
    "        sample_id = df_total[df_total['A']==key_A]['index'].iloc[sample_index]\n",
    "        msc = get_msc(df_total, sample_id=sample_id, verbose=False)\n",
    "        test = test_knn(\n",
    "            df, \n",
    "            class_n=key_A, \n",
    "            minimum_scale_coefficient=msc, \n",
    "            test_amount=test_amount,\n",
    "            sample_id=sample_id, \n",
    "            verbose=False\n",
    "        )\n",
    "        if test == False : \n",
    "            raise Found"
   ]
  },
  {
   "cell_type": "markdown",
   "metadata": {},
   "source": [
    "### computing merge function"
   ]
  },
  {
   "cell_type": "code",
   "execution_count": 93,
   "metadata": {},
   "outputs": [
    {
     "data": {
      "application/vnd.plotly.v1+json": {
       "config": {
        "plotlyServerURL": "https://plot.ly"
       },
       "data": [
        {
         "mode": "lines",
         "type": "scatter",
         "x": [
          0.05,
          0.1,
          0.15000000000000002,
          0.2,
          0.25,
          0.3,
          0.35,
          0.39999999999999997,
          0.44999999999999996,
          0.49999999999999994,
          0.5499999999999999,
          0.6,
          0.65,
          0.7000000000000001,
          0.7500000000000001,
          0.8000000000000002,
          0.8500000000000002,
          0.9000000000000002,
          0.9500000000000003,
          1.0000000000000002,
          1.0500000000000003,
          1.1000000000000003,
          1.1500000000000004,
          1.2000000000000004,
          1.2500000000000004,
          1.3000000000000005,
          1.3500000000000005,
          1.4000000000000006,
          1.4500000000000006,
          1.5000000000000007,
          1.5500000000000007,
          1.6000000000000008,
          1.6500000000000008,
          1.7000000000000008,
          1.7500000000000009,
          1.800000000000001,
          1.850000000000001,
          1.900000000000001,
          1.950000000000001,
          2.000000000000001,
          2.0500000000000007,
          2.1000000000000005,
          2.1500000000000004,
          2.2,
          2.25,
          2.3,
          2.3499999999999996,
          2.3999999999999995,
          2.4499999999999993,
          2.499999999999999,
          2.549999999999999,
          2.5999999999999988,
          2.6499999999999986,
          2.6999999999999984,
          2.7499999999999982,
          2.799999999999998,
          2.849999999999998,
          2.8999999999999977,
          2.9499999999999975,
          2.9999999999999973,
          3.049999999999997,
          3.099999999999997,
          3.149999999999997,
          3.1999999999999966,
          3.2499999999999964,
          3.2999999999999963,
          3.349999999999996,
          3.399999999999996,
          3.4499999999999957,
          3.4999999999999956,
          3.5499999999999954,
          3.599999999999995,
          3.649999999999995,
          3.699999999999995,
          3.7499999999999947,
          3.7999999999999945,
          3.8499999999999943,
          3.899999999999994,
          3.949999999999994,
          3.999999999999994,
          4.049999999999994,
          4.099999999999993,
          4.149999999999993,
          4.199999999999993,
          4.249999999999993,
          4.299999999999993,
          4.3499999999999925,
          4.399999999999992,
          4.449999999999992,
          4.499999999999992,
          4.549999999999992,
          4.599999999999992,
          4.6499999999999915,
          4.699999999999991,
          4.749999999999991,
          4.799999999999991,
          4.849999999999991,
          4.899999999999991,
          4.94999999999999,
          4.99999999999999,
          5.04999999999999,
          5.09999999999999,
          5.14999999999999,
          5.1999999999999895,
          5.249999999999989,
          5.299999999999989,
          5.349999999999989,
          5.399999999999989,
          5.449999999999989,
          5.4999999999999885,
          5.549999999999988,
          5.599999999999988,
          5.649999999999988,
          5.699999999999988,
          5.749999999999988,
          5.799999999999987,
          5.849999999999987,
          5.899999999999987,
          5.949999999999987,
          5.999999999999987,
          6.0499999999999865,
          6.099999999999986,
          6.149999999999986,
          6.199999999999986,
          6.249999999999986,
          6.299999999999986,
          6.349999999999985,
          6.399999999999985,
          6.449999999999985,
          6.499999999999985,
          6.549999999999985,
          6.5999999999999845,
          6.649999999999984,
          6.699999999999984,
          6.749999999999984,
          6.799999999999984,
          6.849999999999984,
          6.8999999999999835,
          6.949999999999983,
          6.999999999999983,
          7.049999999999983,
          7.099999999999983,
          7.149999999999983,
          7.199999999999982,
          7.249999999999982,
          7.299999999999982,
          7.349999999999982,
          7.399999999999982,
          7.4499999999999815,
          7.499999999999981,
          7.549999999999981,
          7.599999999999981,
          7.649999999999981,
          7.699999999999981,
          7.7499999999999805,
          7.79999999999998,
          7.84999999999998,
          7.89999999999998,
          7.94999999999998,
          7.99999999999998,
          8.04999999999998,
          8.09999999999998,
          8.14999999999998,
          8.199999999999982,
          8.249999999999982,
          8.299999999999983,
          8.349999999999984,
          8.399999999999984,
          8.449999999999985,
          8.499999999999986,
          8.549999999999986,
          8.599999999999987,
          8.649999999999988,
          8.699999999999989,
          8.74999999999999,
          8.79999999999999,
          8.84999999999999,
          8.899999999999991,
          8.949999999999992,
          8.999999999999993,
          9.049999999999994,
          9.099999999999994,
          9.149999999999995,
          9.199999999999996,
          9.249999999999996,
          9.299999999999997,
          9.349999999999998,
          9.399999999999999,
          9.45,
          9.5,
          9.55,
          9.600000000000001,
          9.650000000000002,
          9.700000000000003,
          9.750000000000004,
          9.800000000000004,
          9.850000000000005,
          9.900000000000006,
          9.950000000000006,
          10.000000000000007,
          10.050000000000008,
          10.100000000000009,
          10.15000000000001,
          10.20000000000001,
          10.25000000000001,
          10.300000000000011,
          10.350000000000012,
          10.400000000000013,
          10.450000000000014,
          10.500000000000014,
          10.550000000000015,
          10.600000000000016,
          10.650000000000016,
          10.700000000000017,
          10.750000000000018,
          10.800000000000018,
          10.85000000000002,
          10.90000000000002,
          10.95000000000002,
          11.000000000000021,
          11.050000000000022,
          11.100000000000023,
          11.150000000000023,
          11.200000000000024,
          11.250000000000025,
          11.300000000000026,
          11.350000000000026,
          11.400000000000027,
          11.450000000000028,
          11.500000000000028,
          11.55000000000003,
          11.60000000000003,
          11.65000000000003,
          11.700000000000031,
          11.750000000000032,
          11.800000000000033,
          11.850000000000033,
          11.900000000000034,
          11.950000000000035,
          12.000000000000036,
          12.050000000000036,
          12.100000000000037,
          12.150000000000038,
          12.200000000000038,
          12.250000000000039,
          12.30000000000004,
          12.35000000000004,
          12.400000000000041,
          12.450000000000042,
          12.500000000000043,
          12.550000000000043,
          12.600000000000044,
          12.650000000000045,
          12.700000000000045,
          12.750000000000046,
          12.800000000000047,
          12.850000000000048,
          12.900000000000048,
          12.950000000000049,
          13.00000000000005,
          13.05000000000005,
          13.100000000000051,
          13.150000000000052,
          13.200000000000053,
          13.250000000000053,
          13.300000000000054,
          13.350000000000055,
          13.400000000000055,
          13.450000000000056,
          13.500000000000057,
          13.550000000000058,
          13.600000000000058,
          13.650000000000059,
          13.70000000000006,
          13.75000000000006,
          13.800000000000061,
          13.850000000000062,
          13.900000000000063,
          13.950000000000063,
          14.000000000000064,
          14.050000000000065,
          14.100000000000065,
          14.150000000000066,
          14.200000000000067,
          14.250000000000068,
          14.300000000000068,
          14.350000000000069,
          14.40000000000007,
          14.45000000000007,
          14.500000000000071,
          14.550000000000072,
          14.600000000000072,
          14.650000000000073,
          14.700000000000074,
          14.750000000000075,
          14.800000000000075,
          14.850000000000076,
          14.900000000000077,
          14.950000000000077,
          15.000000000000078,
          15.050000000000079,
          15.10000000000008,
          15.15000000000008,
          15.200000000000081,
          15.250000000000082,
          15.300000000000082,
          15.350000000000083,
          15.400000000000084,
          15.450000000000085,
          15.500000000000085,
          15.550000000000086,
          15.600000000000087,
          15.650000000000087,
          15.700000000000088,
          15.750000000000089,
          15.80000000000009,
          15.85000000000009,
          15.900000000000091,
          15.950000000000092,
          16.000000000000092,
          16.050000000000093,
          16.100000000000094,
          16.150000000000095,
          16.200000000000095,
          16.250000000000096,
          16.300000000000097,
          16.350000000000097,
          16.400000000000098,
          16.4500000000001,
          16.5000000000001,
          16.5500000000001,
          16.6000000000001,
          16.6500000000001,
          16.700000000000102,
          16.750000000000103,
          16.800000000000104,
          16.850000000000104,
          16.900000000000105,
          16.950000000000106,
          17.000000000000107,
          17.050000000000107,
          17.100000000000108,
          17.15000000000011,
          17.20000000000011,
          17.25000000000011,
          17.30000000000011,
          17.35000000000011,
          17.400000000000112,
          17.450000000000113,
          17.500000000000114,
          17.550000000000114,
          17.600000000000115,
          17.650000000000116,
          17.700000000000117,
          17.750000000000117,
          17.800000000000118,
          17.85000000000012,
          17.90000000000012,
          17.95000000000012,
          18.00000000000012,
          18.05000000000012,
          18.100000000000122,
          18.150000000000123,
          18.200000000000124,
          18.250000000000124,
          18.300000000000125,
          18.350000000000126,
          18.400000000000126,
          18.450000000000127,
          18.500000000000128,
          18.55000000000013,
          18.60000000000013,
          18.65000000000013,
          18.70000000000013,
          18.75000000000013,
          18.800000000000132,
          18.850000000000133,
          18.900000000000134,
          18.950000000000134,
          19.000000000000135,
          19.050000000000136,
          19.100000000000136,
          19.150000000000137,
          19.200000000000138,
          19.25000000000014,
          19.30000000000014,
          19.35000000000014,
          19.40000000000014,
          19.45000000000014,
          19.500000000000142,
          19.550000000000143,
          19.600000000000144,
          19.650000000000144,
          19.700000000000145,
          19.750000000000146,
          19.800000000000146,
          19.850000000000147,
          19.900000000000148,
          19.95000000000015,
          20.00000000000015,
          20.05000000000015,
          20.10000000000015,
          20.15000000000015,
          20.200000000000152,
          20.250000000000153,
          20.300000000000153,
          20.350000000000154,
          20.400000000000155,
          20.450000000000156,
          20.500000000000156,
          20.550000000000157,
          20.600000000000158
         ],
         "y": [
          14000,
          14000,
          14000,
          14000,
          14000,
          14000,
          14000,
          14000,
          14000,
          14000,
          14000,
          14000,
          14000,
          13998,
          13897,
          13378,
          12708,
          12216,
          12051,
          12003,
          12001,
          12000,
          12000,
          12000,
          12000,
          12000,
          12000,
          12000,
          12000,
          12000,
          11998,
          11987,
          11958,
          11903,
          11852,
          11797,
          11730,
          11666,
          11613,
          11569,
          11534,
          11513,
          11497,
          11473,
          11414,
          11326,
          11223,
          11073,
          10916,
          10730,
          10556,
          10391,
          10199,
          10031,
          9865,
          9722,
          9561,
          9387,
          9229,
          9076,
          8895,
          8756,
          8595,
          8430,
          8289,
          8150,
          8028,
          7921,
          7816,
          7713,
          7589,
          7486,
          7363,
          7239,
          7139,
          7016,
          6915,
          6807,
          6700,
          6623,
          6563,
          6492,
          6433,
          6383,
          6344,
          6312,
          6279,
          6242,
          6219,
          6191,
          6143,
          6086,
          6021,
          5968,
          5905,
          5817,
          5734,
          5648,
          5557,
          5469,
          5386,
          5292,
          5214,
          5143,
          5058,
          4988,
          4910,
          4842,
          4774,
          4706,
          4651,
          4591,
          4544,
          4503,
          4432,
          4382,
          4332,
          4266,
          4221,
          4164,
          4100,
          4048,
          3980,
          3913,
          3850,
          3798,
          3721,
          3663,
          3596,
          3536,
          3476,
          3407,
          3333,
          3270,
          3217,
          3161,
          3116,
          3077,
          3038,
          3000,
          2953,
          2921,
          2897,
          2874,
          2852,
          2833,
          2809,
          2799,
          2782,
          2768,
          2755,
          2738,
          2726,
          2710,
          2693,
          2678,
          2671,
          2663,
          2649,
          2635,
          2619,
          2594,
          2581,
          2566,
          2545,
          2530,
          2512,
          2488,
          2477,
          2467,
          2456,
          2436,
          2419,
          2402,
          2387,
          2373,
          2354,
          2336,
          2318,
          2310,
          2292,
          2282,
          2269,
          2255,
          2244,
          2225,
          2211,
          2202,
          2181,
          2155,
          2131,
          2106,
          2086,
          2064,
          2046,
          2020,
          1990,
          1964,
          1930,
          1904,
          1889,
          1864,
          1829,
          1804,
          1780,
          1753,
          1729,
          1700,
          1678,
          1657,
          1634,
          1612,
          1592,
          1577,
          1567,
          1554,
          1537,
          1516,
          1500,
          1486,
          1466,
          1437,
          1409,
          1390,
          1366,
          1337,
          1320,
          1302,
          1277,
          1243,
          1218,
          1189,
          1160,
          1130,
          1104,
          1084,
          1056,
          1036,
          1014,
          990,
          962,
          942,
          923,
          909,
          882,
          859,
          842,
          817,
          794,
          775,
          753,
          730,
          712,
          686,
          663,
          637,
          618,
          603,
          580,
          562,
          549,
          529,
          515,
          502,
          485,
          475,
          462,
          447,
          444,
          425,
          409,
          396,
          388,
          378,
          369,
          359,
          351,
          337,
          329,
          321,
          319,
          314,
          309,
          304,
          299,
          295,
          289,
          289,
          281,
          277,
          273,
          267,
          265,
          263,
          262,
          262,
          259,
          254,
          254,
          253,
          252,
          252,
          252,
          251,
          250,
          249,
          249,
          249,
          249,
          248,
          247,
          246,
          245,
          244,
          241,
          240,
          237,
          233,
          231,
          229,
          226,
          222,
          221,
          220,
          215,
          212,
          210,
          204,
          199,
          195,
          191,
          186,
          177,
          176,
          174,
          169,
          167,
          162,
          158,
          152,
          147,
          141,
          139,
          128,
          122,
          120,
          108,
          107,
          103,
          97,
          93,
          86,
          81,
          79,
          69,
          68,
          64,
          60,
          54,
          49,
          46,
          44,
          41,
          38,
          36,
          34,
          32,
          27,
          23,
          20,
          19,
          16,
          16,
          16,
          15,
          13,
          10,
          8,
          8,
          7,
          6,
          6,
          5,
          5,
          5,
          5,
          5,
          5,
          4,
          4,
          4,
          3,
          3,
          3,
          3,
          3,
          3,
          2,
          2,
          2,
          2,
          2,
          2,
          2,
          1,
          1,
          1,
          1,
          1,
          1,
          1,
          0
         ]
        }
       ],
       "layout": {
        "template": {
         "data": {
          "bar": [
           {
            "error_x": {
             "color": "#f2f5fa"
            },
            "error_y": {
             "color": "#f2f5fa"
            },
            "marker": {
             "line": {
              "color": "rgb(17,17,17)",
              "width": 0.5
             },
             "pattern": {
              "fillmode": "overlay",
              "size": 10,
              "solidity": 0.2
             }
            },
            "type": "bar"
           }
          ],
          "barpolar": [
           {
            "marker": {
             "line": {
              "color": "rgb(17,17,17)",
              "width": 0.5
             },
             "pattern": {
              "fillmode": "overlay",
              "size": 10,
              "solidity": 0.2
             }
            },
            "type": "barpolar"
           }
          ],
          "carpet": [
           {
            "aaxis": {
             "endlinecolor": "#A2B1C6",
             "gridcolor": "#506784",
             "linecolor": "#506784",
             "minorgridcolor": "#506784",
             "startlinecolor": "#A2B1C6"
            },
            "baxis": {
             "endlinecolor": "#A2B1C6",
             "gridcolor": "#506784",
             "linecolor": "#506784",
             "minorgridcolor": "#506784",
             "startlinecolor": "#A2B1C6"
            },
            "type": "carpet"
           }
          ],
          "choropleth": [
           {
            "colorbar": {
             "outlinewidth": 0,
             "ticks": ""
            },
            "type": "choropleth"
           }
          ],
          "contour": [
           {
            "colorbar": {
             "outlinewidth": 0,
             "ticks": ""
            },
            "colorscale": [
             [
              0,
              "#0d0887"
             ],
             [
              0.1111111111111111,
              "#46039f"
             ],
             [
              0.2222222222222222,
              "#7201a8"
             ],
             [
              0.3333333333333333,
              "#9c179e"
             ],
             [
              0.4444444444444444,
              "#bd3786"
             ],
             [
              0.5555555555555556,
              "#d8576b"
             ],
             [
              0.6666666666666666,
              "#ed7953"
             ],
             [
              0.7777777777777778,
              "#fb9f3a"
             ],
             [
              0.8888888888888888,
              "#fdca26"
             ],
             [
              1,
              "#f0f921"
             ]
            ],
            "type": "contour"
           }
          ],
          "contourcarpet": [
           {
            "colorbar": {
             "outlinewidth": 0,
             "ticks": ""
            },
            "type": "contourcarpet"
           }
          ],
          "heatmap": [
           {
            "colorbar": {
             "outlinewidth": 0,
             "ticks": ""
            },
            "colorscale": [
             [
              0,
              "#0d0887"
             ],
             [
              0.1111111111111111,
              "#46039f"
             ],
             [
              0.2222222222222222,
              "#7201a8"
             ],
             [
              0.3333333333333333,
              "#9c179e"
             ],
             [
              0.4444444444444444,
              "#bd3786"
             ],
             [
              0.5555555555555556,
              "#d8576b"
             ],
             [
              0.6666666666666666,
              "#ed7953"
             ],
             [
              0.7777777777777778,
              "#fb9f3a"
             ],
             [
              0.8888888888888888,
              "#fdca26"
             ],
             [
              1,
              "#f0f921"
             ]
            ],
            "type": "heatmap"
           }
          ],
          "heatmapgl": [
           {
            "colorbar": {
             "outlinewidth": 0,
             "ticks": ""
            },
            "colorscale": [
             [
              0,
              "#0d0887"
             ],
             [
              0.1111111111111111,
              "#46039f"
             ],
             [
              0.2222222222222222,
              "#7201a8"
             ],
             [
              0.3333333333333333,
              "#9c179e"
             ],
             [
              0.4444444444444444,
              "#bd3786"
             ],
             [
              0.5555555555555556,
              "#d8576b"
             ],
             [
              0.6666666666666666,
              "#ed7953"
             ],
             [
              0.7777777777777778,
              "#fb9f3a"
             ],
             [
              0.8888888888888888,
              "#fdca26"
             ],
             [
              1,
              "#f0f921"
             ]
            ],
            "type": "heatmapgl"
           }
          ],
          "histogram": [
           {
            "marker": {
             "pattern": {
              "fillmode": "overlay",
              "size": 10,
              "solidity": 0.2
             }
            },
            "type": "histogram"
           }
          ],
          "histogram2d": [
           {
            "colorbar": {
             "outlinewidth": 0,
             "ticks": ""
            },
            "colorscale": [
             [
              0,
              "#0d0887"
             ],
             [
              0.1111111111111111,
              "#46039f"
             ],
             [
              0.2222222222222222,
              "#7201a8"
             ],
             [
              0.3333333333333333,
              "#9c179e"
             ],
             [
              0.4444444444444444,
              "#bd3786"
             ],
             [
              0.5555555555555556,
              "#d8576b"
             ],
             [
              0.6666666666666666,
              "#ed7953"
             ],
             [
              0.7777777777777778,
              "#fb9f3a"
             ],
             [
              0.8888888888888888,
              "#fdca26"
             ],
             [
              1,
              "#f0f921"
             ]
            ],
            "type": "histogram2d"
           }
          ],
          "histogram2dcontour": [
           {
            "colorbar": {
             "outlinewidth": 0,
             "ticks": ""
            },
            "colorscale": [
             [
              0,
              "#0d0887"
             ],
             [
              0.1111111111111111,
              "#46039f"
             ],
             [
              0.2222222222222222,
              "#7201a8"
             ],
             [
              0.3333333333333333,
              "#9c179e"
             ],
             [
              0.4444444444444444,
              "#bd3786"
             ],
             [
              0.5555555555555556,
              "#d8576b"
             ],
             [
              0.6666666666666666,
              "#ed7953"
             ],
             [
              0.7777777777777778,
              "#fb9f3a"
             ],
             [
              0.8888888888888888,
              "#fdca26"
             ],
             [
              1,
              "#f0f921"
             ]
            ],
            "type": "histogram2dcontour"
           }
          ],
          "mesh3d": [
           {
            "colorbar": {
             "outlinewidth": 0,
             "ticks": ""
            },
            "type": "mesh3d"
           }
          ],
          "parcoords": [
           {
            "line": {
             "colorbar": {
              "outlinewidth": 0,
              "ticks": ""
             }
            },
            "type": "parcoords"
           }
          ],
          "pie": [
           {
            "automargin": true,
            "type": "pie"
           }
          ],
          "scatter": [
           {
            "marker": {
             "line": {
              "color": "#283442"
             }
            },
            "type": "scatter"
           }
          ],
          "scatter3d": [
           {
            "line": {
             "colorbar": {
              "outlinewidth": 0,
              "ticks": ""
             }
            },
            "marker": {
             "colorbar": {
              "outlinewidth": 0,
              "ticks": ""
             }
            },
            "type": "scatter3d"
           }
          ],
          "scattercarpet": [
           {
            "marker": {
             "colorbar": {
              "outlinewidth": 0,
              "ticks": ""
             }
            },
            "type": "scattercarpet"
           }
          ],
          "scattergeo": [
           {
            "marker": {
             "colorbar": {
              "outlinewidth": 0,
              "ticks": ""
             }
            },
            "type": "scattergeo"
           }
          ],
          "scattergl": [
           {
            "marker": {
             "line": {
              "color": "#283442"
             }
            },
            "type": "scattergl"
           }
          ],
          "scattermapbox": [
           {
            "marker": {
             "colorbar": {
              "outlinewidth": 0,
              "ticks": ""
             }
            },
            "type": "scattermapbox"
           }
          ],
          "scatterpolar": [
           {
            "marker": {
             "colorbar": {
              "outlinewidth": 0,
              "ticks": ""
             }
            },
            "type": "scatterpolar"
           }
          ],
          "scatterpolargl": [
           {
            "marker": {
             "colorbar": {
              "outlinewidth": 0,
              "ticks": ""
             }
            },
            "type": "scatterpolargl"
           }
          ],
          "scatterternary": [
           {
            "marker": {
             "colorbar": {
              "outlinewidth": 0,
              "ticks": ""
             }
            },
            "type": "scatterternary"
           }
          ],
          "surface": [
           {
            "colorbar": {
             "outlinewidth": 0,
             "ticks": ""
            },
            "colorscale": [
             [
              0,
              "#0d0887"
             ],
             [
              0.1111111111111111,
              "#46039f"
             ],
             [
              0.2222222222222222,
              "#7201a8"
             ],
             [
              0.3333333333333333,
              "#9c179e"
             ],
             [
              0.4444444444444444,
              "#bd3786"
             ],
             [
              0.5555555555555556,
              "#d8576b"
             ],
             [
              0.6666666666666666,
              "#ed7953"
             ],
             [
              0.7777777777777778,
              "#fb9f3a"
             ],
             [
              0.8888888888888888,
              "#fdca26"
             ],
             [
              1,
              "#f0f921"
             ]
            ],
            "type": "surface"
           }
          ],
          "table": [
           {
            "cells": {
             "fill": {
              "color": "#506784"
             },
             "line": {
              "color": "rgb(17,17,17)"
             }
            },
            "header": {
             "fill": {
              "color": "#2a3f5f"
             },
             "line": {
              "color": "rgb(17,17,17)"
             }
            },
            "type": "table"
           }
          ]
         },
         "layout": {
          "annotationdefaults": {
           "arrowcolor": "#f2f5fa",
           "arrowhead": 0,
           "arrowwidth": 1
          },
          "autotypenumbers": "strict",
          "coloraxis": {
           "colorbar": {
            "outlinewidth": 0,
            "ticks": ""
           }
          },
          "colorscale": {
           "diverging": [
            [
             0,
             "#8e0152"
            ],
            [
             0.1,
             "#c51b7d"
            ],
            [
             0.2,
             "#de77ae"
            ],
            [
             0.3,
             "#f1b6da"
            ],
            [
             0.4,
             "#fde0ef"
            ],
            [
             0.5,
             "#f7f7f7"
            ],
            [
             0.6,
             "#e6f5d0"
            ],
            [
             0.7,
             "#b8e186"
            ],
            [
             0.8,
             "#7fbc41"
            ],
            [
             0.9,
             "#4d9221"
            ],
            [
             1,
             "#276419"
            ]
           ],
           "sequential": [
            [
             0,
             "#0d0887"
            ],
            [
             0.1111111111111111,
             "#46039f"
            ],
            [
             0.2222222222222222,
             "#7201a8"
            ],
            [
             0.3333333333333333,
             "#9c179e"
            ],
            [
             0.4444444444444444,
             "#bd3786"
            ],
            [
             0.5555555555555556,
             "#d8576b"
            ],
            [
             0.6666666666666666,
             "#ed7953"
            ],
            [
             0.7777777777777778,
             "#fb9f3a"
            ],
            [
             0.8888888888888888,
             "#fdca26"
            ],
            [
             1,
             "#f0f921"
            ]
           ],
           "sequentialminus": [
            [
             0,
             "#0d0887"
            ],
            [
             0.1111111111111111,
             "#46039f"
            ],
            [
             0.2222222222222222,
             "#7201a8"
            ],
            [
             0.3333333333333333,
             "#9c179e"
            ],
            [
             0.4444444444444444,
             "#bd3786"
            ],
            [
             0.5555555555555556,
             "#d8576b"
            ],
            [
             0.6666666666666666,
             "#ed7953"
            ],
            [
             0.7777777777777778,
             "#fb9f3a"
            ],
            [
             0.8888888888888888,
             "#fdca26"
            ],
            [
             1,
             "#f0f921"
            ]
           ]
          },
          "colorway": [
           "#636efa",
           "#EF553B",
           "#00cc96",
           "#ab63fa",
           "#FFA15A",
           "#19d3f3",
           "#FF6692",
           "#B6E880",
           "#FF97FF",
           "#FECB52"
          ],
          "font": {
           "color": "#f2f5fa"
          },
          "geo": {
           "bgcolor": "rgb(17,17,17)",
           "lakecolor": "rgb(17,17,17)",
           "landcolor": "rgb(17,17,17)",
           "showlakes": true,
           "showland": true,
           "subunitcolor": "#506784"
          },
          "hoverlabel": {
           "align": "left"
          },
          "hovermode": "closest",
          "mapbox": {
           "style": "dark"
          },
          "paper_bgcolor": "rgb(17,17,17)",
          "plot_bgcolor": "rgb(17,17,17)",
          "polar": {
           "angularaxis": {
            "gridcolor": "#506784",
            "linecolor": "#506784",
            "ticks": ""
           },
           "bgcolor": "rgb(17,17,17)",
           "radialaxis": {
            "gridcolor": "#506784",
            "linecolor": "#506784",
            "ticks": ""
           }
          },
          "scene": {
           "xaxis": {
            "backgroundcolor": "rgb(17,17,17)",
            "gridcolor": "#506784",
            "gridwidth": 2,
            "linecolor": "#506784",
            "showbackground": true,
            "ticks": "",
            "zerolinecolor": "#C8D4E3"
           },
           "yaxis": {
            "backgroundcolor": "rgb(17,17,17)",
            "gridcolor": "#506784",
            "gridwidth": 2,
            "linecolor": "#506784",
            "showbackground": true,
            "ticks": "",
            "zerolinecolor": "#C8D4E3"
           },
           "zaxis": {
            "backgroundcolor": "rgb(17,17,17)",
            "gridcolor": "#506784",
            "gridwidth": 2,
            "linecolor": "#506784",
            "showbackground": true,
            "ticks": "",
            "zerolinecolor": "#C8D4E3"
           }
          },
          "shapedefaults": {
           "line": {
            "color": "#f2f5fa"
           }
          },
          "sliderdefaults": {
           "bgcolor": "#C8D4E3",
           "bordercolor": "rgb(17,17,17)",
           "borderwidth": 1,
           "tickwidth": 0
          },
          "ternary": {
           "aaxis": {
            "gridcolor": "#506784",
            "linecolor": "#506784",
            "ticks": ""
           },
           "baxis": {
            "gridcolor": "#506784",
            "linecolor": "#506784",
            "ticks": ""
           },
           "bgcolor": "rgb(17,17,17)",
           "caxis": {
            "gridcolor": "#506784",
            "linecolor": "#506784",
            "ticks": ""
           }
          },
          "title": {
           "x": 0.05
          },
          "updatemenudefaults": {
           "bgcolor": "#506784",
           "borderwidth": 0
          },
          "xaxis": {
           "automargin": true,
           "gridcolor": "#283442",
           "linecolor": "#506784",
           "ticks": "",
           "title": {
            "standoff": 15
           },
           "zerolinecolor": "#283442",
           "zerolinewidth": 2
          },
          "yaxis": {
           "automargin": true,
           "gridcolor": "#283442",
           "linecolor": "#506784",
           "ticks": "",
           "title": {
            "standoff": 15
           },
           "zerolinecolor": "#283442",
           "zerolinewidth": 2
          }
         }
        },
        "title": {
         "text": "HVC-function"
        },
        "xaxis": {
         "title": {
          "text": "msc"
         }
        },
        "yaxis": {
         "title": {
          "text": "contaminations"
         }
        }
       }
      }
     },
     "metadata": {},
     "output_type": "display_data"
    }
   ],
   "source": [
    "import plotly.graph_objects as go\n",
    "\n",
    "def plot_series(series):\n",
    "    x_values = [item[0] for item in series]\n",
    "    y_values = [item[1] for item in series]\n",
    "    \n",
    "    fig = go.Figure(data=go.Scatter(x=x_values, y=y_values, mode='lines'))\n",
    "    fig.update_layout(\n",
    "        title='HVC-function',\n",
    "        xaxis_title='msc',\n",
    "        yaxis_title='contaminations',\n",
    "        template='plotly_dark'\n",
    "    )\n",
    "    fig.show()\n",
    "\n",
    "# count contaminationsA\n",
    "fn_passing = list()\n",
    "passing_score = 0\n",
    "while passing_score < df_total['minimum_scale_coefficient'].max():\n",
    "    passing_score += 0.05\n",
    "    df_total['pass'] = df_total['minimum_scale_coefficient'].apply(lambda x : x > passing_score)\n",
    "    merge_intensity = len(df_total[df_total['pass']]) #/len(df_total)\n",
    "    fn_passing.append([passing_score, merge_intensity])\n",
    "\n",
    "plot_series(fn_passing)"
   ]
  },
  {
   "cell_type": "markdown",
   "metadata": {},
   "source": [
    "By inverting the function we can input the desired number of contaminations, and get the msc required to obtain it"
   ]
  },
  {
   "cell_type": "code",
   "execution_count": 94,
   "metadata": {},
   "outputs": [
    {
     "data": {
      "application/vnd.plotly.v1+json": {
       "config": {
        "plotlyServerURL": "https://plot.ly"
       },
       "data": [
        {
         "mode": "lines",
         "type": "scatter",
         "x": [
          14000,
          14000,
          14000,
          14000,
          14000,
          14000,
          14000,
          14000,
          14000,
          14000,
          14000,
          14000,
          14000,
          13998,
          13897,
          13378,
          12708,
          12216,
          12051,
          12003,
          12001,
          12000,
          12000,
          12000,
          12000,
          12000,
          12000,
          12000,
          12000,
          12000,
          11998,
          11987,
          11958,
          11903,
          11852,
          11797,
          11730,
          11666,
          11613,
          11569,
          11534,
          11513,
          11497,
          11473,
          11414,
          11326,
          11223,
          11073,
          10916,
          10730,
          10556,
          10391,
          10199,
          10031,
          9865,
          9722,
          9561,
          9387,
          9229,
          9076,
          8895,
          8756,
          8595,
          8430,
          8289,
          8150,
          8028,
          7921,
          7816,
          7713,
          7589,
          7486,
          7363,
          7239,
          7139,
          7016,
          6915,
          6807,
          6700,
          6623,
          6563,
          6492,
          6433,
          6383,
          6344,
          6312,
          6279,
          6242,
          6219,
          6191,
          6143,
          6086,
          6021,
          5968,
          5905,
          5817,
          5734,
          5648,
          5557,
          5469,
          5386,
          5292,
          5214,
          5143,
          5058,
          4988,
          4910,
          4842,
          4774,
          4706,
          4651,
          4591,
          4544,
          4503,
          4432,
          4382,
          4332,
          4266,
          4221,
          4164,
          4100,
          4048,
          3980,
          3913,
          3850,
          3798,
          3721,
          3663,
          3596,
          3536,
          3476,
          3407,
          3333,
          3270,
          3217,
          3161,
          3116,
          3077,
          3038,
          3000,
          2953,
          2921,
          2897,
          2874,
          2852,
          2833,
          2809,
          2799,
          2782,
          2768,
          2755,
          2738,
          2726,
          2710,
          2693,
          2678,
          2671,
          2663,
          2649,
          2635,
          2619,
          2594,
          2581,
          2566,
          2545,
          2530,
          2512,
          2488,
          2477,
          2467,
          2456,
          2436,
          2419,
          2402,
          2387,
          2373,
          2354,
          2336,
          2318,
          2310,
          2292,
          2282,
          2269,
          2255,
          2244,
          2225,
          2211,
          2202,
          2181,
          2155,
          2131,
          2106,
          2086,
          2064,
          2046,
          2020,
          1990,
          1964,
          1930,
          1904,
          1889,
          1864,
          1829,
          1804,
          1780,
          1753,
          1729,
          1700,
          1678,
          1657,
          1634,
          1612,
          1592,
          1577,
          1567,
          1554,
          1537,
          1516,
          1500,
          1486,
          1466,
          1437,
          1409,
          1390,
          1366,
          1337,
          1320,
          1302,
          1277,
          1243,
          1218,
          1189,
          1160,
          1130,
          1104,
          1084,
          1056,
          1036,
          1014,
          990,
          962,
          942,
          923,
          909,
          882,
          859,
          842,
          817,
          794,
          775,
          753,
          730,
          712,
          686,
          663,
          637,
          618,
          603,
          580,
          562,
          549,
          529,
          515,
          502,
          485,
          475,
          462,
          447,
          444,
          425,
          409,
          396,
          388,
          378,
          369,
          359,
          351,
          337,
          329,
          321,
          319,
          314,
          309,
          304,
          299,
          295,
          289,
          289,
          281,
          277,
          273,
          267,
          265,
          263,
          262,
          262,
          259,
          254,
          254,
          253,
          252,
          252,
          252,
          251,
          250,
          249,
          249,
          249,
          249,
          248,
          247,
          246,
          245,
          244,
          241,
          240,
          237,
          233,
          231,
          229,
          226,
          222,
          221,
          220,
          215,
          212,
          210,
          204,
          199,
          195,
          191,
          186,
          177,
          176,
          174,
          169,
          167,
          162,
          158,
          152,
          147,
          141,
          139,
          128,
          122,
          120,
          108,
          107,
          103,
          97,
          93,
          86,
          81,
          79,
          69,
          68,
          64,
          60,
          54,
          49,
          46,
          44,
          41,
          38,
          36,
          34,
          32,
          27,
          23,
          20,
          19,
          16,
          16,
          16,
          15,
          13,
          10,
          8,
          8,
          7,
          6,
          6,
          5,
          5,
          5,
          5,
          5,
          5,
          4,
          4,
          4,
          3,
          3,
          3,
          3,
          3,
          3,
          2,
          2,
          2,
          2,
          2,
          2,
          2,
          1,
          1,
          1,
          1,
          1,
          1,
          1,
          0
         ],
         "y": [
          0.05,
          0.1,
          0.15000000000000002,
          0.2,
          0.25,
          0.3,
          0.35,
          0.39999999999999997,
          0.44999999999999996,
          0.49999999999999994,
          0.5499999999999999,
          0.6,
          0.65,
          0.7000000000000001,
          0.7500000000000001,
          0.8000000000000002,
          0.8500000000000002,
          0.9000000000000002,
          0.9500000000000003,
          1.0000000000000002,
          1.0500000000000003,
          1.1000000000000003,
          1.1500000000000004,
          1.2000000000000004,
          1.2500000000000004,
          1.3000000000000005,
          1.3500000000000005,
          1.4000000000000006,
          1.4500000000000006,
          1.5000000000000007,
          1.5500000000000007,
          1.6000000000000008,
          1.6500000000000008,
          1.7000000000000008,
          1.7500000000000009,
          1.800000000000001,
          1.850000000000001,
          1.900000000000001,
          1.950000000000001,
          2.000000000000001,
          2.0500000000000007,
          2.1000000000000005,
          2.1500000000000004,
          2.2,
          2.25,
          2.3,
          2.3499999999999996,
          2.3999999999999995,
          2.4499999999999993,
          2.499999999999999,
          2.549999999999999,
          2.5999999999999988,
          2.6499999999999986,
          2.6999999999999984,
          2.7499999999999982,
          2.799999999999998,
          2.849999999999998,
          2.8999999999999977,
          2.9499999999999975,
          2.9999999999999973,
          3.049999999999997,
          3.099999999999997,
          3.149999999999997,
          3.1999999999999966,
          3.2499999999999964,
          3.2999999999999963,
          3.349999999999996,
          3.399999999999996,
          3.4499999999999957,
          3.4999999999999956,
          3.5499999999999954,
          3.599999999999995,
          3.649999999999995,
          3.699999999999995,
          3.7499999999999947,
          3.7999999999999945,
          3.8499999999999943,
          3.899999999999994,
          3.949999999999994,
          3.999999999999994,
          4.049999999999994,
          4.099999999999993,
          4.149999999999993,
          4.199999999999993,
          4.249999999999993,
          4.299999999999993,
          4.3499999999999925,
          4.399999999999992,
          4.449999999999992,
          4.499999999999992,
          4.549999999999992,
          4.599999999999992,
          4.6499999999999915,
          4.699999999999991,
          4.749999999999991,
          4.799999999999991,
          4.849999999999991,
          4.899999999999991,
          4.94999999999999,
          4.99999999999999,
          5.04999999999999,
          5.09999999999999,
          5.14999999999999,
          5.1999999999999895,
          5.249999999999989,
          5.299999999999989,
          5.349999999999989,
          5.399999999999989,
          5.449999999999989,
          5.4999999999999885,
          5.549999999999988,
          5.599999999999988,
          5.649999999999988,
          5.699999999999988,
          5.749999999999988,
          5.799999999999987,
          5.849999999999987,
          5.899999999999987,
          5.949999999999987,
          5.999999999999987,
          6.0499999999999865,
          6.099999999999986,
          6.149999999999986,
          6.199999999999986,
          6.249999999999986,
          6.299999999999986,
          6.349999999999985,
          6.399999999999985,
          6.449999999999985,
          6.499999999999985,
          6.549999999999985,
          6.5999999999999845,
          6.649999999999984,
          6.699999999999984,
          6.749999999999984,
          6.799999999999984,
          6.849999999999984,
          6.8999999999999835,
          6.949999999999983,
          6.999999999999983,
          7.049999999999983,
          7.099999999999983,
          7.149999999999983,
          7.199999999999982,
          7.249999999999982,
          7.299999999999982,
          7.349999999999982,
          7.399999999999982,
          7.4499999999999815,
          7.499999999999981,
          7.549999999999981,
          7.599999999999981,
          7.649999999999981,
          7.699999999999981,
          7.7499999999999805,
          7.79999999999998,
          7.84999999999998,
          7.89999999999998,
          7.94999999999998,
          7.99999999999998,
          8.04999999999998,
          8.09999999999998,
          8.14999999999998,
          8.199999999999982,
          8.249999999999982,
          8.299999999999983,
          8.349999999999984,
          8.399999999999984,
          8.449999999999985,
          8.499999999999986,
          8.549999999999986,
          8.599999999999987,
          8.649999999999988,
          8.699999999999989,
          8.74999999999999,
          8.79999999999999,
          8.84999999999999,
          8.899999999999991,
          8.949999999999992,
          8.999999999999993,
          9.049999999999994,
          9.099999999999994,
          9.149999999999995,
          9.199999999999996,
          9.249999999999996,
          9.299999999999997,
          9.349999999999998,
          9.399999999999999,
          9.45,
          9.5,
          9.55,
          9.600000000000001,
          9.650000000000002,
          9.700000000000003,
          9.750000000000004,
          9.800000000000004,
          9.850000000000005,
          9.900000000000006,
          9.950000000000006,
          10.000000000000007,
          10.050000000000008,
          10.100000000000009,
          10.15000000000001,
          10.20000000000001,
          10.25000000000001,
          10.300000000000011,
          10.350000000000012,
          10.400000000000013,
          10.450000000000014,
          10.500000000000014,
          10.550000000000015,
          10.600000000000016,
          10.650000000000016,
          10.700000000000017,
          10.750000000000018,
          10.800000000000018,
          10.85000000000002,
          10.90000000000002,
          10.95000000000002,
          11.000000000000021,
          11.050000000000022,
          11.100000000000023,
          11.150000000000023,
          11.200000000000024,
          11.250000000000025,
          11.300000000000026,
          11.350000000000026,
          11.400000000000027,
          11.450000000000028,
          11.500000000000028,
          11.55000000000003,
          11.60000000000003,
          11.65000000000003,
          11.700000000000031,
          11.750000000000032,
          11.800000000000033,
          11.850000000000033,
          11.900000000000034,
          11.950000000000035,
          12.000000000000036,
          12.050000000000036,
          12.100000000000037,
          12.150000000000038,
          12.200000000000038,
          12.250000000000039,
          12.30000000000004,
          12.35000000000004,
          12.400000000000041,
          12.450000000000042,
          12.500000000000043,
          12.550000000000043,
          12.600000000000044,
          12.650000000000045,
          12.700000000000045,
          12.750000000000046,
          12.800000000000047,
          12.850000000000048,
          12.900000000000048,
          12.950000000000049,
          13.00000000000005,
          13.05000000000005,
          13.100000000000051,
          13.150000000000052,
          13.200000000000053,
          13.250000000000053,
          13.300000000000054,
          13.350000000000055,
          13.400000000000055,
          13.450000000000056,
          13.500000000000057,
          13.550000000000058,
          13.600000000000058,
          13.650000000000059,
          13.70000000000006,
          13.75000000000006,
          13.800000000000061,
          13.850000000000062,
          13.900000000000063,
          13.950000000000063,
          14.000000000000064,
          14.050000000000065,
          14.100000000000065,
          14.150000000000066,
          14.200000000000067,
          14.250000000000068,
          14.300000000000068,
          14.350000000000069,
          14.40000000000007,
          14.45000000000007,
          14.500000000000071,
          14.550000000000072,
          14.600000000000072,
          14.650000000000073,
          14.700000000000074,
          14.750000000000075,
          14.800000000000075,
          14.850000000000076,
          14.900000000000077,
          14.950000000000077,
          15.000000000000078,
          15.050000000000079,
          15.10000000000008,
          15.15000000000008,
          15.200000000000081,
          15.250000000000082,
          15.300000000000082,
          15.350000000000083,
          15.400000000000084,
          15.450000000000085,
          15.500000000000085,
          15.550000000000086,
          15.600000000000087,
          15.650000000000087,
          15.700000000000088,
          15.750000000000089,
          15.80000000000009,
          15.85000000000009,
          15.900000000000091,
          15.950000000000092,
          16.000000000000092,
          16.050000000000093,
          16.100000000000094,
          16.150000000000095,
          16.200000000000095,
          16.250000000000096,
          16.300000000000097,
          16.350000000000097,
          16.400000000000098,
          16.4500000000001,
          16.5000000000001,
          16.5500000000001,
          16.6000000000001,
          16.6500000000001,
          16.700000000000102,
          16.750000000000103,
          16.800000000000104,
          16.850000000000104,
          16.900000000000105,
          16.950000000000106,
          17.000000000000107,
          17.050000000000107,
          17.100000000000108,
          17.15000000000011,
          17.20000000000011,
          17.25000000000011,
          17.30000000000011,
          17.35000000000011,
          17.400000000000112,
          17.450000000000113,
          17.500000000000114,
          17.550000000000114,
          17.600000000000115,
          17.650000000000116,
          17.700000000000117,
          17.750000000000117,
          17.800000000000118,
          17.85000000000012,
          17.90000000000012,
          17.95000000000012,
          18.00000000000012,
          18.05000000000012,
          18.100000000000122,
          18.150000000000123,
          18.200000000000124,
          18.250000000000124,
          18.300000000000125,
          18.350000000000126,
          18.400000000000126,
          18.450000000000127,
          18.500000000000128,
          18.55000000000013,
          18.60000000000013,
          18.65000000000013,
          18.70000000000013,
          18.75000000000013,
          18.800000000000132,
          18.850000000000133,
          18.900000000000134,
          18.950000000000134,
          19.000000000000135,
          19.050000000000136,
          19.100000000000136,
          19.150000000000137,
          19.200000000000138,
          19.25000000000014,
          19.30000000000014,
          19.35000000000014,
          19.40000000000014,
          19.45000000000014,
          19.500000000000142,
          19.550000000000143,
          19.600000000000144,
          19.650000000000144,
          19.700000000000145,
          19.750000000000146,
          19.800000000000146,
          19.850000000000147,
          19.900000000000148,
          19.95000000000015,
          20.00000000000015,
          20.05000000000015,
          20.10000000000015,
          20.15000000000015,
          20.200000000000152,
          20.250000000000153,
          20.300000000000153,
          20.350000000000154,
          20.400000000000155,
          20.450000000000156,
          20.500000000000156,
          20.550000000000157,
          20.600000000000158
         ]
        }
       ],
       "layout": {
        "template": {
         "data": {
          "bar": [
           {
            "error_x": {
             "color": "#f2f5fa"
            },
            "error_y": {
             "color": "#f2f5fa"
            },
            "marker": {
             "line": {
              "color": "rgb(17,17,17)",
              "width": 0.5
             },
             "pattern": {
              "fillmode": "overlay",
              "size": 10,
              "solidity": 0.2
             }
            },
            "type": "bar"
           }
          ],
          "barpolar": [
           {
            "marker": {
             "line": {
              "color": "rgb(17,17,17)",
              "width": 0.5
             },
             "pattern": {
              "fillmode": "overlay",
              "size": 10,
              "solidity": 0.2
             }
            },
            "type": "barpolar"
           }
          ],
          "carpet": [
           {
            "aaxis": {
             "endlinecolor": "#A2B1C6",
             "gridcolor": "#506784",
             "linecolor": "#506784",
             "minorgridcolor": "#506784",
             "startlinecolor": "#A2B1C6"
            },
            "baxis": {
             "endlinecolor": "#A2B1C6",
             "gridcolor": "#506784",
             "linecolor": "#506784",
             "minorgridcolor": "#506784",
             "startlinecolor": "#A2B1C6"
            },
            "type": "carpet"
           }
          ],
          "choropleth": [
           {
            "colorbar": {
             "outlinewidth": 0,
             "ticks": ""
            },
            "type": "choropleth"
           }
          ],
          "contour": [
           {
            "colorbar": {
             "outlinewidth": 0,
             "ticks": ""
            },
            "colorscale": [
             [
              0,
              "#0d0887"
             ],
             [
              0.1111111111111111,
              "#46039f"
             ],
             [
              0.2222222222222222,
              "#7201a8"
             ],
             [
              0.3333333333333333,
              "#9c179e"
             ],
             [
              0.4444444444444444,
              "#bd3786"
             ],
             [
              0.5555555555555556,
              "#d8576b"
             ],
             [
              0.6666666666666666,
              "#ed7953"
             ],
             [
              0.7777777777777778,
              "#fb9f3a"
             ],
             [
              0.8888888888888888,
              "#fdca26"
             ],
             [
              1,
              "#f0f921"
             ]
            ],
            "type": "contour"
           }
          ],
          "contourcarpet": [
           {
            "colorbar": {
             "outlinewidth": 0,
             "ticks": ""
            },
            "type": "contourcarpet"
           }
          ],
          "heatmap": [
           {
            "colorbar": {
             "outlinewidth": 0,
             "ticks": ""
            },
            "colorscale": [
             [
              0,
              "#0d0887"
             ],
             [
              0.1111111111111111,
              "#46039f"
             ],
             [
              0.2222222222222222,
              "#7201a8"
             ],
             [
              0.3333333333333333,
              "#9c179e"
             ],
             [
              0.4444444444444444,
              "#bd3786"
             ],
             [
              0.5555555555555556,
              "#d8576b"
             ],
             [
              0.6666666666666666,
              "#ed7953"
             ],
             [
              0.7777777777777778,
              "#fb9f3a"
             ],
             [
              0.8888888888888888,
              "#fdca26"
             ],
             [
              1,
              "#f0f921"
             ]
            ],
            "type": "heatmap"
           }
          ],
          "heatmapgl": [
           {
            "colorbar": {
             "outlinewidth": 0,
             "ticks": ""
            },
            "colorscale": [
             [
              0,
              "#0d0887"
             ],
             [
              0.1111111111111111,
              "#46039f"
             ],
             [
              0.2222222222222222,
              "#7201a8"
             ],
             [
              0.3333333333333333,
              "#9c179e"
             ],
             [
              0.4444444444444444,
              "#bd3786"
             ],
             [
              0.5555555555555556,
              "#d8576b"
             ],
             [
              0.6666666666666666,
              "#ed7953"
             ],
             [
              0.7777777777777778,
              "#fb9f3a"
             ],
             [
              0.8888888888888888,
              "#fdca26"
             ],
             [
              1,
              "#f0f921"
             ]
            ],
            "type": "heatmapgl"
           }
          ],
          "histogram": [
           {
            "marker": {
             "pattern": {
              "fillmode": "overlay",
              "size": 10,
              "solidity": 0.2
             }
            },
            "type": "histogram"
           }
          ],
          "histogram2d": [
           {
            "colorbar": {
             "outlinewidth": 0,
             "ticks": ""
            },
            "colorscale": [
             [
              0,
              "#0d0887"
             ],
             [
              0.1111111111111111,
              "#46039f"
             ],
             [
              0.2222222222222222,
              "#7201a8"
             ],
             [
              0.3333333333333333,
              "#9c179e"
             ],
             [
              0.4444444444444444,
              "#bd3786"
             ],
             [
              0.5555555555555556,
              "#d8576b"
             ],
             [
              0.6666666666666666,
              "#ed7953"
             ],
             [
              0.7777777777777778,
              "#fb9f3a"
             ],
             [
              0.8888888888888888,
              "#fdca26"
             ],
             [
              1,
              "#f0f921"
             ]
            ],
            "type": "histogram2d"
           }
          ],
          "histogram2dcontour": [
           {
            "colorbar": {
             "outlinewidth": 0,
             "ticks": ""
            },
            "colorscale": [
             [
              0,
              "#0d0887"
             ],
             [
              0.1111111111111111,
              "#46039f"
             ],
             [
              0.2222222222222222,
              "#7201a8"
             ],
             [
              0.3333333333333333,
              "#9c179e"
             ],
             [
              0.4444444444444444,
              "#bd3786"
             ],
             [
              0.5555555555555556,
              "#d8576b"
             ],
             [
              0.6666666666666666,
              "#ed7953"
             ],
             [
              0.7777777777777778,
              "#fb9f3a"
             ],
             [
              0.8888888888888888,
              "#fdca26"
             ],
             [
              1,
              "#f0f921"
             ]
            ],
            "type": "histogram2dcontour"
           }
          ],
          "mesh3d": [
           {
            "colorbar": {
             "outlinewidth": 0,
             "ticks": ""
            },
            "type": "mesh3d"
           }
          ],
          "parcoords": [
           {
            "line": {
             "colorbar": {
              "outlinewidth": 0,
              "ticks": ""
             }
            },
            "type": "parcoords"
           }
          ],
          "pie": [
           {
            "automargin": true,
            "type": "pie"
           }
          ],
          "scatter": [
           {
            "marker": {
             "line": {
              "color": "#283442"
             }
            },
            "type": "scatter"
           }
          ],
          "scatter3d": [
           {
            "line": {
             "colorbar": {
              "outlinewidth": 0,
              "ticks": ""
             }
            },
            "marker": {
             "colorbar": {
              "outlinewidth": 0,
              "ticks": ""
             }
            },
            "type": "scatter3d"
           }
          ],
          "scattercarpet": [
           {
            "marker": {
             "colorbar": {
              "outlinewidth": 0,
              "ticks": ""
             }
            },
            "type": "scattercarpet"
           }
          ],
          "scattergeo": [
           {
            "marker": {
             "colorbar": {
              "outlinewidth": 0,
              "ticks": ""
             }
            },
            "type": "scattergeo"
           }
          ],
          "scattergl": [
           {
            "marker": {
             "line": {
              "color": "#283442"
             }
            },
            "type": "scattergl"
           }
          ],
          "scattermapbox": [
           {
            "marker": {
             "colorbar": {
              "outlinewidth": 0,
              "ticks": ""
             }
            },
            "type": "scattermapbox"
           }
          ],
          "scatterpolar": [
           {
            "marker": {
             "colorbar": {
              "outlinewidth": 0,
              "ticks": ""
             }
            },
            "type": "scatterpolar"
           }
          ],
          "scatterpolargl": [
           {
            "marker": {
             "colorbar": {
              "outlinewidth": 0,
              "ticks": ""
             }
            },
            "type": "scatterpolargl"
           }
          ],
          "scatterternary": [
           {
            "marker": {
             "colorbar": {
              "outlinewidth": 0,
              "ticks": ""
             }
            },
            "type": "scatterternary"
           }
          ],
          "surface": [
           {
            "colorbar": {
             "outlinewidth": 0,
             "ticks": ""
            },
            "colorscale": [
             [
              0,
              "#0d0887"
             ],
             [
              0.1111111111111111,
              "#46039f"
             ],
             [
              0.2222222222222222,
              "#7201a8"
             ],
             [
              0.3333333333333333,
              "#9c179e"
             ],
             [
              0.4444444444444444,
              "#bd3786"
             ],
             [
              0.5555555555555556,
              "#d8576b"
             ],
             [
              0.6666666666666666,
              "#ed7953"
             ],
             [
              0.7777777777777778,
              "#fb9f3a"
             ],
             [
              0.8888888888888888,
              "#fdca26"
             ],
             [
              1,
              "#f0f921"
             ]
            ],
            "type": "surface"
           }
          ],
          "table": [
           {
            "cells": {
             "fill": {
              "color": "#506784"
             },
             "line": {
              "color": "rgb(17,17,17)"
             }
            },
            "header": {
             "fill": {
              "color": "#2a3f5f"
             },
             "line": {
              "color": "rgb(17,17,17)"
             }
            },
            "type": "table"
           }
          ]
         },
         "layout": {
          "annotationdefaults": {
           "arrowcolor": "#f2f5fa",
           "arrowhead": 0,
           "arrowwidth": 1
          },
          "autotypenumbers": "strict",
          "coloraxis": {
           "colorbar": {
            "outlinewidth": 0,
            "ticks": ""
           }
          },
          "colorscale": {
           "diverging": [
            [
             0,
             "#8e0152"
            ],
            [
             0.1,
             "#c51b7d"
            ],
            [
             0.2,
             "#de77ae"
            ],
            [
             0.3,
             "#f1b6da"
            ],
            [
             0.4,
             "#fde0ef"
            ],
            [
             0.5,
             "#f7f7f7"
            ],
            [
             0.6,
             "#e6f5d0"
            ],
            [
             0.7,
             "#b8e186"
            ],
            [
             0.8,
             "#7fbc41"
            ],
            [
             0.9,
             "#4d9221"
            ],
            [
             1,
             "#276419"
            ]
           ],
           "sequential": [
            [
             0,
             "#0d0887"
            ],
            [
             0.1111111111111111,
             "#46039f"
            ],
            [
             0.2222222222222222,
             "#7201a8"
            ],
            [
             0.3333333333333333,
             "#9c179e"
            ],
            [
             0.4444444444444444,
             "#bd3786"
            ],
            [
             0.5555555555555556,
             "#d8576b"
            ],
            [
             0.6666666666666666,
             "#ed7953"
            ],
            [
             0.7777777777777778,
             "#fb9f3a"
            ],
            [
             0.8888888888888888,
             "#fdca26"
            ],
            [
             1,
             "#f0f921"
            ]
           ],
           "sequentialminus": [
            [
             0,
             "#0d0887"
            ],
            [
             0.1111111111111111,
             "#46039f"
            ],
            [
             0.2222222222222222,
             "#7201a8"
            ],
            [
             0.3333333333333333,
             "#9c179e"
            ],
            [
             0.4444444444444444,
             "#bd3786"
            ],
            [
             0.5555555555555556,
             "#d8576b"
            ],
            [
             0.6666666666666666,
             "#ed7953"
            ],
            [
             0.7777777777777778,
             "#fb9f3a"
            ],
            [
             0.8888888888888888,
             "#fdca26"
            ],
            [
             1,
             "#f0f921"
            ]
           ]
          },
          "colorway": [
           "#636efa",
           "#EF553B",
           "#00cc96",
           "#ab63fa",
           "#FFA15A",
           "#19d3f3",
           "#FF6692",
           "#B6E880",
           "#FF97FF",
           "#FECB52"
          ],
          "font": {
           "color": "#f2f5fa"
          },
          "geo": {
           "bgcolor": "rgb(17,17,17)",
           "lakecolor": "rgb(17,17,17)",
           "landcolor": "rgb(17,17,17)",
           "showlakes": true,
           "showland": true,
           "subunitcolor": "#506784"
          },
          "hoverlabel": {
           "align": "left"
          },
          "hovermode": "closest",
          "mapbox": {
           "style": "dark"
          },
          "paper_bgcolor": "rgb(17,17,17)",
          "plot_bgcolor": "rgb(17,17,17)",
          "polar": {
           "angularaxis": {
            "gridcolor": "#506784",
            "linecolor": "#506784",
            "ticks": ""
           },
           "bgcolor": "rgb(17,17,17)",
           "radialaxis": {
            "gridcolor": "#506784",
            "linecolor": "#506784",
            "ticks": ""
           }
          },
          "scene": {
           "xaxis": {
            "backgroundcolor": "rgb(17,17,17)",
            "gridcolor": "#506784",
            "gridwidth": 2,
            "linecolor": "#506784",
            "showbackground": true,
            "ticks": "",
            "zerolinecolor": "#C8D4E3"
           },
           "yaxis": {
            "backgroundcolor": "rgb(17,17,17)",
            "gridcolor": "#506784",
            "gridwidth": 2,
            "linecolor": "#506784",
            "showbackground": true,
            "ticks": "",
            "zerolinecolor": "#C8D4E3"
           },
           "zaxis": {
            "backgroundcolor": "rgb(17,17,17)",
            "gridcolor": "#506784",
            "gridwidth": 2,
            "linecolor": "#506784",
            "showbackground": true,
            "ticks": "",
            "zerolinecolor": "#C8D4E3"
           }
          },
          "shapedefaults": {
           "line": {
            "color": "#f2f5fa"
           }
          },
          "sliderdefaults": {
           "bgcolor": "#C8D4E3",
           "bordercolor": "rgb(17,17,17)",
           "borderwidth": 1,
           "tickwidth": 0
          },
          "ternary": {
           "aaxis": {
            "gridcolor": "#506784",
            "linecolor": "#506784",
            "ticks": ""
           },
           "baxis": {
            "gridcolor": "#506784",
            "linecolor": "#506784",
            "ticks": ""
           },
           "bgcolor": "rgb(17,17,17)",
           "caxis": {
            "gridcolor": "#506784",
            "linecolor": "#506784",
            "ticks": ""
           }
          },
          "title": {
           "x": 0.05
          },
          "updatemenudefaults": {
           "bgcolor": "#506784",
           "borderwidth": 0
          },
          "xaxis": {
           "automargin": true,
           "gridcolor": "#283442",
           "linecolor": "#506784",
           "ticks": "",
           "title": {
            "standoff": 15
           },
           "zerolinecolor": "#283442",
           "zerolinewidth": 2
          },
          "yaxis": {
           "automargin": true,
           "gridcolor": "#283442",
           "linecolor": "#506784",
           "ticks": "",
           "title": {
            "standoff": 15
           },
           "zerolinecolor": "#283442",
           "zerolinewidth": 2
          }
         }
        },
        "title": {
         "text": "HVC-function"
        },
        "xaxis": {
         "title": {
          "text": "contaminations"
         }
        },
        "yaxis": {
         "title": {
          "text": "msc"
         }
        }
       }
      }
     },
     "metadata": {},
     "output_type": "display_data"
    }
   ],
   "source": [
    "import plotly.graph_objects as go\n",
    "\n",
    "def plot_series(series):\n",
    "    x_values = [item[1] for item in series]\n",
    "    y_values = [item[0] for item in series]\n",
    "    \n",
    "    fig = go.Figure(data=go.Scatter(x=x_values, y=y_values, mode='lines'))\n",
    "    fig.update_layout(\n",
    "        title='HVC-function',\n",
    "        xaxis_title='contaminations',\n",
    "        yaxis_title='msc',\n",
    "        template='plotly_dark'\n",
    "    )\n",
    "    fig.show()\n",
    "\n",
    "# count contaminationsA\n",
    "fn_passing = list()\n",
    "passing_score = 0\n",
    "while passing_score < df_total['minimum_scale_coefficient'].max():\n",
    "    passing_score += 0.05\n",
    "    df_total['pass'] = df_total['minimum_scale_coefficient'].apply(lambda x : x > passing_score)\n",
    "    merge_intensity = len(df_total[df_total['pass']]) #/len(df_total)\n",
    "    fn_passing.append([passing_score, merge_intensity])\n",
    "\n",
    "plot_series(fn_passing)"
   ]
  },
  {
   "cell_type": "markdown",
   "metadata": {},
   "source": [
    "After normalization, we can simply input the desired merge intensity and get the msc required to obtain it"
   ]
  },
  {
   "cell_type": "code",
   "execution_count": 95,
   "metadata": {},
   "outputs": [
    {
     "data": {
      "application/vnd.plotly.v1+json": {
       "config": {
        "plotlyServerURL": "https://plot.ly"
       },
       "data": [
        {
         "mode": "lines",
         "type": "scatter",
         "x": [
          1,
          1,
          1,
          1,
          1,
          1,
          1,
          1,
          1,
          1,
          1,
          1,
          1,
          0.9998571428571429,
          0.9926428571428572,
          0.9555714285714285,
          0.9077142857142857,
          0.8725714285714286,
          0.8607857142857143,
          0.8573571428571428,
          0.8572142857142857,
          0.8571428571428571,
          0.8571428571428571,
          0.8571428571428571,
          0.8571428571428571,
          0.8571428571428571,
          0.8571428571428571,
          0.8571428571428571,
          0.8571428571428571,
          0.8571428571428571,
          0.857,
          0.8562142857142857,
          0.8541428571428571,
          0.8502142857142857,
          0.8465714285714285,
          0.8426428571428571,
          0.8378571428571429,
          0.8332857142857143,
          0.8295,
          0.8263571428571429,
          0.8238571428571428,
          0.8223571428571429,
          0.8212142857142857,
          0.8195,
          0.8152857142857143,
          0.809,
          0.8016428571428571,
          0.7909285714285714,
          0.7797142857142857,
          0.7664285714285715,
          0.754,
          0.7422142857142857,
          0.7285,
          0.7165,
          0.7046428571428571,
          0.6944285714285714,
          0.6829285714285714,
          0.6705,
          0.6592142857142858,
          0.6482857142857142,
          0.6353571428571428,
          0.6254285714285714,
          0.6139285714285714,
          0.6021428571428571,
          0.5920714285714286,
          0.5821428571428572,
          0.5734285714285714,
          0.5657857142857143,
          0.5582857142857143,
          0.5509285714285714,
          0.5420714285714285,
          0.5347142857142857,
          0.5259285714285714,
          0.5170714285714286,
          0.5099285714285714,
          0.5011428571428571,
          0.49392857142857144,
          0.4862142857142857,
          0.4785714285714286,
          0.4730714285714286,
          0.4687857142857143,
          0.4637142857142857,
          0.4595,
          0.4559285714285714,
          0.4531428571428571,
          0.45085714285714285,
          0.4485,
          0.44585714285714284,
          0.44421428571428573,
          0.4422142857142857,
          0.4387857142857143,
          0.4347142857142857,
          0.43007142857142855,
          0.42628571428571427,
          0.42178571428571426,
          0.4155,
          0.4095714285714286,
          0.4034285714285714,
          0.3969285714285714,
          0.3906428571428571,
          0.38471428571428573,
          0.378,
          0.37242857142857144,
          0.3673571428571429,
          0.36128571428571427,
          0.35628571428571426,
          0.3507142857142857,
          0.34585714285714286,
          0.341,
          0.33614285714285713,
          0.33221428571428574,
          0.3279285714285714,
          0.32457142857142857,
          0.3216428571428571,
          0.31657142857142856,
          0.313,
          0.30942857142857144,
          0.3047142857142857,
          0.3015,
          0.29742857142857143,
          0.29285714285714287,
          0.28914285714285715,
          0.2842857142857143,
          0.2795,
          0.275,
          0.2712857142857143,
          0.2657857142857143,
          0.2616428571428571,
          0.25685714285714284,
          0.25257142857142856,
          0.24828571428571428,
          0.24335714285714286,
          0.23807142857142857,
          0.23357142857142857,
          0.2297857142857143,
          0.22578571428571428,
          0.22257142857142856,
          0.21978571428571428,
          0.217,
          0.21428571428571427,
          0.21092857142857144,
          0.20864285714285713,
          0.20692857142857143,
          0.2052857142857143,
          0.2037142857142857,
          0.20235714285714285,
          0.20064285714285715,
          0.19992857142857143,
          0.1987142857142857,
          0.1977142857142857,
          0.19678571428571429,
          0.19557142857142856,
          0.1947142857142857,
          0.19357142857142856,
          0.19235714285714287,
          0.19128571428571428,
          0.19078571428571428,
          0.19021428571428572,
          0.18921428571428572,
          0.18821428571428572,
          0.18707142857142858,
          0.18528571428571428,
          0.18435714285714286,
          0.18328571428571427,
          0.18178571428571427,
          0.18071428571428572,
          0.17942857142857144,
          0.1777142857142857,
          0.17692857142857144,
          0.1762142857142857,
          0.17542857142857143,
          0.174,
          0.1727857142857143,
          0.17157142857142857,
          0.1705,
          0.1695,
          0.16814285714285715,
          0.16685714285714287,
          0.16557142857142856,
          0.165,
          0.1637142857142857,
          0.163,
          0.16207142857142856,
          0.16107142857142856,
          0.16028571428571428,
          0.15892857142857142,
          0.15792857142857142,
          0.15728571428571428,
          0.15578571428571428,
          0.15392857142857144,
          0.15221428571428572,
          0.15042857142857144,
          0.149,
          0.14742857142857144,
          0.14614285714285713,
          0.1442857142857143,
          0.14214285714285715,
          0.1402857142857143,
          0.13785714285714284,
          0.136,
          0.13492857142857143,
          0.13314285714285715,
          0.13064285714285714,
          0.12885714285714286,
          0.12714285714285714,
          0.12521428571428572,
          0.1235,
          0.12142857142857143,
          0.11985714285714286,
          0.11835714285714286,
          0.11671428571428571,
          0.11514285714285714,
          0.11371428571428571,
          0.11264285714285714,
          0.11192857142857143,
          0.111,
          0.10978571428571429,
          0.10828571428571429,
          0.10714285714285714,
          0.10614285714285714,
          0.10471428571428572,
          0.10264285714285715,
          0.10064285714285715,
          0.09928571428571428,
          0.09757142857142857,
          0.0955,
          0.09428571428571429,
          0.093,
          0.09121428571428572,
          0.08878571428571429,
          0.087,
          0.08492857142857142,
          0.08285714285714285,
          0.08071428571428571,
          0.07885714285714286,
          0.07742857142857143,
          0.07542857142857143,
          0.074,
          0.07242857142857143,
          0.07071428571428572,
          0.06871428571428571,
          0.06728571428571428,
          0.06592857142857143,
          0.06492857142857143,
          0.063,
          0.06135714285714286,
          0.060142857142857144,
          0.05835714285714286,
          0.05671428571428572,
          0.055357142857142855,
          0.053785714285714284,
          0.052142857142857144,
          0.05085714285714286,
          0.049,
          0.047357142857142855,
          0.0455,
          0.04414285714285714,
          0.04307142857142857,
          0.041428571428571426,
          0.04014285714285714,
          0.039214285714285715,
          0.037785714285714284,
          0.03678571428571428,
          0.03585714285714286,
          0.03464285714285714,
          0.033928571428571426,
          0.033,
          0.03192857142857143,
          0.031714285714285716,
          0.030357142857142857,
          0.029214285714285713,
          0.028285714285714286,
          0.027714285714285716,
          0.027,
          0.026357142857142857,
          0.025642857142857144,
          0.02507142857142857,
          0.02407142857142857,
          0.0235,
          0.02292857142857143,
          0.022785714285714284,
          0.02242857142857143,
          0.02207142857142857,
          0.021714285714285714,
          0.021357142857142856,
          0.02107142857142857,
          0.020642857142857143,
          0.020642857142857143,
          0.02007142857142857,
          0.019785714285714285,
          0.0195,
          0.019071428571428573,
          0.01892857142857143,
          0.018785714285714284,
          0.018714285714285715,
          0.018714285714285715,
          0.0185,
          0.01814285714285714,
          0.01814285714285714,
          0.01807142857142857,
          0.018,
          0.018,
          0.018,
          0.01792857142857143,
          0.017857142857142856,
          0.017785714285714287,
          0.017785714285714287,
          0.017785714285714287,
          0.017785714285714287,
          0.017714285714285714,
          0.017642857142857144,
          0.01757142857142857,
          0.0175,
          0.01742857142857143,
          0.017214285714285713,
          0.017142857142857144,
          0.016928571428571428,
          0.016642857142857143,
          0.0165,
          0.01635714285714286,
          0.016142857142857143,
          0.015857142857142858,
          0.015785714285714285,
          0.015714285714285715,
          0.015357142857142857,
          0.015142857142857144,
          0.015,
          0.014571428571428572,
          0.014214285714285714,
          0.013928571428571429,
          0.013642857142857142,
          0.013285714285714286,
          0.012642857142857143,
          0.012571428571428572,
          0.012428571428571428,
          0.012071428571428571,
          0.011928571428571429,
          0.011571428571428571,
          0.011285714285714286,
          0.010857142857142857,
          0.0105,
          0.010071428571428571,
          0.009928571428571429,
          0.009142857142857144,
          0.008714285714285714,
          0.008571428571428572,
          0.007714285714285714,
          0.007642857142857143,
          0.007357142857142857,
          0.006928571428571429,
          0.006642857142857143,
          0.006142857142857143,
          0.0057857142857142855,
          0.005642857142857143,
          0.004928571428571429,
          0.004857142857142857,
          0.004571428571428572,
          0.004285714285714286,
          0.003857142857142857,
          0.0035,
          0.003285714285714286,
          0.003142857142857143,
          0.0029285714285714284,
          0.0027142857142857142,
          0.0025714285714285713,
          0.0024285714285714284,
          0.002285714285714286,
          0.0019285714285714286,
          0.001642857142857143,
          0.0014285714285714286,
          0.0013571428571428571,
          0.001142857142857143,
          0.001142857142857143,
          0.001142857142857143,
          0.0010714285714285715,
          0.0009285714285714286,
          0.0007142857142857143,
          0.0005714285714285715,
          0.0005714285714285715,
          0.0005,
          0.00042857142857142855,
          0.00042857142857142855,
          0.00035714285714285714,
          0.00035714285714285714,
          0.00035714285714285714,
          0.00035714285714285714,
          0.00035714285714285714,
          0.00035714285714285714,
          0.00028571428571428574,
          0.00028571428571428574,
          0.00028571428571428574,
          0.00021428571428571427,
          0.00021428571428571427,
          0.00021428571428571427,
          0.00021428571428571427,
          0.00021428571428571427,
          0.00021428571428571427,
          0.00014285714285714287,
          0.00014285714285714287,
          0.00014285714285714287,
          0.00014285714285714287,
          0.00014285714285714287,
          0.00014285714285714287,
          0.00014285714285714287,
          0.00007142857142857143,
          0.00007142857142857143,
          0.00007142857142857143,
          0.00007142857142857143,
          0.00007142857142857143,
          0.00007142857142857143,
          0.00007142857142857143,
          0
         ],
         "y": [
          0.05,
          0.1,
          0.15000000000000002,
          0.2,
          0.25,
          0.3,
          0.35,
          0.39999999999999997,
          0.44999999999999996,
          0.49999999999999994,
          0.5499999999999999,
          0.6,
          0.65,
          0.7000000000000001,
          0.7500000000000001,
          0.8000000000000002,
          0.8500000000000002,
          0.9000000000000002,
          0.9500000000000003,
          1.0000000000000002,
          1.0500000000000003,
          1.1000000000000003,
          1.1500000000000004,
          1.2000000000000004,
          1.2500000000000004,
          1.3000000000000005,
          1.3500000000000005,
          1.4000000000000006,
          1.4500000000000006,
          1.5000000000000007,
          1.5500000000000007,
          1.6000000000000008,
          1.6500000000000008,
          1.7000000000000008,
          1.7500000000000009,
          1.800000000000001,
          1.850000000000001,
          1.900000000000001,
          1.950000000000001,
          2.000000000000001,
          2.0500000000000007,
          2.1000000000000005,
          2.1500000000000004,
          2.2,
          2.25,
          2.3,
          2.3499999999999996,
          2.3999999999999995,
          2.4499999999999993,
          2.499999999999999,
          2.549999999999999,
          2.5999999999999988,
          2.6499999999999986,
          2.6999999999999984,
          2.7499999999999982,
          2.799999999999998,
          2.849999999999998,
          2.8999999999999977,
          2.9499999999999975,
          2.9999999999999973,
          3.049999999999997,
          3.099999999999997,
          3.149999999999997,
          3.1999999999999966,
          3.2499999999999964,
          3.2999999999999963,
          3.349999999999996,
          3.399999999999996,
          3.4499999999999957,
          3.4999999999999956,
          3.5499999999999954,
          3.599999999999995,
          3.649999999999995,
          3.699999999999995,
          3.7499999999999947,
          3.7999999999999945,
          3.8499999999999943,
          3.899999999999994,
          3.949999999999994,
          3.999999999999994,
          4.049999999999994,
          4.099999999999993,
          4.149999999999993,
          4.199999999999993,
          4.249999999999993,
          4.299999999999993,
          4.3499999999999925,
          4.399999999999992,
          4.449999999999992,
          4.499999999999992,
          4.549999999999992,
          4.599999999999992,
          4.6499999999999915,
          4.699999999999991,
          4.749999999999991,
          4.799999999999991,
          4.849999999999991,
          4.899999999999991,
          4.94999999999999,
          4.99999999999999,
          5.04999999999999,
          5.09999999999999,
          5.14999999999999,
          5.1999999999999895,
          5.249999999999989,
          5.299999999999989,
          5.349999999999989,
          5.399999999999989,
          5.449999999999989,
          5.4999999999999885,
          5.549999999999988,
          5.599999999999988,
          5.649999999999988,
          5.699999999999988,
          5.749999999999988,
          5.799999999999987,
          5.849999999999987,
          5.899999999999987,
          5.949999999999987,
          5.999999999999987,
          6.0499999999999865,
          6.099999999999986,
          6.149999999999986,
          6.199999999999986,
          6.249999999999986,
          6.299999999999986,
          6.349999999999985,
          6.399999999999985,
          6.449999999999985,
          6.499999999999985,
          6.549999999999985,
          6.5999999999999845,
          6.649999999999984,
          6.699999999999984,
          6.749999999999984,
          6.799999999999984,
          6.849999999999984,
          6.8999999999999835,
          6.949999999999983,
          6.999999999999983,
          7.049999999999983,
          7.099999999999983,
          7.149999999999983,
          7.199999999999982,
          7.249999999999982,
          7.299999999999982,
          7.349999999999982,
          7.399999999999982,
          7.4499999999999815,
          7.499999999999981,
          7.549999999999981,
          7.599999999999981,
          7.649999999999981,
          7.699999999999981,
          7.7499999999999805,
          7.79999999999998,
          7.84999999999998,
          7.89999999999998,
          7.94999999999998,
          7.99999999999998,
          8.04999999999998,
          8.09999999999998,
          8.14999999999998,
          8.199999999999982,
          8.249999999999982,
          8.299999999999983,
          8.349999999999984,
          8.399999999999984,
          8.449999999999985,
          8.499999999999986,
          8.549999999999986,
          8.599999999999987,
          8.649999999999988,
          8.699999999999989,
          8.74999999999999,
          8.79999999999999,
          8.84999999999999,
          8.899999999999991,
          8.949999999999992,
          8.999999999999993,
          9.049999999999994,
          9.099999999999994,
          9.149999999999995,
          9.199999999999996,
          9.249999999999996,
          9.299999999999997,
          9.349999999999998,
          9.399999999999999,
          9.45,
          9.5,
          9.55,
          9.600000000000001,
          9.650000000000002,
          9.700000000000003,
          9.750000000000004,
          9.800000000000004,
          9.850000000000005,
          9.900000000000006,
          9.950000000000006,
          10.000000000000007,
          10.050000000000008,
          10.100000000000009,
          10.15000000000001,
          10.20000000000001,
          10.25000000000001,
          10.300000000000011,
          10.350000000000012,
          10.400000000000013,
          10.450000000000014,
          10.500000000000014,
          10.550000000000015,
          10.600000000000016,
          10.650000000000016,
          10.700000000000017,
          10.750000000000018,
          10.800000000000018,
          10.85000000000002,
          10.90000000000002,
          10.95000000000002,
          11.000000000000021,
          11.050000000000022,
          11.100000000000023,
          11.150000000000023,
          11.200000000000024,
          11.250000000000025,
          11.300000000000026,
          11.350000000000026,
          11.400000000000027,
          11.450000000000028,
          11.500000000000028,
          11.55000000000003,
          11.60000000000003,
          11.65000000000003,
          11.700000000000031,
          11.750000000000032,
          11.800000000000033,
          11.850000000000033,
          11.900000000000034,
          11.950000000000035,
          12.000000000000036,
          12.050000000000036,
          12.100000000000037,
          12.150000000000038,
          12.200000000000038,
          12.250000000000039,
          12.30000000000004,
          12.35000000000004,
          12.400000000000041,
          12.450000000000042,
          12.500000000000043,
          12.550000000000043,
          12.600000000000044,
          12.650000000000045,
          12.700000000000045,
          12.750000000000046,
          12.800000000000047,
          12.850000000000048,
          12.900000000000048,
          12.950000000000049,
          13.00000000000005,
          13.05000000000005,
          13.100000000000051,
          13.150000000000052,
          13.200000000000053,
          13.250000000000053,
          13.300000000000054,
          13.350000000000055,
          13.400000000000055,
          13.450000000000056,
          13.500000000000057,
          13.550000000000058,
          13.600000000000058,
          13.650000000000059,
          13.70000000000006,
          13.75000000000006,
          13.800000000000061,
          13.850000000000062,
          13.900000000000063,
          13.950000000000063,
          14.000000000000064,
          14.050000000000065,
          14.100000000000065,
          14.150000000000066,
          14.200000000000067,
          14.250000000000068,
          14.300000000000068,
          14.350000000000069,
          14.40000000000007,
          14.45000000000007,
          14.500000000000071,
          14.550000000000072,
          14.600000000000072,
          14.650000000000073,
          14.700000000000074,
          14.750000000000075,
          14.800000000000075,
          14.850000000000076,
          14.900000000000077,
          14.950000000000077,
          15.000000000000078,
          15.050000000000079,
          15.10000000000008,
          15.15000000000008,
          15.200000000000081,
          15.250000000000082,
          15.300000000000082,
          15.350000000000083,
          15.400000000000084,
          15.450000000000085,
          15.500000000000085,
          15.550000000000086,
          15.600000000000087,
          15.650000000000087,
          15.700000000000088,
          15.750000000000089,
          15.80000000000009,
          15.85000000000009,
          15.900000000000091,
          15.950000000000092,
          16.000000000000092,
          16.050000000000093,
          16.100000000000094,
          16.150000000000095,
          16.200000000000095,
          16.250000000000096,
          16.300000000000097,
          16.350000000000097,
          16.400000000000098,
          16.4500000000001,
          16.5000000000001,
          16.5500000000001,
          16.6000000000001,
          16.6500000000001,
          16.700000000000102,
          16.750000000000103,
          16.800000000000104,
          16.850000000000104,
          16.900000000000105,
          16.950000000000106,
          17.000000000000107,
          17.050000000000107,
          17.100000000000108,
          17.15000000000011,
          17.20000000000011,
          17.25000000000011,
          17.30000000000011,
          17.35000000000011,
          17.400000000000112,
          17.450000000000113,
          17.500000000000114,
          17.550000000000114,
          17.600000000000115,
          17.650000000000116,
          17.700000000000117,
          17.750000000000117,
          17.800000000000118,
          17.85000000000012,
          17.90000000000012,
          17.95000000000012,
          18.00000000000012,
          18.05000000000012,
          18.100000000000122,
          18.150000000000123,
          18.200000000000124,
          18.250000000000124,
          18.300000000000125,
          18.350000000000126,
          18.400000000000126,
          18.450000000000127,
          18.500000000000128,
          18.55000000000013,
          18.60000000000013,
          18.65000000000013,
          18.70000000000013,
          18.75000000000013,
          18.800000000000132,
          18.850000000000133,
          18.900000000000134,
          18.950000000000134,
          19.000000000000135,
          19.050000000000136,
          19.100000000000136,
          19.150000000000137,
          19.200000000000138,
          19.25000000000014,
          19.30000000000014,
          19.35000000000014,
          19.40000000000014,
          19.45000000000014,
          19.500000000000142,
          19.550000000000143,
          19.600000000000144,
          19.650000000000144,
          19.700000000000145,
          19.750000000000146,
          19.800000000000146,
          19.850000000000147,
          19.900000000000148,
          19.95000000000015,
          20.00000000000015,
          20.05000000000015,
          20.10000000000015,
          20.15000000000015,
          20.200000000000152,
          20.250000000000153,
          20.300000000000153,
          20.350000000000154,
          20.400000000000155,
          20.450000000000156,
          20.500000000000156,
          20.550000000000157,
          20.600000000000158
         ]
        }
       ],
       "layout": {
        "template": {
         "data": {
          "bar": [
           {
            "error_x": {
             "color": "#f2f5fa"
            },
            "error_y": {
             "color": "#f2f5fa"
            },
            "marker": {
             "line": {
              "color": "rgb(17,17,17)",
              "width": 0.5
             },
             "pattern": {
              "fillmode": "overlay",
              "size": 10,
              "solidity": 0.2
             }
            },
            "type": "bar"
           }
          ],
          "barpolar": [
           {
            "marker": {
             "line": {
              "color": "rgb(17,17,17)",
              "width": 0.5
             },
             "pattern": {
              "fillmode": "overlay",
              "size": 10,
              "solidity": 0.2
             }
            },
            "type": "barpolar"
           }
          ],
          "carpet": [
           {
            "aaxis": {
             "endlinecolor": "#A2B1C6",
             "gridcolor": "#506784",
             "linecolor": "#506784",
             "minorgridcolor": "#506784",
             "startlinecolor": "#A2B1C6"
            },
            "baxis": {
             "endlinecolor": "#A2B1C6",
             "gridcolor": "#506784",
             "linecolor": "#506784",
             "minorgridcolor": "#506784",
             "startlinecolor": "#A2B1C6"
            },
            "type": "carpet"
           }
          ],
          "choropleth": [
           {
            "colorbar": {
             "outlinewidth": 0,
             "ticks": ""
            },
            "type": "choropleth"
           }
          ],
          "contour": [
           {
            "colorbar": {
             "outlinewidth": 0,
             "ticks": ""
            },
            "colorscale": [
             [
              0,
              "#0d0887"
             ],
             [
              0.1111111111111111,
              "#46039f"
             ],
             [
              0.2222222222222222,
              "#7201a8"
             ],
             [
              0.3333333333333333,
              "#9c179e"
             ],
             [
              0.4444444444444444,
              "#bd3786"
             ],
             [
              0.5555555555555556,
              "#d8576b"
             ],
             [
              0.6666666666666666,
              "#ed7953"
             ],
             [
              0.7777777777777778,
              "#fb9f3a"
             ],
             [
              0.8888888888888888,
              "#fdca26"
             ],
             [
              1,
              "#f0f921"
             ]
            ],
            "type": "contour"
           }
          ],
          "contourcarpet": [
           {
            "colorbar": {
             "outlinewidth": 0,
             "ticks": ""
            },
            "type": "contourcarpet"
           }
          ],
          "heatmap": [
           {
            "colorbar": {
             "outlinewidth": 0,
             "ticks": ""
            },
            "colorscale": [
             [
              0,
              "#0d0887"
             ],
             [
              0.1111111111111111,
              "#46039f"
             ],
             [
              0.2222222222222222,
              "#7201a8"
             ],
             [
              0.3333333333333333,
              "#9c179e"
             ],
             [
              0.4444444444444444,
              "#bd3786"
             ],
             [
              0.5555555555555556,
              "#d8576b"
             ],
             [
              0.6666666666666666,
              "#ed7953"
             ],
             [
              0.7777777777777778,
              "#fb9f3a"
             ],
             [
              0.8888888888888888,
              "#fdca26"
             ],
             [
              1,
              "#f0f921"
             ]
            ],
            "type": "heatmap"
           }
          ],
          "heatmapgl": [
           {
            "colorbar": {
             "outlinewidth": 0,
             "ticks": ""
            },
            "colorscale": [
             [
              0,
              "#0d0887"
             ],
             [
              0.1111111111111111,
              "#46039f"
             ],
             [
              0.2222222222222222,
              "#7201a8"
             ],
             [
              0.3333333333333333,
              "#9c179e"
             ],
             [
              0.4444444444444444,
              "#bd3786"
             ],
             [
              0.5555555555555556,
              "#d8576b"
             ],
             [
              0.6666666666666666,
              "#ed7953"
             ],
             [
              0.7777777777777778,
              "#fb9f3a"
             ],
             [
              0.8888888888888888,
              "#fdca26"
             ],
             [
              1,
              "#f0f921"
             ]
            ],
            "type": "heatmapgl"
           }
          ],
          "histogram": [
           {
            "marker": {
             "pattern": {
              "fillmode": "overlay",
              "size": 10,
              "solidity": 0.2
             }
            },
            "type": "histogram"
           }
          ],
          "histogram2d": [
           {
            "colorbar": {
             "outlinewidth": 0,
             "ticks": ""
            },
            "colorscale": [
             [
              0,
              "#0d0887"
             ],
             [
              0.1111111111111111,
              "#46039f"
             ],
             [
              0.2222222222222222,
              "#7201a8"
             ],
             [
              0.3333333333333333,
              "#9c179e"
             ],
             [
              0.4444444444444444,
              "#bd3786"
             ],
             [
              0.5555555555555556,
              "#d8576b"
             ],
             [
              0.6666666666666666,
              "#ed7953"
             ],
             [
              0.7777777777777778,
              "#fb9f3a"
             ],
             [
              0.8888888888888888,
              "#fdca26"
             ],
             [
              1,
              "#f0f921"
             ]
            ],
            "type": "histogram2d"
           }
          ],
          "histogram2dcontour": [
           {
            "colorbar": {
             "outlinewidth": 0,
             "ticks": ""
            },
            "colorscale": [
             [
              0,
              "#0d0887"
             ],
             [
              0.1111111111111111,
              "#46039f"
             ],
             [
              0.2222222222222222,
              "#7201a8"
             ],
             [
              0.3333333333333333,
              "#9c179e"
             ],
             [
              0.4444444444444444,
              "#bd3786"
             ],
             [
              0.5555555555555556,
              "#d8576b"
             ],
             [
              0.6666666666666666,
              "#ed7953"
             ],
             [
              0.7777777777777778,
              "#fb9f3a"
             ],
             [
              0.8888888888888888,
              "#fdca26"
             ],
             [
              1,
              "#f0f921"
             ]
            ],
            "type": "histogram2dcontour"
           }
          ],
          "mesh3d": [
           {
            "colorbar": {
             "outlinewidth": 0,
             "ticks": ""
            },
            "type": "mesh3d"
           }
          ],
          "parcoords": [
           {
            "line": {
             "colorbar": {
              "outlinewidth": 0,
              "ticks": ""
             }
            },
            "type": "parcoords"
           }
          ],
          "pie": [
           {
            "automargin": true,
            "type": "pie"
           }
          ],
          "scatter": [
           {
            "marker": {
             "line": {
              "color": "#283442"
             }
            },
            "type": "scatter"
           }
          ],
          "scatter3d": [
           {
            "line": {
             "colorbar": {
              "outlinewidth": 0,
              "ticks": ""
             }
            },
            "marker": {
             "colorbar": {
              "outlinewidth": 0,
              "ticks": ""
             }
            },
            "type": "scatter3d"
           }
          ],
          "scattercarpet": [
           {
            "marker": {
             "colorbar": {
              "outlinewidth": 0,
              "ticks": ""
             }
            },
            "type": "scattercarpet"
           }
          ],
          "scattergeo": [
           {
            "marker": {
             "colorbar": {
              "outlinewidth": 0,
              "ticks": ""
             }
            },
            "type": "scattergeo"
           }
          ],
          "scattergl": [
           {
            "marker": {
             "line": {
              "color": "#283442"
             }
            },
            "type": "scattergl"
           }
          ],
          "scattermapbox": [
           {
            "marker": {
             "colorbar": {
              "outlinewidth": 0,
              "ticks": ""
             }
            },
            "type": "scattermapbox"
           }
          ],
          "scatterpolar": [
           {
            "marker": {
             "colorbar": {
              "outlinewidth": 0,
              "ticks": ""
             }
            },
            "type": "scatterpolar"
           }
          ],
          "scatterpolargl": [
           {
            "marker": {
             "colorbar": {
              "outlinewidth": 0,
              "ticks": ""
             }
            },
            "type": "scatterpolargl"
           }
          ],
          "scatterternary": [
           {
            "marker": {
             "colorbar": {
              "outlinewidth": 0,
              "ticks": ""
             }
            },
            "type": "scatterternary"
           }
          ],
          "surface": [
           {
            "colorbar": {
             "outlinewidth": 0,
             "ticks": ""
            },
            "colorscale": [
             [
              0,
              "#0d0887"
             ],
             [
              0.1111111111111111,
              "#46039f"
             ],
             [
              0.2222222222222222,
              "#7201a8"
             ],
             [
              0.3333333333333333,
              "#9c179e"
             ],
             [
              0.4444444444444444,
              "#bd3786"
             ],
             [
              0.5555555555555556,
              "#d8576b"
             ],
             [
              0.6666666666666666,
              "#ed7953"
             ],
             [
              0.7777777777777778,
              "#fb9f3a"
             ],
             [
              0.8888888888888888,
              "#fdca26"
             ],
             [
              1,
              "#f0f921"
             ]
            ],
            "type": "surface"
           }
          ],
          "table": [
           {
            "cells": {
             "fill": {
              "color": "#506784"
             },
             "line": {
              "color": "rgb(17,17,17)"
             }
            },
            "header": {
             "fill": {
              "color": "#2a3f5f"
             },
             "line": {
              "color": "rgb(17,17,17)"
             }
            },
            "type": "table"
           }
          ]
         },
         "layout": {
          "annotationdefaults": {
           "arrowcolor": "#f2f5fa",
           "arrowhead": 0,
           "arrowwidth": 1
          },
          "autotypenumbers": "strict",
          "coloraxis": {
           "colorbar": {
            "outlinewidth": 0,
            "ticks": ""
           }
          },
          "colorscale": {
           "diverging": [
            [
             0,
             "#8e0152"
            ],
            [
             0.1,
             "#c51b7d"
            ],
            [
             0.2,
             "#de77ae"
            ],
            [
             0.3,
             "#f1b6da"
            ],
            [
             0.4,
             "#fde0ef"
            ],
            [
             0.5,
             "#f7f7f7"
            ],
            [
             0.6,
             "#e6f5d0"
            ],
            [
             0.7,
             "#b8e186"
            ],
            [
             0.8,
             "#7fbc41"
            ],
            [
             0.9,
             "#4d9221"
            ],
            [
             1,
             "#276419"
            ]
           ],
           "sequential": [
            [
             0,
             "#0d0887"
            ],
            [
             0.1111111111111111,
             "#46039f"
            ],
            [
             0.2222222222222222,
             "#7201a8"
            ],
            [
             0.3333333333333333,
             "#9c179e"
            ],
            [
             0.4444444444444444,
             "#bd3786"
            ],
            [
             0.5555555555555556,
             "#d8576b"
            ],
            [
             0.6666666666666666,
             "#ed7953"
            ],
            [
             0.7777777777777778,
             "#fb9f3a"
            ],
            [
             0.8888888888888888,
             "#fdca26"
            ],
            [
             1,
             "#f0f921"
            ]
           ],
           "sequentialminus": [
            [
             0,
             "#0d0887"
            ],
            [
             0.1111111111111111,
             "#46039f"
            ],
            [
             0.2222222222222222,
             "#7201a8"
            ],
            [
             0.3333333333333333,
             "#9c179e"
            ],
            [
             0.4444444444444444,
             "#bd3786"
            ],
            [
             0.5555555555555556,
             "#d8576b"
            ],
            [
             0.6666666666666666,
             "#ed7953"
            ],
            [
             0.7777777777777778,
             "#fb9f3a"
            ],
            [
             0.8888888888888888,
             "#fdca26"
            ],
            [
             1,
             "#f0f921"
            ]
           ]
          },
          "colorway": [
           "#636efa",
           "#EF553B",
           "#00cc96",
           "#ab63fa",
           "#FFA15A",
           "#19d3f3",
           "#FF6692",
           "#B6E880",
           "#FF97FF",
           "#FECB52"
          ],
          "font": {
           "color": "#f2f5fa"
          },
          "geo": {
           "bgcolor": "rgb(17,17,17)",
           "lakecolor": "rgb(17,17,17)",
           "landcolor": "rgb(17,17,17)",
           "showlakes": true,
           "showland": true,
           "subunitcolor": "#506784"
          },
          "hoverlabel": {
           "align": "left"
          },
          "hovermode": "closest",
          "mapbox": {
           "style": "dark"
          },
          "paper_bgcolor": "rgb(17,17,17)",
          "plot_bgcolor": "rgb(17,17,17)",
          "polar": {
           "angularaxis": {
            "gridcolor": "#506784",
            "linecolor": "#506784",
            "ticks": ""
           },
           "bgcolor": "rgb(17,17,17)",
           "radialaxis": {
            "gridcolor": "#506784",
            "linecolor": "#506784",
            "ticks": ""
           }
          },
          "scene": {
           "xaxis": {
            "backgroundcolor": "rgb(17,17,17)",
            "gridcolor": "#506784",
            "gridwidth": 2,
            "linecolor": "#506784",
            "showbackground": true,
            "ticks": "",
            "zerolinecolor": "#C8D4E3"
           },
           "yaxis": {
            "backgroundcolor": "rgb(17,17,17)",
            "gridcolor": "#506784",
            "gridwidth": 2,
            "linecolor": "#506784",
            "showbackground": true,
            "ticks": "",
            "zerolinecolor": "#C8D4E3"
           },
           "zaxis": {
            "backgroundcolor": "rgb(17,17,17)",
            "gridcolor": "#506784",
            "gridwidth": 2,
            "linecolor": "#506784",
            "showbackground": true,
            "ticks": "",
            "zerolinecolor": "#C8D4E3"
           }
          },
          "shapedefaults": {
           "line": {
            "color": "#f2f5fa"
           }
          },
          "sliderdefaults": {
           "bgcolor": "#C8D4E3",
           "bordercolor": "rgb(17,17,17)",
           "borderwidth": 1,
           "tickwidth": 0
          },
          "ternary": {
           "aaxis": {
            "gridcolor": "#506784",
            "linecolor": "#506784",
            "ticks": ""
           },
           "baxis": {
            "gridcolor": "#506784",
            "linecolor": "#506784",
            "ticks": ""
           },
           "bgcolor": "rgb(17,17,17)",
           "caxis": {
            "gridcolor": "#506784",
            "linecolor": "#506784",
            "ticks": ""
           }
          },
          "title": {
           "x": 0.05
          },
          "updatemenudefaults": {
           "bgcolor": "#506784",
           "borderwidth": 0
          },
          "xaxis": {
           "automargin": true,
           "gridcolor": "#283442",
           "linecolor": "#506784",
           "ticks": "",
           "title": {
            "standoff": 15
           },
           "zerolinecolor": "#283442",
           "zerolinewidth": 2
          },
          "yaxis": {
           "automargin": true,
           "gridcolor": "#283442",
           "linecolor": "#506784",
           "ticks": "",
           "title": {
            "standoff": 15
           },
           "zerolinecolor": "#283442",
           "zerolinewidth": 2
          }
         }
        },
        "title": {
         "text": "HVC-function"
        },
        "xaxis": {
         "title": {
          "text": "merge_intensity"
         }
        },
        "yaxis": {
         "title": {
          "text": "msc"
         }
        }
       }
      }
     },
     "metadata": {},
     "output_type": "display_data"
    }
   ],
   "source": [
    "def plot_series(series):\n",
    "    x_values = [item[0] for item in series]\n",
    "    y_values = [item[1] for item in series]\n",
    "    \n",
    "    fig = go.Figure(data=go.Scatter(x=x_values, y=y_values, mode='lines'))\n",
    "    fig.update_layout(\n",
    "        title='HVC-function',\n",
    "        xaxis_title='merge_intensity',\n",
    "        yaxis_title='msc',\n",
    "        template='plotly_dark'\n",
    "    )\n",
    "    fig.show()\n",
    "\n",
    "# count contaminations\n",
    "fn_passing = list()\n",
    "passing_score = 0\n",
    "while passing_score < df_total['minimum_scale_coefficient'].max():\n",
    "    passing_score += 0.05\n",
    "    df_total['pass'] = df_total['minimum_scale_coefficient'].apply(lambda x : x > passing_score)\n",
    "    merge_intensity = len(df_total[df_total['pass']])/len(df_total)\n",
    "    fn_passing.append([merge_intensity, passing_score])\n",
    "\n",
    "plot_series(fn_passing)"
   ]
  }
 ],
 "metadata": {
  "kernelspec": {
   "display_name": "Python 3",
   "language": "python",
   "name": "python3"
  },
  "language_info": {
   "codemirror_mode": {
    "name": "ipython",
    "version": 3
   },
   "file_extension": ".py",
   "mimetype": "text/x-python",
   "name": "python",
   "nbconvert_exporter": "python",
   "pygments_lexer": "ipython3",
   "version": "3.11.9"
  }
 },
 "nbformat": 4,
 "nbformat_minor": 2
}
