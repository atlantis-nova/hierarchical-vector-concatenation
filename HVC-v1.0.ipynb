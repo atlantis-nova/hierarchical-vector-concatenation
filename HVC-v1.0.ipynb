{
 "cells": [
  {
   "cell_type": "markdown",
   "metadata": {},
   "source": [
    "# Hiearchical Vector Concatenation\n",
    "\n",
    "In this notebook, we are going to simulate the concatenation of two vectors using the HVC technique"
   ]
  },
  {
   "cell_type": "markdown",
   "metadata": {},
   "source": [
    "### defining functions"
   ]
  },
  {
   "cell_type": "code",
   "execution_count": 1,
   "metadata": {},
   "outputs": [],
   "source": [
    "import pandas as pd\n",
    "import random\n",
    "from itertools import combinations, product\n",
    "from scipy.spatial import distance\n",
    "import numpy as np\n",
    "from sklearn.neighbors import NearestNeighbors\n",
    "import json\n",
    "import math\n",
    "\n",
    "def vector_(vector, new_vector_length, x):\n",
    "    vector = [(vector[i], vector[i]*x)[i < new_vector_length] for i in range(len(vector))]\n",
    "    vector = np.array(vector)\n",
    "    return vector\n",
    "\n",
    "def test_knn(df, class_n, minimum_scale_coefficient, test_amount, sample_id=None, minimum_sample_n=0, verbose=False):\n",
    "    '''\n",
    "    tests each individual class sample vs all the other sample in the dataset\n",
    "    when minimum_scale_coefficient==-1 means calculation cannot be done: WE DO NOT RAISE ERROR\n",
    "    '''\n",
    "    if minimum_scale_coefficient == -1:\n",
    "        if verbose:\n",
    "            print('minimum_scale_coefficient == -1')\n",
    "            print('inconsistencies:', -1)\n",
    "        return True\n",
    "\n",
    "    class Found(Exception): pass\n",
    "    # df = pd.read_parquet(f'{exp}/df_hierarchical_vector.parquet') #we reset the vectors so they do not kee scaling per iteration\n",
    "    df_ = df.copy()\n",
    "\n",
    "    # test for inefficiencies\n",
    "    key1 = class_n\n",
    "    if sample_id:\n",
    "        samples = [sample_id]\n",
    "    else:\n",
    "        samples = [*df_[df_['class_1']==key1].index]\n",
    "\n",
    "    for r in samples:\n",
    "        if r >= minimum_sample_n:\n",
    "\n",
    "            if verbose : print('**', '\\tsample:', r, '\\tmsc:', minimum_scale_coefficient)\n",
    "            \n",
    "            for msc_variation in [['less_than', minimum_scale_coefficient-test_amount], ['more_than', minimum_scale_coefficient+test_amount]]:\n",
    "                \n",
    "                # df = pd.read_parquet(f'{exp}/df_hierarchical_vector.parquet') #we reset the vectors so they do not keep scaling per iteration\n",
    "                df_ = df.copy()\n",
    "                df_['vector_full'] = df_['vector_full'].apply(lambda x : vector_(x, new_vector_length, msc_variation[1]))\n",
    "\n",
    "                # classes\n",
    "                nbrs = NearestNeighbors(n_neighbors=len(df_), metric='euclidean').fit(df_['vector_full'].values.tolist())\n",
    "                distances, indices = nbrs.kneighbors([df_['vector_full'].iloc[r]]) # EDIT VECTOR 0 HERE\n",
    "\n",
    "                list1 = [df_.iloc[x]['class_1'].values.tolist() for x in indices][0]\n",
    "                counter = 1\n",
    "                for i in range(len(list1)-1):\n",
    "                    # count contaminations\n",
    "                    el = list1[i], list1[i+1]\n",
    "                    if el[0] != el[1]:\n",
    "                        # print(r, indices[0][i:i+1], list1[i:i+1], distance.euclidean(df_.iloc[indices[0][0]]['vector_full'], df_.iloc[indices[0][i]]['vector_full']))\n",
    "                        counter += 1\n",
    "\n",
    "                inconsistencies = counter-n_classes\n",
    "                if msc_variation[0] == 'less_than':\n",
    "                    # should have inconsistencies, because we test it on a scaler < msc+test_amount\n",
    "\n",
    "                    if inconsistencies == 0:\n",
    "                        if verbose : \n",
    "                            print('<', 'ERR')\n",
    "                            print('<', 'inconsistencies:', inconsistencies)\n",
    "                        # raise Found\n",
    "                        return False\n",
    "                    else:\n",
    "                        if verbose :\n",
    "                            print('<', 'inconsistencies:', inconsistencies)\n",
    "                        return True\n",
    "                        \n",
    "                if msc_variation[0] == 'more_than':\n",
    "                    # should not have inconsistencies, because we test it on a scaler > msc+test_amount\n",
    "\n",
    "                    if inconsistencies == 0:\n",
    "                        if verbose : \n",
    "                            print('>', 'inconsistencies:', inconsistencies)\n",
    "                        return True\n",
    "                        \n",
    "                    else:\n",
    "                        if verbose :\n",
    "                            print('>', 'ERR')\n",
    "                            print('>', 'inconsistencies:', inconsistencies)\n",
    "                        return False\n",
    "                        # raise Found\n",
    "                        \n",
    "        if sample_id is not None:\n",
    "            return True\n",
    "            \n",
    "def triangular_extension(A, B, C, concat_vector_length):\n",
    "    \n",
    "    if not len(A)==len(B)==len(C):\n",
    "        raise Exception('all vectors must be of the same length')\n",
    "\n",
    "    n = len(A)\n",
    "    m = concat_vector_length\n",
    "    numerator = 0\n",
    "    for i in range(m, n):\n",
    "        numerator += (2*A[i]*(B[i]-C[i]) + C[i]**2 - B[i]**2)\n",
    "\n",
    "    denominator = 0\n",
    "    for i in range(m):\n",
    "        denominator += ( 2*A[i]*(C[i]-B[i]) + B[i]**2 - C[i]**2 )\n",
    "    \n",
    "    try:\n",
    "        # AB will never be larger than AC\n",
    "        # issue 1: negative quotient (sqrt is impossible)\n",
    "        # issue 2: denominator is 0\n",
    "        total = numerator/denominator\n",
    "        total = math.sqrt(total)\n",
    "        return total   \n",
    "    except:\n",
    "        # AB can be larger than AC\n",
    "        return -1\n",
    "    \n",
    "def get_msc(df_total, sample_id, verbose=False):\n",
    "    \"\"\"\n",
    "    we get the exact minimum scale coefficient given a sample.\n",
    "    in total, a given A, B, C will have the same samples with an msc score for each step of a single path\n",
    "    for a given A, we need to get the highest msc of the sample for it to work\n",
    "    \"\"\"\n",
    "    df_ = df_total[(df_total['index']==sample_id)]\n",
    "    if verbose :\n",
    "        display(df_)\n",
    "    return df_.minimum_scale_coefficient.max()\n",
    "\n",
    "letters = 'abcdefghijklmnopqrstwxyz'\n",
    "letters = letters.upper()\n",
    "def create_class(k):\n",
    "    class_name = ''.join(random.choices(letters, k=k))\n",
    "    return class_name"
   ]
  },
  {
   "cell_type": "markdown",
   "metadata": {},
   "source": [
    "### creating sample dataset"
   ]
  },
  {
   "cell_type": "code",
   "execution_count": 4,
   "metadata": {},
   "outputs": [],
   "source": [
    "#   non-labeled df\n",
    "initial_vector_n = 700 # 1h computation\n",
    "initial_vector_length = 100\n",
    "df = pd.DataFrame([[[random.random()*2-1 for x in range(initial_vector_length)] for k in range(initial_vector_n)]]).T\n",
    "df.columns = ['vector_0']\n",
    "df['vector_full'] = df['vector_0'] \n",
    "df\n",
    "\n",
    "#   labeled df\n",
    "for depth in range(1):\n",
    "    # we start counting from 1, the previous vector start from depth 0\n",
    "    depth += 1\n",
    "    n_classes = 8\n",
    "    new_vector_length = 100\n",
    "\n",
    "    # the vector for each class has to be identical\n",
    "    classes = [(str(x), '0'+str(x))[x<10] for x in range(n_classes)]\n",
    "    # classes = ['A', 'B', 'C', 'D']\n",
    "    arr1 = {key:[random.random()*2-1 for x in range(new_vector_length)] for key in classes}\n",
    "    df_new = pd.DataFrame([[x, arr1[x]] for x in random.choices(classes, k=len(df))])\n",
    "    df_new.columns = [f'class_{depth}', f'vector_{depth}']\n",
    "    df_new_clean = df_new.drop_duplicates(f'class_{depth}')\n",
    "\n",
    "    df = pd.concat([df_new, df], axis=1)\n",
    "\n",
    "    # for now we just sum it: we scale it later\n",
    "    df['vector_full'] = df[f'vector_{depth}'] + df['vector_full']\n",
    "    df['vector_new'] = df[f'vector_{depth}']\n",
    "\n",
    "exp = 'exp1'\n",
    "\n",
    "# save records\n",
    "df.to_parquet(f'{exp}/df_hierarchical_vector.parquet', index=None)"
   ]
  },
  {
   "cell_type": "markdown",
   "metadata": {},
   "source": [
    "### computing msc for every sample in the dataset"
   ]
  },
  {
   "cell_type": "code",
   "execution_count": 5,
   "metadata": {},
   "outputs": [
    {
     "name": "stdout",
     "output_type": "stream",
     "text": [
      "A: 07 \tB: 07 \tC: 05 \t** 1.045578633853104\n",
      "A: 07 \tB: 05 \tC: 01 \t** 2.703447207283985\n",
      "A: 07 \tB: 01 \tC: 00 \t** 6.255404885398754\n",
      "A: 07 \tB: 00 \tC: 03 \t** 2.351017413767862\n",
      "A: 07 \tB: 03 \tC: 04 \t** 2.818713063713374\n",
      "A: 07 \tB: 04 \tC: 02 \t** 3.704776385354303\n",
      "A: 07 \tB: 02 \tC: 06 \t** 3.178329666477664\n",
      "A: 01 \tB: 01 \tC: 07 \t** 0.976130536897291\n",
      "A: 01 \tB: 07 \tC: 03 \t** 2.398549853704585\n",
      "A: 01 \tB: 03 \tC: 06 \t** 6.895294989035782\n",
      "A: 01 \tB: 06 \tC: 00 \t** 3.3447132120891934\n",
      "A: 01 \tB: 00 \tC: 04 \t** 3.5110103012352525\n",
      "A: 01 \tB: 04 \tC: 05 \t** 6.235429747408428\n",
      "A: 01 \tB: 05 \tC: 02 \t** 4.331186783789231\n",
      "A: 03 \tB: 03 \tC: 02 \t** 0.9447831214171218\n",
      "A: 03 \tB: 02 \tC: 01 \t** 2.5588594553733794\n",
      "A: 03 \tB: 01 \tC: 07 \t** 5.664591799747541\n",
      "A: 03 \tB: 07 \tC: 00 \t** 4.515299627196445\n",
      "A: 03 \tB: 00 \tC: 05 \t** 2.6670200370685726\n",
      "A: 03 \tB: 05 \tC: 06 \t** 3.86121335247303\n",
      "A: 03 \tB: 06 \tC: 04 \t** 3.532013526015351\n",
      "A: 02 \tB: 02 \tC: 03 \t** 0.9091300475256696\n",
      "A: 02 \tB: 03 \tC: 04 \t** 2.0925851684459627\n",
      "A: 02 \tB: 04 \tC: 00 \t** 3.245277103225641\n",
      "A: 02 \tB: 00 \tC: 06 \t** 5.118515724701545\n",
      "A: 02 \tB: 06 \tC: 07 \t** 6.02574617358373\n",
      "A: 02 \tB: 07 \tC: 01 \t** 4.75669562647569\n",
      "A: 02 \tB: 01 \tC: 05 \t** 2.9937753023361733\n",
      "A: 04 \tB: 04 \tC: 06 \t** 0.9337285327276497\n",
      "A: 04 \tB: 06 \tC: 02 \t** 5.3201592602197625\n",
      "A: 04 \tB: 02 \tC: 07 \t** 3.3009996395934516\n",
      "A: 04 \tB: 07 \tC: 01 \t** 5.0211743112973855\n",
      "A: 04 \tB: 01 \tC: 05 \t** 86.27713129082429\n",
      "A: 04 \tB: 05 \tC: 00 \t** 3.0335579782923223\n",
      "A: 04 \tB: 00 \tC: 03 \t** 3.832141723746301\n",
      "A: 00 \tB: 00 \tC: 07 \t** 0.98232967142642\n",
      "A: 00 \tB: 07 \tC: 03 \t** 2.0459087552074458\n",
      "A: 00 \tB: 03 \tC: 01 \t** 6.310978773187017\n",
      "A: 00 \tB: 01 \tC: 02 \t** 5.103672294504277\n",
      "A: 00 \tB: 02 \tC: 06 \t** 3.010246731130837\n",
      "A: 00 \tB: 06 \tC: 04 \t** 5.397595626679968\n",
      "A: 00 \tB: 04 \tC: 05 \t** 9.759896690600218\n",
      "A: 06 \tB: 06 \tC: 01 \t** 0.9489589223138241\n",
      "A: 06 \tB: 01 \tC: 04 \t** 19.222991749421205\n",
      "A: 06 \tB: 04 \tC: 02 \t** 2.473462197285598\n",
      "A: 06 \tB: 02 \tC: 00 \t** 4.086448624349974\n",
      "A: 06 \tB: 00 \tC: 03 \t** 6.596515239303249\n",
      "A: 06 \tB: 03 \tC: 07 \t** 4.795153447278325\n",
      "A: 06 \tB: 07 \tC: 05 \t** 12.074376328442417\n",
      "A: 05 \tB: 05 \tC: 07 \t** 1.0235768184986593\n",
      "A: 05 \tB: 07 \tC: 04 \t** 1.4006045380297352\n",
      "A: 05 \tB: 04 \tC: 03 \t** 6.289644613772287\n",
      "A: 05 \tB: 03 \tC: 01 \t** 15.265678839503822\n",
      "A: 05 \tB: 01 \tC: 00 \t** 3.4242638695197996\n",
      "A: 05 \tB: 00 \tC: 06 \t** 6.118332142256852\n",
      "A: 05 \tB: 06 \tC: 02 \t** 4.280607355015769\n"
     ]
    }
   ],
   "source": [
    "exp = 'exp1'\n",
    "depth = 1\n",
    "df = pd.read_parquet(f'{exp}/df_hierarchical_vector.parquet')\n",
    "df_new_clean = df[['class_1', 'vector_1']].drop_duplicates(f'class_{depth}')\n",
    "n_classes = len(df_new_clean.class_1.unique())\n",
    "new_vector_length = len(df.vector_1[0])\n",
    "selection_method = 'precise' # 'approximate' 'precise'\n",
    "\n",
    "seq = dict()\n",
    "for key_A in [*df_new_clean['class_1']]:\n",
    "    nbrs = NearestNeighbors(n_neighbors=len(df_new_clean), metric='euclidean').fit(df_new_clean['vector_1'].values.tolist())\n",
    "    distances, indices = nbrs.kneighbors(df_new_clean[df_new_clean['class_1']==key_A]['vector_1'].values.tolist())\n",
    "    seq[key_A] = [*df_new_clean['class_1'].iloc[indices[0]].values]\n",
    "\n",
    "t = list()\n",
    "total = list()\n",
    "for key_A in [*seq.keys()]:\n",
    "    if key_A not in ['m']: #[*df_total[0].unique()][:-1]:\n",
    "\n",
    "        df = pd.read_parquet(f'{exp}/df_hierarchical_vector.parquet')\n",
    "\n",
    "        for _ in seq[key_A]:\n",
    "            # find the path from key_A to all the following keys in order of distance\n",
    "            sequence_ = list()\n",
    "            for index in range(len(seq[key_A])-1):\n",
    "                sequence_.append([seq[key_A][index], seq[key_A][index+1]])\n",
    "            sequence_\n",
    "\n",
    "        for s in sequence_:\n",
    "            key_B = s[0]\n",
    "            key_C = s[1]\n",
    "\n",
    "            if selection_method == 'precise':\n",
    "                # we take into account ALL THE OTHER POINTS: heavy computations required\n",
    "                nbrs_B = NearestNeighbors(n_neighbors=len(df[df['class_1']==key_B]), metric='euclidean').fit(df[df['class_1']==key_B]['vector_full'].values.tolist())\n",
    "                nbrs_C = NearestNeighbors(n_neighbors=len(df[df['class_1']==key_C]), metric='euclidean').fit(df[df['class_1']==key_C]['vector_full'].values.tolist())\n",
    "            elif selection_method == 'approximate':\n",
    "                # we apply k-means to every class\n",
    "                # df_sample = \n",
    "                pass\n",
    "                \n",
    "            counter = 0\n",
    "            for k in df[df['class_1']==key_A].reset_index().values.tolist():\n",
    "                point_A = k[0] # index is the absolute one\n",
    "                point_A_vector = k[4]\n",
    "\n",
    "                distances_B, indices_B = nbrs_B.kneighbors([point_A_vector])\n",
    "                distances_C, indices_C = nbrs_C.kneighbors([point_A_vector])\n",
    "\n",
    "                # given point_A, find the furthest in cluster_B\n",
    "                point_B = indices_B[0][-1]\n",
    "                point_B_vector = df[df['class_1']==key_B]['vector_full'].iloc[point_B].tolist()\n",
    "                longest_vectors = (point_A_vector, point_B_vector)\n",
    "\n",
    "                # given point_A, find the shortest in cluster_C\n",
    "                point_C = indices_C[0][0]\n",
    "                point_C_vector = df[df['class_1']==key_C]['vector_full'].iloc[point_C].tolist()\n",
    "                shortest_vectors = (point_A_vector, point_C_vector)\n",
    "\n",
    "                x = triangular_extension(\n",
    "                    point_A_vector, \n",
    "                    point_B_vector,\n",
    "                    point_C_vector, \n",
    "                    concat_vector_length=new_vector_length\n",
    "                )\n",
    "\n",
    "                total.append([key_A, key_B, key_C, point_A, x])\n",
    "                t.append([point_A_vector, point_B_vector, point_C_vector])\n",
    "\n",
    "                # print(point_A_vector, point_B_vector, point_C_vector)\n",
    "                counter += 1           \n",
    "\n",
    "            # print insights\n",
    "            df_total = pd.DataFrame(total)\n",
    "            df_total.columns = ['A', 'B', 'C', 'index', 'minimum_scale_coefficient']\n",
    "            minimum_scale_coefficient_key_B = df_total[(df_total['A']==key_A) & (df_total['B']==key_B)]['minimum_scale_coefficient'].max()\n",
    "            print('A:', key_A, '\\tB:', key_B, '\\tC:', key_C, '\\t**', minimum_scale_coefficient_key_B)\n",
    "\n",
    "df_total.to_parquet(f'{exp}/total.csv', index=None)"
   ]
  },
  {
   "cell_type": "code",
   "execution_count": null,
   "metadata": {},
   "outputs": [],
   "source": [
    "df_total"
   ]
  },
  {
   "cell_type": "markdown",
   "metadata": {},
   "source": [
    "### testing a single sample"
   ]
  },
  {
   "cell_type": "code",
   "execution_count": 6,
   "metadata": {},
   "outputs": [
    {
     "data": {
      "text/plain": [
       "True"
      ]
     },
     "execution_count": 6,
     "metadata": {},
     "output_type": "execute_result"
    }
   ],
   "source": [
    "import sys\n",
    "\n",
    "df = pd.read_parquet(f'{exp}/df_hierarchical_vector.parquet') #we reset the vectors so they do not kee scaling per iteration\n",
    "\n",
    "# test msc of single sample\n",
    "sample_id = 3\n",
    "msc = get_msc(df_total, sample_id=sample_id, verbose=False)\n",
    "# without adding the 0.001, it fails because of function approximation\n",
    "\n",
    "# by a tiny decrease in x, the constraint should not be valida anymore\n",
    "test_amount = 0.00001\n",
    "class_n = [*df_total[df_total['index']==sample_id]['A']][0]\n",
    "test_knn(df, class_n=class_n, minimum_scale_coefficient=msc, test_amount=test_amount, sample_id=sample_id, verbose=False)"
   ]
  },
  {
   "cell_type": "markdown",
   "metadata": {},
   "source": [
    "### counting geometrical impossibilities, if any"
   ]
  },
  {
   "cell_type": "code",
   "execution_count": 7,
   "metadata": {},
   "outputs": [
    {
     "data": {
      "text/plain": [
       "0"
      ]
     },
     "execution_count": 7,
     "metadata": {},
     "output_type": "execute_result"
    }
   ],
   "source": [
    "# count geometrical impossibilities\n",
    "len(df_total[df_total['minimum_scale_coefficient']==-1])"
   ]
  },
  {
   "cell_type": "markdown",
   "metadata": {},
   "source": [
    "### testing the entire dataset by adding/removing epsilon (test_score)"
   ]
  },
  {
   "cell_type": "code",
   "execution_count": 9,
   "metadata": {},
   "outputs": [
    {
     "name": "stderr",
     "output_type": "stream",
     "text": [
      "class: 07: 100%|██████████| 595/595 [00:37<00:00, 15.83it/s]\n",
      "class: 01: 100%|██████████| 679/679 [00:46<00:00, 14.65it/s]\n",
      "class: 03: 100%|██████████| 539/539 [00:38<00:00, 14.05it/s]\n",
      "class: 02:  27%|██▋       | 167/609 [00:12<00:33, 13.34it/s]\n"
     ]
    },
    {
     "ename": "KeyboardInterrupt",
     "evalue": "",
     "output_type": "error",
     "traceback": [
      "\u001b[1;31m---------------------------------------------------------------------------\u001b[0m",
      "\u001b[1;31mKeyboardInterrupt\u001b[0m                         Traceback (most recent call last)",
      "Cell \u001b[1;32mIn[9], line 7\u001b[0m\n\u001b[0;32m      5\u001b[0m sample_id \u001b[38;5;241m=\u001b[39m df_total[df_total[\u001b[38;5;124m'\u001b[39m\u001b[38;5;124mA\u001b[39m\u001b[38;5;124m'\u001b[39m]\u001b[38;5;241m==\u001b[39mkey_A][\u001b[38;5;124m'\u001b[39m\u001b[38;5;124mindex\u001b[39m\u001b[38;5;124m'\u001b[39m]\u001b[38;5;241m.\u001b[39miloc[sample_index]\n\u001b[0;32m      6\u001b[0m msc \u001b[38;5;241m=\u001b[39m get_msc(df_total, sample_id\u001b[38;5;241m=\u001b[39msample_id, verbose\u001b[38;5;241m=\u001b[39m\u001b[38;5;28;01mFalse\u001b[39;00m)\n\u001b[1;32m----> 7\u001b[0m test \u001b[38;5;241m=\u001b[39m \u001b[43mtest_knn\u001b[49m\u001b[43m(\u001b[49m\n\u001b[0;32m      8\u001b[0m \u001b[43m    \u001b[49m\u001b[43mdf\u001b[49m\u001b[43m,\u001b[49m\u001b[43m \u001b[49m\n\u001b[0;32m      9\u001b[0m \u001b[43m    \u001b[49m\u001b[43mclass_n\u001b[49m\u001b[38;5;241;43m=\u001b[39;49m\u001b[43mkey_A\u001b[49m\u001b[43m,\u001b[49m\u001b[43m \u001b[49m\n\u001b[0;32m     10\u001b[0m \u001b[43m    \u001b[49m\u001b[43mminimum_scale_coefficient\u001b[49m\u001b[38;5;241;43m=\u001b[39;49m\u001b[43mmsc\u001b[49m\u001b[43m,\u001b[49m\u001b[43m \u001b[49m\n\u001b[0;32m     11\u001b[0m \u001b[43m    \u001b[49m\u001b[43mtest_amount\u001b[49m\u001b[38;5;241;43m=\u001b[39;49m\u001b[43mtest_amount\u001b[49m\u001b[43m,\u001b[49m\n\u001b[0;32m     12\u001b[0m \u001b[43m    \u001b[49m\u001b[43msample_id\u001b[49m\u001b[38;5;241;43m=\u001b[39;49m\u001b[43msample_id\u001b[49m\u001b[43m,\u001b[49m\u001b[43m \u001b[49m\n\u001b[0;32m     13\u001b[0m \u001b[43m    \u001b[49m\u001b[43mverbose\u001b[49m\u001b[38;5;241;43m=\u001b[39;49m\u001b[38;5;28;43;01mFalse\u001b[39;49;00m\n\u001b[0;32m     14\u001b[0m \u001b[43m\u001b[49m\u001b[43m)\u001b[49m\n\u001b[0;32m     15\u001b[0m \u001b[38;5;28;01mif\u001b[39;00m test \u001b[38;5;241m==\u001b[39m \u001b[38;5;28;01mFalse\u001b[39;00m : \u001b[38;5;28;01mbreak\u001b[39;00m\n",
      "Cell \u001b[1;32mIn[1], line 49\u001b[0m, in \u001b[0;36mtest_knn\u001b[1;34m(df, class_n, minimum_scale_coefficient, test_amount, sample_id, minimum_sample_n, verbose)\u001b[0m\n\u001b[0;32m     46\u001b[0m df_[\u001b[38;5;124m'\u001b[39m\u001b[38;5;124mvector_full\u001b[39m\u001b[38;5;124m'\u001b[39m] \u001b[38;5;241m=\u001b[39m df_[\u001b[38;5;124m'\u001b[39m\u001b[38;5;124mvector_full\u001b[39m\u001b[38;5;124m'\u001b[39m]\u001b[38;5;241m.\u001b[39mapply(\u001b[38;5;28;01mlambda\u001b[39;00m x : vector_(x, new_vector_length, msc_variation[\u001b[38;5;241m1\u001b[39m]))\n\u001b[0;32m     48\u001b[0m \u001b[38;5;66;03m# classes\u001b[39;00m\n\u001b[1;32m---> 49\u001b[0m nbrs \u001b[38;5;241m=\u001b[39m \u001b[43mNearestNeighbors\u001b[49m\u001b[43m(\u001b[49m\u001b[43mn_neighbors\u001b[49m\u001b[38;5;241;43m=\u001b[39;49m\u001b[38;5;28;43mlen\u001b[39;49m\u001b[43m(\u001b[49m\u001b[43mdf_\u001b[49m\u001b[43m)\u001b[49m\u001b[43m,\u001b[49m\u001b[43m \u001b[49m\u001b[43mmetric\u001b[49m\u001b[38;5;241;43m=\u001b[39;49m\u001b[38;5;124;43m'\u001b[39;49m\u001b[38;5;124;43meuclidean\u001b[39;49m\u001b[38;5;124;43m'\u001b[39;49m\u001b[43m)\u001b[49m\u001b[38;5;241;43m.\u001b[39;49m\u001b[43mfit\u001b[49m\u001b[43m(\u001b[49m\u001b[43mdf_\u001b[49m\u001b[43m[\u001b[49m\u001b[38;5;124;43m'\u001b[39;49m\u001b[38;5;124;43mvector_full\u001b[39;49m\u001b[38;5;124;43m'\u001b[39;49m\u001b[43m]\u001b[49m\u001b[38;5;241;43m.\u001b[39;49m\u001b[43mvalues\u001b[49m\u001b[38;5;241;43m.\u001b[39;49m\u001b[43mtolist\u001b[49m\u001b[43m(\u001b[49m\u001b[43m)\u001b[49m\u001b[43m)\u001b[49m\n\u001b[0;32m     50\u001b[0m distances, indices \u001b[38;5;241m=\u001b[39m nbrs\u001b[38;5;241m.\u001b[39mkneighbors([df_[\u001b[38;5;124m'\u001b[39m\u001b[38;5;124mvector_full\u001b[39m\u001b[38;5;124m'\u001b[39m]\u001b[38;5;241m.\u001b[39miloc[r]]) \u001b[38;5;66;03m# EDIT VECTOR 0 HERE\u001b[39;00m\n\u001b[0;32m     52\u001b[0m list1 \u001b[38;5;241m=\u001b[39m [df_\u001b[38;5;241m.\u001b[39miloc[x][\u001b[38;5;124m'\u001b[39m\u001b[38;5;124mclass_1\u001b[39m\u001b[38;5;124m'\u001b[39m]\u001b[38;5;241m.\u001b[39mvalues\u001b[38;5;241m.\u001b[39mtolist() \u001b[38;5;28;01mfor\u001b[39;00m x \u001b[38;5;129;01min\u001b[39;00m indices][\u001b[38;5;241m0\u001b[39m]\n",
      "File \u001b[1;32mc:\\Users\\michelangiolo.m\\AppData\\Local\\Programs\\Python\\Python311\\Lib\\site-packages\\sklearn\\base.py:1474\u001b[0m, in \u001b[0;36m_fit_context.<locals>.decorator.<locals>.wrapper\u001b[1;34m(estimator, *args, **kwargs)\u001b[0m\n\u001b[0;32m   1467\u001b[0m     estimator\u001b[38;5;241m.\u001b[39m_validate_params()\n\u001b[0;32m   1469\u001b[0m \u001b[38;5;28;01mwith\u001b[39;00m config_context(\n\u001b[0;32m   1470\u001b[0m     skip_parameter_validation\u001b[38;5;241m=\u001b[39m(\n\u001b[0;32m   1471\u001b[0m         prefer_skip_nested_validation \u001b[38;5;129;01mor\u001b[39;00m global_skip_validation\n\u001b[0;32m   1472\u001b[0m     )\n\u001b[0;32m   1473\u001b[0m ):\n\u001b[1;32m-> 1474\u001b[0m     \u001b[38;5;28;01mreturn\u001b[39;00m \u001b[43mfit_method\u001b[49m\u001b[43m(\u001b[49m\u001b[43mestimator\u001b[49m\u001b[43m,\u001b[49m\u001b[43m \u001b[49m\u001b[38;5;241;43m*\u001b[39;49m\u001b[43margs\u001b[49m\u001b[43m,\u001b[49m\u001b[43m \u001b[49m\u001b[38;5;241;43m*\u001b[39;49m\u001b[38;5;241;43m*\u001b[39;49m\u001b[43mkwargs\u001b[49m\u001b[43m)\u001b[49m\n",
      "File \u001b[1;32mc:\\Users\\michelangiolo.m\\AppData\\Local\\Programs\\Python\\Python311\\Lib\\site-packages\\sklearn\\neighbors\\_unsupervised.py:175\u001b[0m, in \u001b[0;36mNearestNeighbors.fit\u001b[1;34m(self, X, y)\u001b[0m\n\u001b[0;32m    154\u001b[0m \u001b[38;5;129m@_fit_context\u001b[39m(\n\u001b[0;32m    155\u001b[0m     \u001b[38;5;66;03m# NearestNeighbors.metric is not validated yet\u001b[39;00m\n\u001b[0;32m    156\u001b[0m     prefer_skip_nested_validation\u001b[38;5;241m=\u001b[39m\u001b[38;5;28;01mFalse\u001b[39;00m\n\u001b[0;32m    157\u001b[0m )\n\u001b[0;32m    158\u001b[0m \u001b[38;5;28;01mdef\u001b[39;00m \u001b[38;5;21mfit\u001b[39m(\u001b[38;5;28mself\u001b[39m, X, y\u001b[38;5;241m=\u001b[39m\u001b[38;5;28;01mNone\u001b[39;00m):\n\u001b[0;32m    159\u001b[0m \u001b[38;5;250m    \u001b[39m\u001b[38;5;124;03m\"\"\"Fit the nearest neighbors estimator from the training dataset.\u001b[39;00m\n\u001b[0;32m    160\u001b[0m \n\u001b[0;32m    161\u001b[0m \u001b[38;5;124;03m    Parameters\u001b[39;00m\n\u001b[1;32m   (...)\u001b[0m\n\u001b[0;32m    173\u001b[0m \u001b[38;5;124;03m        The fitted nearest neighbors estimator.\u001b[39;00m\n\u001b[0;32m    174\u001b[0m \u001b[38;5;124;03m    \"\"\"\u001b[39;00m\n\u001b[1;32m--> 175\u001b[0m     \u001b[38;5;28;01mreturn\u001b[39;00m \u001b[38;5;28;43mself\u001b[39;49m\u001b[38;5;241;43m.\u001b[39;49m\u001b[43m_fit\u001b[49m\u001b[43m(\u001b[49m\u001b[43mX\u001b[49m\u001b[43m)\u001b[49m\n",
      "File \u001b[1;32mc:\\Users\\michelangiolo.m\\AppData\\Local\\Programs\\Python\\Python311\\Lib\\site-packages\\sklearn\\neighbors\\_base.py:518\u001b[0m, in \u001b[0;36mNeighborsBase._fit\u001b[1;34m(self, X, y)\u001b[0m\n\u001b[0;32m    516\u001b[0m \u001b[38;5;28;01melse\u001b[39;00m:\n\u001b[0;32m    517\u001b[0m     \u001b[38;5;28;01mif\u001b[39;00m \u001b[38;5;129;01mnot\u001b[39;00m \u001b[38;5;28misinstance\u001b[39m(X, (KDTree, BallTree, NeighborsBase)):\n\u001b[1;32m--> 518\u001b[0m         X \u001b[38;5;241m=\u001b[39m \u001b[38;5;28;43mself\u001b[39;49m\u001b[38;5;241;43m.\u001b[39;49m\u001b[43m_validate_data\u001b[49m\u001b[43m(\u001b[49m\u001b[43mX\u001b[49m\u001b[43m,\u001b[49m\u001b[43m \u001b[49m\u001b[43maccept_sparse\u001b[49m\u001b[38;5;241;43m=\u001b[39;49m\u001b[38;5;124;43m\"\u001b[39;49m\u001b[38;5;124;43mcsr\u001b[39;49m\u001b[38;5;124;43m\"\u001b[39;49m\u001b[43m,\u001b[49m\u001b[43m \u001b[49m\u001b[43morder\u001b[49m\u001b[38;5;241;43m=\u001b[39;49m\u001b[38;5;124;43m\"\u001b[39;49m\u001b[38;5;124;43mC\u001b[39;49m\u001b[38;5;124;43m\"\u001b[39;49m\u001b[43m)\u001b[49m\n\u001b[0;32m    520\u001b[0m \u001b[38;5;28mself\u001b[39m\u001b[38;5;241m.\u001b[39m_check_algorithm_metric()\n\u001b[0;32m    521\u001b[0m \u001b[38;5;28;01mif\u001b[39;00m \u001b[38;5;28mself\u001b[39m\u001b[38;5;241m.\u001b[39mmetric_params \u001b[38;5;129;01mis\u001b[39;00m \u001b[38;5;28;01mNone\u001b[39;00m:\n",
      "File \u001b[1;32mc:\\Users\\michelangiolo.m\\AppData\\Local\\Programs\\Python\\Python311\\Lib\\site-packages\\sklearn\\base.py:633\u001b[0m, in \u001b[0;36mBaseEstimator._validate_data\u001b[1;34m(self, X, y, reset, validate_separately, cast_to_ndarray, **check_params)\u001b[0m\n\u001b[0;32m    631\u001b[0m         out \u001b[38;5;241m=\u001b[39m X, y\n\u001b[0;32m    632\u001b[0m \u001b[38;5;28;01melif\u001b[39;00m \u001b[38;5;129;01mnot\u001b[39;00m no_val_X \u001b[38;5;129;01mand\u001b[39;00m no_val_y:\n\u001b[1;32m--> 633\u001b[0m     out \u001b[38;5;241m=\u001b[39m \u001b[43mcheck_array\u001b[49m\u001b[43m(\u001b[49m\u001b[43mX\u001b[49m\u001b[43m,\u001b[49m\u001b[43m \u001b[49m\u001b[43minput_name\u001b[49m\u001b[38;5;241;43m=\u001b[39;49m\u001b[38;5;124;43m\"\u001b[39;49m\u001b[38;5;124;43mX\u001b[39;49m\u001b[38;5;124;43m\"\u001b[39;49m\u001b[43m,\u001b[49m\u001b[43m \u001b[49m\u001b[38;5;241;43m*\u001b[39;49m\u001b[38;5;241;43m*\u001b[39;49m\u001b[43mcheck_params\u001b[49m\u001b[43m)\u001b[49m\n\u001b[0;32m    634\u001b[0m \u001b[38;5;28;01melif\u001b[39;00m no_val_X \u001b[38;5;129;01mand\u001b[39;00m \u001b[38;5;129;01mnot\u001b[39;00m no_val_y:\n\u001b[0;32m    635\u001b[0m     out \u001b[38;5;241m=\u001b[39m _check_y(y, \u001b[38;5;241m*\u001b[39m\u001b[38;5;241m*\u001b[39mcheck_params)\n",
      "File \u001b[1;32mc:\\Users\\michelangiolo.m\\AppData\\Local\\Programs\\Python\\Python311\\Lib\\site-packages\\sklearn\\utils\\validation.py:997\u001b[0m, in \u001b[0;36mcheck_array\u001b[1;34m(array, accept_sparse, accept_large_sparse, dtype, order, copy, force_all_finite, ensure_2d, allow_nd, ensure_min_samples, ensure_min_features, estimator, input_name)\u001b[0m\n\u001b[0;32m    995\u001b[0m         array \u001b[38;5;241m=\u001b[39m xp\u001b[38;5;241m.\u001b[39mastype(array, dtype, copy\u001b[38;5;241m=\u001b[39m\u001b[38;5;28;01mFalse\u001b[39;00m)\n\u001b[0;32m    996\u001b[0m     \u001b[38;5;28;01melse\u001b[39;00m:\n\u001b[1;32m--> 997\u001b[0m         array \u001b[38;5;241m=\u001b[39m \u001b[43m_asarray_with_order\u001b[49m\u001b[43m(\u001b[49m\u001b[43marray\u001b[49m\u001b[43m,\u001b[49m\u001b[43m \u001b[49m\u001b[43morder\u001b[49m\u001b[38;5;241;43m=\u001b[39;49m\u001b[43morder\u001b[49m\u001b[43m,\u001b[49m\u001b[43m \u001b[49m\u001b[43mdtype\u001b[49m\u001b[38;5;241;43m=\u001b[39;49m\u001b[43mdtype\u001b[49m\u001b[43m,\u001b[49m\u001b[43m \u001b[49m\u001b[43mxp\u001b[49m\u001b[38;5;241;43m=\u001b[39;49m\u001b[43mxp\u001b[49m\u001b[43m)\u001b[49m\n\u001b[0;32m    998\u001b[0m \u001b[38;5;28;01mexcept\u001b[39;00m ComplexWarning \u001b[38;5;28;01mas\u001b[39;00m complex_warning:\n\u001b[0;32m    999\u001b[0m     \u001b[38;5;28;01mraise\u001b[39;00m \u001b[38;5;167;01mValueError\u001b[39;00m(\n\u001b[0;32m   1000\u001b[0m         \u001b[38;5;124m\"\u001b[39m\u001b[38;5;124mComplex data not supported\u001b[39m\u001b[38;5;130;01m\\n\u001b[39;00m\u001b[38;5;132;01m{}\u001b[39;00m\u001b[38;5;130;01m\\n\u001b[39;00m\u001b[38;5;124m\"\u001b[39m\u001b[38;5;241m.\u001b[39mformat(array)\n\u001b[0;32m   1001\u001b[0m     ) \u001b[38;5;28;01mfrom\u001b[39;00m \u001b[38;5;21;01mcomplex_warning\u001b[39;00m\n",
      "File \u001b[1;32mc:\\Users\\michelangiolo.m\\AppData\\Local\\Programs\\Python\\Python311\\Lib\\site-packages\\sklearn\\utils\\_array_api.py:521\u001b[0m, in \u001b[0;36m_asarray_with_order\u001b[1;34m(array, dtype, order, copy, xp)\u001b[0m\n\u001b[0;32m    519\u001b[0m     array \u001b[38;5;241m=\u001b[39m numpy\u001b[38;5;241m.\u001b[39marray(array, order\u001b[38;5;241m=\u001b[39morder, dtype\u001b[38;5;241m=\u001b[39mdtype)\n\u001b[0;32m    520\u001b[0m \u001b[38;5;28;01melse\u001b[39;00m:\n\u001b[1;32m--> 521\u001b[0m     array \u001b[38;5;241m=\u001b[39m numpy\u001b[38;5;241m.\u001b[39masarray(array, order\u001b[38;5;241m=\u001b[39morder, dtype\u001b[38;5;241m=\u001b[39mdtype)\n\u001b[0;32m    523\u001b[0m \u001b[38;5;66;03m# At this point array is a NumPy ndarray. We convert it to an array\u001b[39;00m\n\u001b[0;32m    524\u001b[0m \u001b[38;5;66;03m# container that is consistent with the input's namespace.\u001b[39;00m\n\u001b[0;32m    525\u001b[0m \u001b[38;5;28;01mreturn\u001b[39;00m xp\u001b[38;5;241m.\u001b[39masarray(array)\n",
      "\u001b[1;31mKeyboardInterrupt\u001b[0m: "
     ]
    }
   ],
   "source": [
    "from tqdm import tqdm\n",
    "\n",
    "for key_A in [*df_total['A'].unique()]:\n",
    "    for sample_index in tqdm(range(len(df_total[df_total['A']==key_A]['index'])), desc=f'class: {key_A}'):\n",
    "        sample_id = df_total[df_total['A']==key_A]['index'].iloc[sample_index]\n",
    "        msc = get_msc(df_total, sample_id=sample_id, verbose=False)\n",
    "        test = test_knn(\n",
    "            df, \n",
    "            class_n=key_A, \n",
    "            minimum_scale_coefficient=msc, \n",
    "            test_amount=test_amount,\n",
    "            sample_id=sample_id, \n",
    "            verbose=False\n",
    "        )\n",
    "        if test == False : break"
   ]
  },
  {
   "cell_type": "markdown",
   "metadata": {},
   "source": [
    "### computing merge function"
   ]
  },
  {
   "cell_type": "code",
   "execution_count": 112,
   "metadata": {},
   "outputs": [
    {
     "data": {
      "application/vnd.plotly.v1+json": {
       "config": {
        "plotlyServerURL": "https://plot.ly"
       },
       "data": [
        {
         "mode": "lines",
         "type": "scatter",
         "x": [
          0.05,
          0.1,
          0.15000000000000002,
          0.2,
          0.25,
          0.3,
          0.35,
          0.39999999999999997,
          0.44999999999999996,
          0.49999999999999994,
          0.5499999999999999,
          0.6,
          0.65,
          0.7000000000000001,
          0.7500000000000001,
          0.8000000000000002,
          0.8500000000000002,
          0.9000000000000002,
          0.9500000000000003,
          1.0000000000000002,
          1.0500000000000003,
          1.1000000000000003,
          1.1500000000000004,
          1.2000000000000004,
          1.2500000000000004,
          1.3000000000000005,
          1.3500000000000005,
          1.4000000000000006,
          1.4500000000000006,
          1.5000000000000007,
          1.5500000000000007,
          1.6000000000000008,
          1.6500000000000008,
          1.7000000000000008,
          1.7500000000000009,
          1.800000000000001,
          1.850000000000001,
          1.900000000000001,
          1.950000000000001,
          2.000000000000001,
          2.0500000000000007,
          2.1000000000000005,
          2.1500000000000004,
          2.2,
          2.25,
          2.3,
          2.3499999999999996,
          2.3999999999999995,
          2.4499999999999993,
          2.499999999999999,
          2.549999999999999,
          2.5999999999999988,
          2.6499999999999986,
          2.6999999999999984,
          2.7499999999999982,
          2.799999999999998,
          2.849999999999998,
          2.8999999999999977,
          2.9499999999999975,
          2.9999999999999973,
          3.049999999999997,
          3.099999999999997,
          3.149999999999997,
          3.1999999999999966,
          3.2499999999999964,
          3.2999999999999963,
          3.349999999999996,
          3.399999999999996,
          3.4499999999999957,
          3.4999999999999956,
          3.5499999999999954,
          3.599999999999995,
          3.649999999999995,
          3.699999999999995,
          3.7499999999999947,
          3.7999999999999945,
          3.8499999999999943,
          3.899999999999994,
          3.949999999999994,
          3.999999999999994,
          4.049999999999994,
          4.099999999999993,
          4.149999999999993,
          4.199999999999993,
          4.249999999999993,
          4.299999999999993,
          4.3499999999999925,
          4.399999999999992,
          4.449999999999992,
          4.499999999999992,
          4.549999999999992,
          4.599999999999992,
          4.6499999999999915,
          4.699999999999991,
          4.749999999999991,
          4.799999999999991,
          4.849999999999991,
          4.899999999999991,
          4.94999999999999,
          4.99999999999999,
          5.04999999999999,
          5.09999999999999,
          5.14999999999999,
          5.1999999999999895,
          5.249999999999989,
          5.299999999999989,
          5.349999999999989,
          5.399999999999989,
          5.449999999999989,
          5.4999999999999885,
          5.549999999999988,
          5.599999999999988,
          5.649999999999988,
          5.699999999999988,
          5.749999999999988,
          5.799999999999987,
          5.849999999999987,
          5.899999999999987,
          5.949999999999987,
          5.999999999999987,
          6.0499999999999865,
          6.099999999999986,
          6.149999999999986,
          6.199999999999986,
          6.249999999999986,
          6.299999999999986,
          6.349999999999985,
          6.399999999999985,
          6.449999999999985,
          6.499999999999985,
          6.549999999999985,
          6.5999999999999845,
          6.649999999999984,
          6.699999999999984,
          6.749999999999984,
          6.799999999999984,
          6.849999999999984,
          6.8999999999999835,
          6.949999999999983,
          6.999999999999983,
          7.049999999999983,
          7.099999999999983,
          7.149999999999983,
          7.199999999999982,
          7.249999999999982,
          7.299999999999982,
          7.349999999999982,
          7.399999999999982,
          7.4499999999999815,
          7.499999999999981,
          7.549999999999981,
          7.599999999999981,
          7.649999999999981,
          7.699999999999981,
          7.7499999999999805,
          7.79999999999998,
          7.84999999999998,
          7.89999999999998,
          7.94999999999998,
          7.99999999999998,
          8.04999999999998,
          8.09999999999998,
          8.14999999999998,
          8.199999999999982,
          8.249999999999982,
          8.299999999999983,
          8.349999999999984,
          8.399999999999984,
          8.449999999999985,
          8.499999999999986,
          8.549999999999986,
          8.599999999999987,
          8.649999999999988,
          8.699999999999989,
          8.74999999999999,
          8.79999999999999,
          8.84999999999999,
          8.899999999999991,
          8.949999999999992,
          8.999999999999993,
          9.049999999999994,
          9.099999999999994,
          9.149999999999995,
          9.199999999999996,
          9.249999999999996,
          9.299999999999997,
          9.349999999999998,
          9.399999999999999,
          9.45,
          9.5,
          9.55,
          9.600000000000001,
          9.650000000000002,
          9.700000000000003,
          9.750000000000004,
          9.800000000000004,
          9.850000000000005,
          9.900000000000006,
          9.950000000000006,
          10.000000000000007,
          10.050000000000008,
          10.100000000000009,
          10.15000000000001,
          10.20000000000001,
          10.25000000000001,
          10.300000000000011,
          10.350000000000012,
          10.400000000000013,
          10.450000000000014,
          10.500000000000014,
          10.550000000000015,
          10.600000000000016,
          10.650000000000016,
          10.700000000000017,
          10.750000000000018,
          10.800000000000018,
          10.85000000000002,
          10.90000000000002,
          10.95000000000002,
          11.000000000000021,
          11.050000000000022,
          11.100000000000023,
          11.150000000000023,
          11.200000000000024,
          11.250000000000025,
          11.300000000000026,
          11.350000000000026,
          11.400000000000027,
          11.450000000000028,
          11.500000000000028,
          11.55000000000003,
          11.60000000000003,
          11.65000000000003,
          11.700000000000031,
          11.750000000000032,
          11.800000000000033,
          11.850000000000033,
          11.900000000000034,
          11.950000000000035,
          12.000000000000036,
          12.050000000000036,
          12.100000000000037,
          12.150000000000038,
          12.200000000000038,
          12.250000000000039,
          12.30000000000004,
          12.35000000000004,
          12.400000000000041,
          12.450000000000042,
          12.500000000000043,
          12.550000000000043,
          12.600000000000044,
          12.650000000000045,
          12.700000000000045,
          12.750000000000046,
          12.800000000000047,
          12.850000000000048,
          12.900000000000048,
          12.950000000000049,
          13.00000000000005,
          13.05000000000005,
          13.100000000000051,
          13.150000000000052,
          13.200000000000053,
          13.250000000000053,
          13.300000000000054,
          13.350000000000055,
          13.400000000000055,
          13.450000000000056,
          13.500000000000057,
          13.550000000000058,
          13.600000000000058,
          13.650000000000059,
          13.70000000000006,
          13.75000000000006,
          13.800000000000061,
          13.850000000000062,
          13.900000000000063,
          13.950000000000063,
          14.000000000000064,
          14.050000000000065,
          14.100000000000065,
          14.150000000000066,
          14.200000000000067,
          14.250000000000068,
          14.300000000000068,
          14.350000000000069,
          14.40000000000007,
          14.45000000000007,
          14.500000000000071,
          14.550000000000072,
          14.600000000000072,
          14.650000000000073,
          14.700000000000074,
          14.750000000000075,
          14.800000000000075,
          14.850000000000076,
          14.900000000000077,
          14.950000000000077,
          15.000000000000078,
          15.050000000000079,
          15.10000000000008,
          15.15000000000008,
          15.200000000000081,
          15.250000000000082,
          15.300000000000082,
          15.350000000000083,
          15.400000000000084,
          15.450000000000085,
          15.500000000000085,
          15.550000000000086,
          15.600000000000087,
          15.650000000000087,
          15.700000000000088,
          15.750000000000089,
          15.80000000000009,
          15.85000000000009,
          15.900000000000091,
          15.950000000000092,
          16.000000000000092,
          16.050000000000093,
          16.100000000000094,
          16.150000000000095,
          16.200000000000095,
          16.250000000000096,
          16.300000000000097,
          16.350000000000097,
          16.400000000000098,
          16.4500000000001,
          16.5000000000001,
          16.5500000000001,
          16.6000000000001,
          16.6500000000001,
          16.700000000000102,
          16.750000000000103,
          16.800000000000104,
          16.850000000000104,
          16.900000000000105,
          16.950000000000106,
          17.000000000000107,
          17.050000000000107,
          17.100000000000108,
          17.15000000000011,
          17.20000000000011,
          17.25000000000011,
          17.30000000000011,
          17.35000000000011,
          17.400000000000112,
          17.450000000000113,
          17.500000000000114,
          17.550000000000114,
          17.600000000000115,
          17.650000000000116,
          17.700000000000117,
          17.750000000000117,
          17.800000000000118,
          17.85000000000012,
          17.90000000000012,
          17.95000000000012,
          18.00000000000012,
          18.05000000000012,
          18.100000000000122,
          18.150000000000123,
          18.200000000000124,
          18.250000000000124,
          18.300000000000125,
          18.350000000000126,
          18.400000000000126,
          18.450000000000127,
          18.500000000000128,
          18.55000000000013,
          18.60000000000013,
          18.65000000000013,
          18.70000000000013,
          18.75000000000013,
          18.800000000000132,
          18.850000000000133,
          18.900000000000134,
          18.950000000000134,
          19.000000000000135,
          19.050000000000136,
          19.100000000000136,
          19.150000000000137,
          19.200000000000138,
          19.25000000000014,
          19.30000000000014,
          19.35000000000014,
          19.40000000000014,
          19.45000000000014,
          19.500000000000142,
          19.550000000000143,
          19.600000000000144,
          19.650000000000144,
          19.700000000000145,
          19.750000000000146,
          19.800000000000146,
          19.850000000000147,
          19.900000000000148,
          19.95000000000015,
          20.00000000000015,
          20.05000000000015,
          20.10000000000015,
          20.15000000000015,
          20.200000000000152,
          20.250000000000153,
          20.300000000000153,
          20.350000000000154,
          20.400000000000155,
          20.450000000000156,
          20.500000000000156,
          20.550000000000157,
          20.600000000000158,
          20.65000000000016,
          20.70000000000016,
          20.75000000000016,
          20.80000000000016,
          20.85000000000016,
          20.900000000000162,
          20.950000000000163,
          21.000000000000163,
          21.050000000000164,
          21.100000000000165,
          21.150000000000166,
          21.200000000000166,
          21.250000000000167,
          21.300000000000168,
          21.35000000000017,
          21.40000000000017,
          21.45000000000017,
          21.50000000000017,
          21.55000000000017,
          21.600000000000172,
          21.650000000000173,
          21.700000000000173,
          21.750000000000174,
          21.800000000000175,
          21.850000000000176,
          21.900000000000176,
          21.950000000000177,
          22.000000000000178,
          22.05000000000018,
          22.10000000000018,
          22.15000000000018,
          22.20000000000018,
          22.25000000000018,
          22.300000000000182,
          22.350000000000183,
          22.400000000000183,
          22.450000000000184,
          22.500000000000185,
          22.550000000000185,
          22.600000000000186,
          22.650000000000187,
          22.700000000000188,
          22.75000000000019,
          22.80000000000019,
          22.85000000000019,
          22.90000000000019,
          22.95000000000019,
          23.000000000000192,
          23.050000000000193,
          23.100000000000193,
          23.150000000000194,
          23.200000000000195,
          23.250000000000195,
          23.300000000000196,
          23.350000000000197,
          23.400000000000198,
          23.4500000000002,
          23.5000000000002,
          23.5500000000002,
          23.6000000000002,
          23.6500000000002,
          23.700000000000202,
          23.750000000000203,
          23.800000000000203,
          23.850000000000204,
          23.900000000000205,
          23.950000000000205,
          24.000000000000206,
          24.050000000000207,
          24.100000000000207,
          24.150000000000208,
          24.20000000000021,
          24.25000000000021,
          24.30000000000021,
          24.35000000000021,
          24.40000000000021,
          24.450000000000212,
          24.500000000000213,
          24.550000000000214,
          24.600000000000215,
          24.650000000000215,
          24.700000000000216,
          24.750000000000217,
          24.800000000000217,
          24.850000000000218,
          24.90000000000022,
          24.95000000000022,
          25.00000000000022,
          25.05000000000022,
          25.10000000000022,
          25.150000000000222,
          25.200000000000223,
          25.250000000000224,
          25.300000000000225,
          25.350000000000225,
          25.400000000000226,
          25.450000000000227,
          25.500000000000227,
          25.550000000000228,
          25.60000000000023,
          25.65000000000023,
          25.70000000000023,
          25.75000000000023,
          25.80000000000023,
          25.850000000000232,
          25.900000000000233,
          25.950000000000234,
          26.000000000000234,
          26.050000000000235,
          26.100000000000236,
          26.150000000000237,
          26.200000000000237,
          26.250000000000238,
          26.30000000000024,
          26.35000000000024,
          26.40000000000024,
          26.45000000000024,
          26.50000000000024,
          26.550000000000242,
          26.600000000000243,
          26.650000000000244,
          26.700000000000244,
          26.750000000000245,
          26.800000000000246,
          26.850000000000247,
          26.900000000000247,
          26.950000000000248,
          27.00000000000025,
          27.05000000000025,
          27.10000000000025,
          27.15000000000025,
          27.20000000000025,
          27.250000000000252,
          27.300000000000253,
          27.350000000000254,
          27.400000000000254,
          27.450000000000255,
          27.500000000000256,
          27.550000000000257,
          27.600000000000257,
          27.650000000000258,
          27.70000000000026,
          27.75000000000026,
          27.80000000000026,
          27.85000000000026,
          27.90000000000026,
          27.950000000000262,
          28.000000000000263,
          28.050000000000264,
          28.100000000000264,
          28.150000000000265,
          28.200000000000266,
          28.250000000000266,
          28.300000000000267,
          28.350000000000268,
          28.40000000000027,
          28.45000000000027,
          28.50000000000027,
          28.55000000000027,
          28.60000000000027,
          28.650000000000272,
          28.700000000000273,
          28.750000000000274,
          28.800000000000274,
          28.850000000000275,
          28.900000000000276,
          28.950000000000276,
          29.000000000000277,
          29.050000000000278,
          29.10000000000028,
          29.15000000000028,
          29.20000000000028,
          29.25000000000028,
          29.30000000000028,
          29.350000000000282,
          29.400000000000283,
          29.450000000000284,
          29.500000000000284,
          29.550000000000285,
          29.600000000000286,
          29.650000000000286,
          29.700000000000287,
          29.750000000000288,
          29.80000000000029,
          29.85000000000029,
          29.90000000000029,
          29.95000000000029,
          30.00000000000029,
          30.050000000000292,
          30.100000000000293,
          30.150000000000293,
          30.200000000000294,
          30.250000000000295,
          30.300000000000296,
          30.350000000000296,
          30.400000000000297,
          30.450000000000298,
          30.5000000000003,
          30.5500000000003,
          30.6000000000003,
          30.6500000000003,
          30.7000000000003,
          30.750000000000302,
          30.800000000000303,
          30.850000000000303,
          30.900000000000304,
          30.950000000000305,
          31.000000000000306,
          31.050000000000306,
          31.100000000000307,
          31.150000000000308,
          31.20000000000031,
          31.25000000000031,
          31.30000000000031,
          31.35000000000031,
          31.40000000000031,
          31.450000000000312,
          31.500000000000313,
          31.550000000000313,
          31.600000000000314,
          31.650000000000315,
          31.700000000000315,
          31.750000000000316,
          31.800000000000317,
          31.850000000000318,
          31.90000000000032,
          31.95000000000032,
          32.00000000000032,
          32.05000000000032,
          32.100000000000314,
          32.15000000000031,
          32.20000000000031,
          32.250000000000306,
          32.3000000000003,
          32.3500000000003,
          32.4000000000003,
          32.450000000000294,
          32.50000000000029,
          32.55000000000029,
          32.600000000000286,
          32.65000000000028,
          32.70000000000028,
          32.75000000000028,
          32.800000000000274,
          32.85000000000027,
          32.90000000000027,
          32.950000000000266,
          33.00000000000026,
          33.05000000000026,
          33.10000000000026,
          33.150000000000254,
          33.20000000000025,
          33.25000000000025,
          33.300000000000246,
          33.35000000000024,
          33.40000000000024,
          33.45000000000024,
          33.500000000000234,
          33.55000000000023,
          33.60000000000023,
          33.650000000000226,
          33.70000000000022,
          33.75000000000022,
          33.80000000000022,
          33.850000000000215,
          33.90000000000021,
          33.95000000000021,
          34.000000000000206,
          34.0500000000002,
          34.1000000000002,
          34.1500000000002,
          34.200000000000195,
          34.25000000000019,
          34.30000000000019,
          34.350000000000186,
          34.40000000000018,
          34.45000000000018,
          34.50000000000018,
          34.550000000000175,
          34.60000000000017,
          34.65000000000017,
          34.700000000000166,
          34.75000000000016,
          34.80000000000016,
          34.85000000000016,
          34.900000000000155,
          34.95000000000015,
          35.00000000000015,
          35.050000000000146,
          35.10000000000014,
          35.15000000000014,
          35.20000000000014,
          35.250000000000135,
          35.30000000000013,
          35.35000000000013,
          35.40000000000013,
          35.450000000000124,
          35.50000000000012,
          35.55000000000012,
          35.600000000000115,
          35.65000000000011,
          35.70000000000011,
          35.75000000000011,
          35.800000000000104,
          35.8500000000001,
          35.9000000000001,
          35.950000000000095,
          36.00000000000009,
          36.05000000000009,
          36.10000000000009,
          36.150000000000084,
          36.20000000000008,
          36.25000000000008,
          36.300000000000075,
          36.35000000000007,
          36.40000000000007,
          36.45000000000007,
          36.500000000000064,
          36.55000000000006,
          36.60000000000006,
          36.650000000000055,
          36.70000000000005,
          36.75000000000005,
          36.80000000000005
         ],
         "y": [
          4900,
          4900,
          4900,
          4900,
          4900,
          4900,
          4900,
          4900,
          4900,
          4900,
          4900,
          4900,
          4898,
          4863,
          4684,
          4475,
          4319,
          4225,
          4203,
          4200,
          4200,
          4200,
          4200,
          4200,
          4200,
          4200,
          4200,
          4200,
          4200,
          4200,
          4200,
          4200,
          4199,
          4199,
          4198,
          4193,
          4181,
          4162,
          4140,
          4112,
          4085,
          4061,
          4040,
          4022,
          4017,
          4010,
          3993,
          3969,
          3940,
          3893,
          3845,
          3803,
          3746,
          3684,
          3633,
          3574,
          3521,
          3479,
          3432,
          3384,
          3341,
          3302,
          3268,
          3230,
          3170,
          3118,
          3059,
          2998,
          2954,
          2899,
          2833,
          2786,
          2743,
          2680,
          2631,
          2582,
          2532,
          2486,
          2424,
          2376,
          2323,
          2280,
          2241,
          2190,
          2140,
          2083,
          2032,
          1971,
          1917,
          1861,
          1821,
          1777,
          1733,
          1707,
          1664,
          1636,
          1610,
          1584,
          1556,
          1527,
          1500,
          1478,
          1447,
          1420,
          1403,
          1379,
          1355,
          1330,
          1312,
          1289,
          1267,
          1253,
          1239,
          1213,
          1203,
          1187,
          1172,
          1163,
          1146,
          1138,
          1129,
          1124,
          1117,
          1113,
          1107,
          1101,
          1094,
          1089,
          1086,
          1080,
          1075,
          1067,
          1059,
          1055,
          1048,
          1041,
          1031,
          1028,
          1022,
          1015,
          1006,
          997,
          985,
          975,
          968,
          959,
          954,
          949,
          941,
          932,
          925,
          921,
          910,
          903,
          896,
          890,
          882,
          874,
          866,
          865,
          862,
          854,
          849,
          842,
          837,
          831,
          825,
          817,
          812,
          802,
          794,
          785,
          773,
          759,
          749,
          739,
          736,
          733,
          728,
          718,
          714,
          704,
          699,
          692,
          686,
          681,
          676,
          670,
          667,
          660,
          654,
          651,
          648,
          640,
          633,
          626,
          620,
          619,
          617,
          613,
          608,
          603,
          600,
          595,
          586,
          585,
          578,
          575,
          569,
          567,
          565,
          562,
          556,
          551,
          547,
          545,
          542,
          538,
          534,
          532,
          527,
          526,
          524,
          522,
          521,
          518,
          514,
          512,
          509,
          505,
          505,
          504,
          503,
          500,
          498,
          495,
          491,
          490,
          488,
          487,
          486,
          485,
          481,
          479,
          475,
          474,
          473,
          473,
          469,
          465,
          465,
          463,
          461,
          457,
          452,
          450,
          447,
          441,
          438,
          436,
          435,
          433,
          426,
          419,
          414,
          411,
          406,
          402,
          393,
          390,
          388,
          378,
          377,
          376,
          372,
          367,
          365,
          357,
          355,
          351,
          348,
          344,
          339,
          336,
          334,
          330,
          325,
          320,
          314,
          308,
          305,
          301,
          298,
          294,
          293,
          291,
          290,
          284,
          281,
          279,
          276,
          272,
          266,
          263,
          261,
          260,
          258,
          255,
          251,
          251,
          250,
          247,
          246,
          245,
          243,
          241,
          238,
          235,
          233,
          232,
          230,
          226,
          225,
          222,
          220,
          217,
          215,
          213,
          212,
          208,
          208,
          207,
          206,
          205,
          201,
          199,
          199,
          198,
          197,
          196,
          193,
          191,
          190,
          189,
          188,
          187,
          183,
          181,
          179,
          179,
          179,
          179,
          179,
          179,
          177,
          175,
          173,
          173,
          173,
          172,
          172,
          171,
          170,
          170,
          170,
          169,
          169,
          167,
          166,
          165,
          163,
          159,
          159,
          158,
          157,
          156,
          155,
          154,
          153,
          153,
          153,
          153,
          152,
          151,
          151,
          151,
          151,
          150,
          149,
          149,
          149,
          148,
          148,
          148,
          148,
          147,
          147,
          147,
          147,
          147,
          147,
          147,
          147,
          147,
          147,
          146,
          146,
          146,
          146,
          146,
          145,
          145,
          145,
          145,
          145,
          145,
          145,
          145,
          145,
          145,
          145,
          145,
          145,
          145,
          145,
          145,
          145,
          145,
          145,
          145,
          145,
          145,
          145,
          145,
          145,
          145,
          145,
          145,
          145,
          145,
          145,
          145,
          145,
          145,
          145,
          145,
          145,
          145,
          145,
          145,
          145,
          144,
          144,
          144,
          144,
          143,
          143,
          143,
          143,
          143,
          143,
          143,
          143,
          143,
          142,
          141,
          140,
          140,
          139,
          138,
          137,
          137,
          137,
          137,
          136,
          136,
          136,
          136,
          134,
          134,
          134,
          133,
          132,
          130,
          129,
          127,
          127,
          127,
          126,
          126,
          124,
          124,
          123,
          122,
          121,
          120,
          119,
          118,
          117,
          116,
          116,
          116,
          115,
          114,
          113,
          111,
          110,
          110,
          110,
          109,
          107,
          107,
          106,
          106,
          106,
          105,
          104,
          104,
          101,
          100,
          100,
          100,
          100,
          100,
          99,
          99,
          98,
          96,
          94,
          92,
          91,
          91,
          89,
          88,
          86,
          85,
          85,
          83,
          83,
          82,
          82,
          82,
          81,
          81,
          81,
          78,
          78,
          77,
          77,
          75,
          75,
          74,
          74,
          74,
          74,
          72,
          72,
          71,
          71,
          68,
          68,
          67,
          65,
          64,
          63,
          61,
          61,
          61,
          61,
          60,
          58,
          56,
          55,
          54,
          52,
          51,
          51,
          50,
          49,
          48,
          48,
          47,
          47,
          46,
          45,
          45,
          43,
          42,
          42,
          40,
          39,
          39,
          39,
          39,
          38,
          36,
          35,
          35,
          34,
          31,
          30,
          29,
          29,
          29,
          29,
          29,
          29,
          28,
          28,
          28,
          28,
          26,
          25,
          25,
          24,
          24,
          24,
          21,
          20,
          19,
          18,
          17,
          17,
          16,
          16,
          16,
          16,
          16,
          16,
          16,
          16,
          16,
          16,
          16,
          16,
          16,
          15,
          15,
          14,
          14,
          14,
          14,
          14,
          13,
          13,
          13,
          13,
          13,
          13,
          13,
          13,
          13,
          11,
          10,
          9,
          9,
          7,
          6,
          6,
          6,
          6,
          6,
          6,
          6,
          6,
          6,
          6,
          6,
          6,
          6,
          5,
          5,
          5,
          5,
          5,
          5,
          5,
          5,
          5,
          5,
          5,
          5,
          5,
          5,
          5,
          5,
          5,
          5,
          4,
          4,
          4,
          4,
          4,
          3,
          3,
          3,
          3,
          3,
          3,
          3,
          3,
          2,
          1,
          1,
          1,
          1,
          1,
          1,
          1,
          1,
          1,
          1,
          1,
          1,
          1,
          1,
          1,
          1,
          1,
          1,
          1,
          1,
          1,
          1,
          1,
          1,
          1,
          1,
          1,
          1,
          1,
          1,
          1,
          1,
          1,
          0
         ]
        }
       ],
       "layout": {
        "template": {
         "data": {
          "bar": [
           {
            "error_x": {
             "color": "#f2f5fa"
            },
            "error_y": {
             "color": "#f2f5fa"
            },
            "marker": {
             "line": {
              "color": "rgb(17,17,17)",
              "width": 0.5
             },
             "pattern": {
              "fillmode": "overlay",
              "size": 10,
              "solidity": 0.2
             }
            },
            "type": "bar"
           }
          ],
          "barpolar": [
           {
            "marker": {
             "line": {
              "color": "rgb(17,17,17)",
              "width": 0.5
             },
             "pattern": {
              "fillmode": "overlay",
              "size": 10,
              "solidity": 0.2
             }
            },
            "type": "barpolar"
           }
          ],
          "carpet": [
           {
            "aaxis": {
             "endlinecolor": "#A2B1C6",
             "gridcolor": "#506784",
             "linecolor": "#506784",
             "minorgridcolor": "#506784",
             "startlinecolor": "#A2B1C6"
            },
            "baxis": {
             "endlinecolor": "#A2B1C6",
             "gridcolor": "#506784",
             "linecolor": "#506784",
             "minorgridcolor": "#506784",
             "startlinecolor": "#A2B1C6"
            },
            "type": "carpet"
           }
          ],
          "choropleth": [
           {
            "colorbar": {
             "outlinewidth": 0,
             "ticks": ""
            },
            "type": "choropleth"
           }
          ],
          "contour": [
           {
            "colorbar": {
             "outlinewidth": 0,
             "ticks": ""
            },
            "colorscale": [
             [
              0,
              "#0d0887"
             ],
             [
              0.1111111111111111,
              "#46039f"
             ],
             [
              0.2222222222222222,
              "#7201a8"
             ],
             [
              0.3333333333333333,
              "#9c179e"
             ],
             [
              0.4444444444444444,
              "#bd3786"
             ],
             [
              0.5555555555555556,
              "#d8576b"
             ],
             [
              0.6666666666666666,
              "#ed7953"
             ],
             [
              0.7777777777777778,
              "#fb9f3a"
             ],
             [
              0.8888888888888888,
              "#fdca26"
             ],
             [
              1,
              "#f0f921"
             ]
            ],
            "type": "contour"
           }
          ],
          "contourcarpet": [
           {
            "colorbar": {
             "outlinewidth": 0,
             "ticks": ""
            },
            "type": "contourcarpet"
           }
          ],
          "heatmap": [
           {
            "colorbar": {
             "outlinewidth": 0,
             "ticks": ""
            },
            "colorscale": [
             [
              0,
              "#0d0887"
             ],
             [
              0.1111111111111111,
              "#46039f"
             ],
             [
              0.2222222222222222,
              "#7201a8"
             ],
             [
              0.3333333333333333,
              "#9c179e"
             ],
             [
              0.4444444444444444,
              "#bd3786"
             ],
             [
              0.5555555555555556,
              "#d8576b"
             ],
             [
              0.6666666666666666,
              "#ed7953"
             ],
             [
              0.7777777777777778,
              "#fb9f3a"
             ],
             [
              0.8888888888888888,
              "#fdca26"
             ],
             [
              1,
              "#f0f921"
             ]
            ],
            "type": "heatmap"
           }
          ],
          "heatmapgl": [
           {
            "colorbar": {
             "outlinewidth": 0,
             "ticks": ""
            },
            "colorscale": [
             [
              0,
              "#0d0887"
             ],
             [
              0.1111111111111111,
              "#46039f"
             ],
             [
              0.2222222222222222,
              "#7201a8"
             ],
             [
              0.3333333333333333,
              "#9c179e"
             ],
             [
              0.4444444444444444,
              "#bd3786"
             ],
             [
              0.5555555555555556,
              "#d8576b"
             ],
             [
              0.6666666666666666,
              "#ed7953"
             ],
             [
              0.7777777777777778,
              "#fb9f3a"
             ],
             [
              0.8888888888888888,
              "#fdca26"
             ],
             [
              1,
              "#f0f921"
             ]
            ],
            "type": "heatmapgl"
           }
          ],
          "histogram": [
           {
            "marker": {
             "pattern": {
              "fillmode": "overlay",
              "size": 10,
              "solidity": 0.2
             }
            },
            "type": "histogram"
           }
          ],
          "histogram2d": [
           {
            "colorbar": {
             "outlinewidth": 0,
             "ticks": ""
            },
            "colorscale": [
             [
              0,
              "#0d0887"
             ],
             [
              0.1111111111111111,
              "#46039f"
             ],
             [
              0.2222222222222222,
              "#7201a8"
             ],
             [
              0.3333333333333333,
              "#9c179e"
             ],
             [
              0.4444444444444444,
              "#bd3786"
             ],
             [
              0.5555555555555556,
              "#d8576b"
             ],
             [
              0.6666666666666666,
              "#ed7953"
             ],
             [
              0.7777777777777778,
              "#fb9f3a"
             ],
             [
              0.8888888888888888,
              "#fdca26"
             ],
             [
              1,
              "#f0f921"
             ]
            ],
            "type": "histogram2d"
           }
          ],
          "histogram2dcontour": [
           {
            "colorbar": {
             "outlinewidth": 0,
             "ticks": ""
            },
            "colorscale": [
             [
              0,
              "#0d0887"
             ],
             [
              0.1111111111111111,
              "#46039f"
             ],
             [
              0.2222222222222222,
              "#7201a8"
             ],
             [
              0.3333333333333333,
              "#9c179e"
             ],
             [
              0.4444444444444444,
              "#bd3786"
             ],
             [
              0.5555555555555556,
              "#d8576b"
             ],
             [
              0.6666666666666666,
              "#ed7953"
             ],
             [
              0.7777777777777778,
              "#fb9f3a"
             ],
             [
              0.8888888888888888,
              "#fdca26"
             ],
             [
              1,
              "#f0f921"
             ]
            ],
            "type": "histogram2dcontour"
           }
          ],
          "mesh3d": [
           {
            "colorbar": {
             "outlinewidth": 0,
             "ticks": ""
            },
            "type": "mesh3d"
           }
          ],
          "parcoords": [
           {
            "line": {
             "colorbar": {
              "outlinewidth": 0,
              "ticks": ""
             }
            },
            "type": "parcoords"
           }
          ],
          "pie": [
           {
            "automargin": true,
            "type": "pie"
           }
          ],
          "scatter": [
           {
            "marker": {
             "line": {
              "color": "#283442"
             }
            },
            "type": "scatter"
           }
          ],
          "scatter3d": [
           {
            "line": {
             "colorbar": {
              "outlinewidth": 0,
              "ticks": ""
             }
            },
            "marker": {
             "colorbar": {
              "outlinewidth": 0,
              "ticks": ""
             }
            },
            "type": "scatter3d"
           }
          ],
          "scattercarpet": [
           {
            "marker": {
             "colorbar": {
              "outlinewidth": 0,
              "ticks": ""
             }
            },
            "type": "scattercarpet"
           }
          ],
          "scattergeo": [
           {
            "marker": {
             "colorbar": {
              "outlinewidth": 0,
              "ticks": ""
             }
            },
            "type": "scattergeo"
           }
          ],
          "scattergl": [
           {
            "marker": {
             "line": {
              "color": "#283442"
             }
            },
            "type": "scattergl"
           }
          ],
          "scattermapbox": [
           {
            "marker": {
             "colorbar": {
              "outlinewidth": 0,
              "ticks": ""
             }
            },
            "type": "scattermapbox"
           }
          ],
          "scatterpolar": [
           {
            "marker": {
             "colorbar": {
              "outlinewidth": 0,
              "ticks": ""
             }
            },
            "type": "scatterpolar"
           }
          ],
          "scatterpolargl": [
           {
            "marker": {
             "colorbar": {
              "outlinewidth": 0,
              "ticks": ""
             }
            },
            "type": "scatterpolargl"
           }
          ],
          "scatterternary": [
           {
            "marker": {
             "colorbar": {
              "outlinewidth": 0,
              "ticks": ""
             }
            },
            "type": "scatterternary"
           }
          ],
          "surface": [
           {
            "colorbar": {
             "outlinewidth": 0,
             "ticks": ""
            },
            "colorscale": [
             [
              0,
              "#0d0887"
             ],
             [
              0.1111111111111111,
              "#46039f"
             ],
             [
              0.2222222222222222,
              "#7201a8"
             ],
             [
              0.3333333333333333,
              "#9c179e"
             ],
             [
              0.4444444444444444,
              "#bd3786"
             ],
             [
              0.5555555555555556,
              "#d8576b"
             ],
             [
              0.6666666666666666,
              "#ed7953"
             ],
             [
              0.7777777777777778,
              "#fb9f3a"
             ],
             [
              0.8888888888888888,
              "#fdca26"
             ],
             [
              1,
              "#f0f921"
             ]
            ],
            "type": "surface"
           }
          ],
          "table": [
           {
            "cells": {
             "fill": {
              "color": "#506784"
             },
             "line": {
              "color": "rgb(17,17,17)"
             }
            },
            "header": {
             "fill": {
              "color": "#2a3f5f"
             },
             "line": {
              "color": "rgb(17,17,17)"
             }
            },
            "type": "table"
           }
          ]
         },
         "layout": {
          "annotationdefaults": {
           "arrowcolor": "#f2f5fa",
           "arrowhead": 0,
           "arrowwidth": 1
          },
          "autotypenumbers": "strict",
          "coloraxis": {
           "colorbar": {
            "outlinewidth": 0,
            "ticks": ""
           }
          },
          "colorscale": {
           "diverging": [
            [
             0,
             "#8e0152"
            ],
            [
             0.1,
             "#c51b7d"
            ],
            [
             0.2,
             "#de77ae"
            ],
            [
             0.3,
             "#f1b6da"
            ],
            [
             0.4,
             "#fde0ef"
            ],
            [
             0.5,
             "#f7f7f7"
            ],
            [
             0.6,
             "#e6f5d0"
            ],
            [
             0.7,
             "#b8e186"
            ],
            [
             0.8,
             "#7fbc41"
            ],
            [
             0.9,
             "#4d9221"
            ],
            [
             1,
             "#276419"
            ]
           ],
           "sequential": [
            [
             0,
             "#0d0887"
            ],
            [
             0.1111111111111111,
             "#46039f"
            ],
            [
             0.2222222222222222,
             "#7201a8"
            ],
            [
             0.3333333333333333,
             "#9c179e"
            ],
            [
             0.4444444444444444,
             "#bd3786"
            ],
            [
             0.5555555555555556,
             "#d8576b"
            ],
            [
             0.6666666666666666,
             "#ed7953"
            ],
            [
             0.7777777777777778,
             "#fb9f3a"
            ],
            [
             0.8888888888888888,
             "#fdca26"
            ],
            [
             1,
             "#f0f921"
            ]
           ],
           "sequentialminus": [
            [
             0,
             "#0d0887"
            ],
            [
             0.1111111111111111,
             "#46039f"
            ],
            [
             0.2222222222222222,
             "#7201a8"
            ],
            [
             0.3333333333333333,
             "#9c179e"
            ],
            [
             0.4444444444444444,
             "#bd3786"
            ],
            [
             0.5555555555555556,
             "#d8576b"
            ],
            [
             0.6666666666666666,
             "#ed7953"
            ],
            [
             0.7777777777777778,
             "#fb9f3a"
            ],
            [
             0.8888888888888888,
             "#fdca26"
            ],
            [
             1,
             "#f0f921"
            ]
           ]
          },
          "colorway": [
           "#636efa",
           "#EF553B",
           "#00cc96",
           "#ab63fa",
           "#FFA15A",
           "#19d3f3",
           "#FF6692",
           "#B6E880",
           "#FF97FF",
           "#FECB52"
          ],
          "font": {
           "color": "#f2f5fa"
          },
          "geo": {
           "bgcolor": "rgb(17,17,17)",
           "lakecolor": "rgb(17,17,17)",
           "landcolor": "rgb(17,17,17)",
           "showlakes": true,
           "showland": true,
           "subunitcolor": "#506784"
          },
          "hoverlabel": {
           "align": "left"
          },
          "hovermode": "closest",
          "mapbox": {
           "style": "dark"
          },
          "paper_bgcolor": "rgb(17,17,17)",
          "plot_bgcolor": "rgb(17,17,17)",
          "polar": {
           "angularaxis": {
            "gridcolor": "#506784",
            "linecolor": "#506784",
            "ticks": ""
           },
           "bgcolor": "rgb(17,17,17)",
           "radialaxis": {
            "gridcolor": "#506784",
            "linecolor": "#506784",
            "ticks": ""
           }
          },
          "scene": {
           "xaxis": {
            "backgroundcolor": "rgb(17,17,17)",
            "gridcolor": "#506784",
            "gridwidth": 2,
            "linecolor": "#506784",
            "showbackground": true,
            "ticks": "",
            "zerolinecolor": "#C8D4E3"
           },
           "yaxis": {
            "backgroundcolor": "rgb(17,17,17)",
            "gridcolor": "#506784",
            "gridwidth": 2,
            "linecolor": "#506784",
            "showbackground": true,
            "ticks": "",
            "zerolinecolor": "#C8D4E3"
           },
           "zaxis": {
            "backgroundcolor": "rgb(17,17,17)",
            "gridcolor": "#506784",
            "gridwidth": 2,
            "linecolor": "#506784",
            "showbackground": true,
            "ticks": "",
            "zerolinecolor": "#C8D4E3"
           }
          },
          "shapedefaults": {
           "line": {
            "color": "#f2f5fa"
           }
          },
          "sliderdefaults": {
           "bgcolor": "#C8D4E3",
           "bordercolor": "rgb(17,17,17)",
           "borderwidth": 1,
           "tickwidth": 0
          },
          "ternary": {
           "aaxis": {
            "gridcolor": "#506784",
            "linecolor": "#506784",
            "ticks": ""
           },
           "baxis": {
            "gridcolor": "#506784",
            "linecolor": "#506784",
            "ticks": ""
           },
           "bgcolor": "rgb(17,17,17)",
           "caxis": {
            "gridcolor": "#506784",
            "linecolor": "#506784",
            "ticks": ""
           }
          },
          "title": {
           "x": 0.05
          },
          "updatemenudefaults": {
           "bgcolor": "#506784",
           "borderwidth": 0
          },
          "xaxis": {
           "automargin": true,
           "gridcolor": "#283442",
           "linecolor": "#506784",
           "ticks": "",
           "title": {
            "standoff": 15
           },
           "zerolinecolor": "#283442",
           "zerolinewidth": 2
          },
          "yaxis": {
           "automargin": true,
           "gridcolor": "#283442",
           "linecolor": "#506784",
           "ticks": "",
           "title": {
            "standoff": 15
           },
           "zerolinecolor": "#283442",
           "zerolinewidth": 2
          }
         }
        },
        "title": {
         "text": "HVC-function"
        },
        "xaxis": {
         "title": {
          "text": "msc"
         }
        },
        "yaxis": {
         "title": {
          "text": "contaminations"
         }
        }
       }
      }
     },
     "metadata": {},
     "output_type": "display_data"
    }
   ],
   "source": [
    "import plotly.graph_objects as go\n",
    "\n",
    "def plot_series(series):\n",
    "    x_values = [item[0] for item in series]\n",
    "    y_values = [item[1] for item in series]\n",
    "    \n",
    "    fig = go.Figure(data=go.Scatter(x=x_values, y=y_values, mode='lines'))\n",
    "    fig.update_layout(\n",
    "        title='HVC-function',\n",
    "        xaxis_title='msc',\n",
    "        yaxis_title='contaminations',\n",
    "        template='plotly_dark'\n",
    "    )\n",
    "    fig.show()\n",
    "\n",
    "# count contaminationsA\n",
    "fn_passing = list()\n",
    "passing_score = 0\n",
    "while passing_score < df_total['minimum_scale_coefficient'].max():\n",
    "    passing_score += 0.05\n",
    "    df_total['pass'] = df_total['minimum_scale_coefficient'].apply(lambda x : x > passing_score)\n",
    "    merge_intensity = len(df_total[df_total['pass']]) #/len(df_total)\n",
    "    fn_passing.append([passing_score, merge_intensity])\n",
    "\n",
    "plot_series(fn_passing)"
   ]
  },
  {
   "cell_type": "markdown",
   "metadata": {},
   "source": [
    "By inverting the function we can input the desired number of contaminations, and get the msc required to obtain it"
   ]
  },
  {
   "cell_type": "code",
   "execution_count": 116,
   "metadata": {},
   "outputs": [
    {
     "data": {
      "application/vnd.plotly.v1+json": {
       "config": {
        "plotlyServerURL": "https://plot.ly"
       },
       "data": [
        {
         "mode": "lines",
         "type": "scatter",
         "x": [
          4900,
          4900,
          4900,
          4900,
          4900,
          4900,
          4900,
          4900,
          4900,
          4900,
          4900,
          4900,
          4898,
          4863,
          4684,
          4475,
          4319,
          4225,
          4203,
          4200,
          4200,
          4200,
          4200,
          4200,
          4200,
          4200,
          4200,
          4200,
          4200,
          4200,
          4200,
          4200,
          4199,
          4199,
          4198,
          4193,
          4181,
          4162,
          4140,
          4112,
          4085,
          4061,
          4040,
          4022,
          4017,
          4010,
          3993,
          3969,
          3940,
          3893,
          3845,
          3803,
          3746,
          3684,
          3633,
          3574,
          3521,
          3479,
          3432,
          3384,
          3341,
          3302,
          3268,
          3230,
          3170,
          3118,
          3059,
          2998,
          2954,
          2899,
          2833,
          2786,
          2743,
          2680,
          2631,
          2582,
          2532,
          2486,
          2424,
          2376,
          2323,
          2280,
          2241,
          2190,
          2140,
          2083,
          2032,
          1971,
          1917,
          1861,
          1821,
          1777,
          1733,
          1707,
          1664,
          1636,
          1610,
          1584,
          1556,
          1527,
          1500,
          1478,
          1447,
          1420,
          1403,
          1379,
          1355,
          1330,
          1312,
          1289,
          1267,
          1253,
          1239,
          1213,
          1203,
          1187,
          1172,
          1163,
          1146,
          1138,
          1129,
          1124,
          1117,
          1113,
          1107,
          1101,
          1094,
          1089,
          1086,
          1080,
          1075,
          1067,
          1059,
          1055,
          1048,
          1041,
          1031,
          1028,
          1022,
          1015,
          1006,
          997,
          985,
          975,
          968,
          959,
          954,
          949,
          941,
          932,
          925,
          921,
          910,
          903,
          896,
          890,
          882,
          874,
          866,
          865,
          862,
          854,
          849,
          842,
          837,
          831,
          825,
          817,
          812,
          802,
          794,
          785,
          773,
          759,
          749,
          739,
          736,
          733,
          728,
          718,
          714,
          704,
          699,
          692,
          686,
          681,
          676,
          670,
          667,
          660,
          654,
          651,
          648,
          640,
          633,
          626,
          620,
          619,
          617,
          613,
          608,
          603,
          600,
          595,
          586,
          585,
          578,
          575,
          569,
          567,
          565,
          562,
          556,
          551,
          547,
          545,
          542,
          538,
          534,
          532,
          527,
          526,
          524,
          522,
          521,
          518,
          514,
          512,
          509,
          505,
          505,
          504,
          503,
          500,
          498,
          495,
          491,
          490,
          488,
          487,
          486,
          485,
          481,
          479,
          475,
          474,
          473,
          473,
          469,
          465,
          465,
          463,
          461,
          457,
          452,
          450,
          447,
          441,
          438,
          436,
          435,
          433,
          426,
          419,
          414,
          411,
          406,
          402,
          393,
          390,
          388,
          378,
          377,
          376,
          372,
          367,
          365,
          357,
          355,
          351,
          348,
          344,
          339,
          336,
          334,
          330,
          325,
          320,
          314,
          308,
          305,
          301,
          298,
          294,
          293,
          291,
          290,
          284,
          281,
          279,
          276,
          272,
          266,
          263,
          261,
          260,
          258,
          255,
          251,
          251,
          250,
          247,
          246,
          245,
          243,
          241,
          238,
          235,
          233,
          232,
          230,
          226,
          225,
          222,
          220,
          217,
          215,
          213,
          212,
          208,
          208,
          207,
          206,
          205,
          201,
          199,
          199,
          198,
          197,
          196,
          193,
          191,
          190,
          189,
          188,
          187,
          183,
          181,
          179,
          179,
          179,
          179,
          179,
          179,
          177,
          175,
          173,
          173,
          173,
          172,
          172,
          171,
          170,
          170,
          170,
          169,
          169,
          167,
          166,
          165,
          163,
          159,
          159,
          158,
          157,
          156,
          155,
          154,
          153,
          153,
          153,
          153,
          152,
          151,
          151,
          151,
          151,
          150,
          149,
          149,
          149,
          148,
          148,
          148,
          148,
          147,
          147,
          147,
          147,
          147,
          147,
          147,
          147,
          147,
          147,
          146,
          146,
          146,
          146,
          146,
          145,
          145,
          145,
          145,
          145,
          145,
          145,
          145,
          145,
          145,
          145,
          145,
          145,
          145,
          145,
          145,
          145,
          145,
          145,
          145,
          145,
          145,
          145,
          145,
          145,
          145,
          145,
          145,
          145,
          145,
          145,
          145,
          145,
          145,
          145,
          145,
          145,
          145,
          145,
          145,
          145,
          144,
          144,
          144,
          144,
          143,
          143,
          143,
          143,
          143,
          143,
          143,
          143,
          143,
          142,
          141,
          140,
          140,
          139,
          138,
          137,
          137,
          137,
          137,
          136,
          136,
          136,
          136,
          134,
          134,
          134,
          133,
          132,
          130,
          129,
          127,
          127,
          127,
          126,
          126,
          124,
          124,
          123,
          122,
          121,
          120,
          119,
          118,
          117,
          116,
          116,
          116,
          115,
          114,
          113,
          111,
          110,
          110,
          110,
          109,
          107,
          107,
          106,
          106,
          106,
          105,
          104,
          104,
          101,
          100,
          100,
          100,
          100,
          100,
          99,
          99,
          98,
          96,
          94,
          92,
          91,
          91,
          89,
          88,
          86,
          85,
          85,
          83,
          83,
          82,
          82,
          82,
          81,
          81,
          81,
          78,
          78,
          77,
          77,
          75,
          75,
          74,
          74,
          74,
          74,
          72,
          72,
          71,
          71,
          68,
          68,
          67,
          65,
          64,
          63,
          61,
          61,
          61,
          61,
          60,
          58,
          56,
          55,
          54,
          52,
          51,
          51,
          50,
          49,
          48,
          48,
          47,
          47,
          46,
          45,
          45,
          43,
          42,
          42,
          40,
          39,
          39,
          39,
          39,
          38,
          36,
          35,
          35,
          34,
          31,
          30,
          29,
          29,
          29,
          29,
          29,
          29,
          28,
          28,
          28,
          28,
          26,
          25,
          25,
          24,
          24,
          24,
          21,
          20,
          19,
          18,
          17,
          17,
          16,
          16,
          16,
          16,
          16,
          16,
          16,
          16,
          16,
          16,
          16,
          16,
          16,
          15,
          15,
          14,
          14,
          14,
          14,
          14,
          13,
          13,
          13,
          13,
          13,
          13,
          13,
          13,
          13,
          11,
          10,
          9,
          9,
          7,
          6,
          6,
          6,
          6,
          6,
          6,
          6,
          6,
          6,
          6,
          6,
          6,
          6,
          5,
          5,
          5,
          5,
          5,
          5,
          5,
          5,
          5,
          5,
          5,
          5,
          5,
          5,
          5,
          5,
          5,
          5,
          4,
          4,
          4,
          4,
          4,
          3,
          3,
          3,
          3,
          3,
          3,
          3,
          3,
          2,
          1,
          1,
          1,
          1,
          1,
          1,
          1,
          1,
          1,
          1,
          1,
          1,
          1,
          1,
          1,
          1,
          1,
          1,
          1,
          1,
          1,
          1,
          1,
          1,
          1,
          1,
          1,
          1,
          1,
          1,
          1,
          1,
          1,
          0
         ],
         "y": [
          0.05,
          0.1,
          0.15000000000000002,
          0.2,
          0.25,
          0.3,
          0.35,
          0.39999999999999997,
          0.44999999999999996,
          0.49999999999999994,
          0.5499999999999999,
          0.6,
          0.65,
          0.7000000000000001,
          0.7500000000000001,
          0.8000000000000002,
          0.8500000000000002,
          0.9000000000000002,
          0.9500000000000003,
          1.0000000000000002,
          1.0500000000000003,
          1.1000000000000003,
          1.1500000000000004,
          1.2000000000000004,
          1.2500000000000004,
          1.3000000000000005,
          1.3500000000000005,
          1.4000000000000006,
          1.4500000000000006,
          1.5000000000000007,
          1.5500000000000007,
          1.6000000000000008,
          1.6500000000000008,
          1.7000000000000008,
          1.7500000000000009,
          1.800000000000001,
          1.850000000000001,
          1.900000000000001,
          1.950000000000001,
          2.000000000000001,
          2.0500000000000007,
          2.1000000000000005,
          2.1500000000000004,
          2.2,
          2.25,
          2.3,
          2.3499999999999996,
          2.3999999999999995,
          2.4499999999999993,
          2.499999999999999,
          2.549999999999999,
          2.5999999999999988,
          2.6499999999999986,
          2.6999999999999984,
          2.7499999999999982,
          2.799999999999998,
          2.849999999999998,
          2.8999999999999977,
          2.9499999999999975,
          2.9999999999999973,
          3.049999999999997,
          3.099999999999997,
          3.149999999999997,
          3.1999999999999966,
          3.2499999999999964,
          3.2999999999999963,
          3.349999999999996,
          3.399999999999996,
          3.4499999999999957,
          3.4999999999999956,
          3.5499999999999954,
          3.599999999999995,
          3.649999999999995,
          3.699999999999995,
          3.7499999999999947,
          3.7999999999999945,
          3.8499999999999943,
          3.899999999999994,
          3.949999999999994,
          3.999999999999994,
          4.049999999999994,
          4.099999999999993,
          4.149999999999993,
          4.199999999999993,
          4.249999999999993,
          4.299999999999993,
          4.3499999999999925,
          4.399999999999992,
          4.449999999999992,
          4.499999999999992,
          4.549999999999992,
          4.599999999999992,
          4.6499999999999915,
          4.699999999999991,
          4.749999999999991,
          4.799999999999991,
          4.849999999999991,
          4.899999999999991,
          4.94999999999999,
          4.99999999999999,
          5.04999999999999,
          5.09999999999999,
          5.14999999999999,
          5.1999999999999895,
          5.249999999999989,
          5.299999999999989,
          5.349999999999989,
          5.399999999999989,
          5.449999999999989,
          5.4999999999999885,
          5.549999999999988,
          5.599999999999988,
          5.649999999999988,
          5.699999999999988,
          5.749999999999988,
          5.799999999999987,
          5.849999999999987,
          5.899999999999987,
          5.949999999999987,
          5.999999999999987,
          6.0499999999999865,
          6.099999999999986,
          6.149999999999986,
          6.199999999999986,
          6.249999999999986,
          6.299999999999986,
          6.349999999999985,
          6.399999999999985,
          6.449999999999985,
          6.499999999999985,
          6.549999999999985,
          6.5999999999999845,
          6.649999999999984,
          6.699999999999984,
          6.749999999999984,
          6.799999999999984,
          6.849999999999984,
          6.8999999999999835,
          6.949999999999983,
          6.999999999999983,
          7.049999999999983,
          7.099999999999983,
          7.149999999999983,
          7.199999999999982,
          7.249999999999982,
          7.299999999999982,
          7.349999999999982,
          7.399999999999982,
          7.4499999999999815,
          7.499999999999981,
          7.549999999999981,
          7.599999999999981,
          7.649999999999981,
          7.699999999999981,
          7.7499999999999805,
          7.79999999999998,
          7.84999999999998,
          7.89999999999998,
          7.94999999999998,
          7.99999999999998,
          8.04999999999998,
          8.09999999999998,
          8.14999999999998,
          8.199999999999982,
          8.249999999999982,
          8.299999999999983,
          8.349999999999984,
          8.399999999999984,
          8.449999999999985,
          8.499999999999986,
          8.549999999999986,
          8.599999999999987,
          8.649999999999988,
          8.699999999999989,
          8.74999999999999,
          8.79999999999999,
          8.84999999999999,
          8.899999999999991,
          8.949999999999992,
          8.999999999999993,
          9.049999999999994,
          9.099999999999994,
          9.149999999999995,
          9.199999999999996,
          9.249999999999996,
          9.299999999999997,
          9.349999999999998,
          9.399999999999999,
          9.45,
          9.5,
          9.55,
          9.600000000000001,
          9.650000000000002,
          9.700000000000003,
          9.750000000000004,
          9.800000000000004,
          9.850000000000005,
          9.900000000000006,
          9.950000000000006,
          10.000000000000007,
          10.050000000000008,
          10.100000000000009,
          10.15000000000001,
          10.20000000000001,
          10.25000000000001,
          10.300000000000011,
          10.350000000000012,
          10.400000000000013,
          10.450000000000014,
          10.500000000000014,
          10.550000000000015,
          10.600000000000016,
          10.650000000000016,
          10.700000000000017,
          10.750000000000018,
          10.800000000000018,
          10.85000000000002,
          10.90000000000002,
          10.95000000000002,
          11.000000000000021,
          11.050000000000022,
          11.100000000000023,
          11.150000000000023,
          11.200000000000024,
          11.250000000000025,
          11.300000000000026,
          11.350000000000026,
          11.400000000000027,
          11.450000000000028,
          11.500000000000028,
          11.55000000000003,
          11.60000000000003,
          11.65000000000003,
          11.700000000000031,
          11.750000000000032,
          11.800000000000033,
          11.850000000000033,
          11.900000000000034,
          11.950000000000035,
          12.000000000000036,
          12.050000000000036,
          12.100000000000037,
          12.150000000000038,
          12.200000000000038,
          12.250000000000039,
          12.30000000000004,
          12.35000000000004,
          12.400000000000041,
          12.450000000000042,
          12.500000000000043,
          12.550000000000043,
          12.600000000000044,
          12.650000000000045,
          12.700000000000045,
          12.750000000000046,
          12.800000000000047,
          12.850000000000048,
          12.900000000000048,
          12.950000000000049,
          13.00000000000005,
          13.05000000000005,
          13.100000000000051,
          13.150000000000052,
          13.200000000000053,
          13.250000000000053,
          13.300000000000054,
          13.350000000000055,
          13.400000000000055,
          13.450000000000056,
          13.500000000000057,
          13.550000000000058,
          13.600000000000058,
          13.650000000000059,
          13.70000000000006,
          13.75000000000006,
          13.800000000000061,
          13.850000000000062,
          13.900000000000063,
          13.950000000000063,
          14.000000000000064,
          14.050000000000065,
          14.100000000000065,
          14.150000000000066,
          14.200000000000067,
          14.250000000000068,
          14.300000000000068,
          14.350000000000069,
          14.40000000000007,
          14.45000000000007,
          14.500000000000071,
          14.550000000000072,
          14.600000000000072,
          14.650000000000073,
          14.700000000000074,
          14.750000000000075,
          14.800000000000075,
          14.850000000000076,
          14.900000000000077,
          14.950000000000077,
          15.000000000000078,
          15.050000000000079,
          15.10000000000008,
          15.15000000000008,
          15.200000000000081,
          15.250000000000082,
          15.300000000000082,
          15.350000000000083,
          15.400000000000084,
          15.450000000000085,
          15.500000000000085,
          15.550000000000086,
          15.600000000000087,
          15.650000000000087,
          15.700000000000088,
          15.750000000000089,
          15.80000000000009,
          15.85000000000009,
          15.900000000000091,
          15.950000000000092,
          16.000000000000092,
          16.050000000000093,
          16.100000000000094,
          16.150000000000095,
          16.200000000000095,
          16.250000000000096,
          16.300000000000097,
          16.350000000000097,
          16.400000000000098,
          16.4500000000001,
          16.5000000000001,
          16.5500000000001,
          16.6000000000001,
          16.6500000000001,
          16.700000000000102,
          16.750000000000103,
          16.800000000000104,
          16.850000000000104,
          16.900000000000105,
          16.950000000000106,
          17.000000000000107,
          17.050000000000107,
          17.100000000000108,
          17.15000000000011,
          17.20000000000011,
          17.25000000000011,
          17.30000000000011,
          17.35000000000011,
          17.400000000000112,
          17.450000000000113,
          17.500000000000114,
          17.550000000000114,
          17.600000000000115,
          17.650000000000116,
          17.700000000000117,
          17.750000000000117,
          17.800000000000118,
          17.85000000000012,
          17.90000000000012,
          17.95000000000012,
          18.00000000000012,
          18.05000000000012,
          18.100000000000122,
          18.150000000000123,
          18.200000000000124,
          18.250000000000124,
          18.300000000000125,
          18.350000000000126,
          18.400000000000126,
          18.450000000000127,
          18.500000000000128,
          18.55000000000013,
          18.60000000000013,
          18.65000000000013,
          18.70000000000013,
          18.75000000000013,
          18.800000000000132,
          18.850000000000133,
          18.900000000000134,
          18.950000000000134,
          19.000000000000135,
          19.050000000000136,
          19.100000000000136,
          19.150000000000137,
          19.200000000000138,
          19.25000000000014,
          19.30000000000014,
          19.35000000000014,
          19.40000000000014,
          19.45000000000014,
          19.500000000000142,
          19.550000000000143,
          19.600000000000144,
          19.650000000000144,
          19.700000000000145,
          19.750000000000146,
          19.800000000000146,
          19.850000000000147,
          19.900000000000148,
          19.95000000000015,
          20.00000000000015,
          20.05000000000015,
          20.10000000000015,
          20.15000000000015,
          20.200000000000152,
          20.250000000000153,
          20.300000000000153,
          20.350000000000154,
          20.400000000000155,
          20.450000000000156,
          20.500000000000156,
          20.550000000000157,
          20.600000000000158,
          20.65000000000016,
          20.70000000000016,
          20.75000000000016,
          20.80000000000016,
          20.85000000000016,
          20.900000000000162,
          20.950000000000163,
          21.000000000000163,
          21.050000000000164,
          21.100000000000165,
          21.150000000000166,
          21.200000000000166,
          21.250000000000167,
          21.300000000000168,
          21.35000000000017,
          21.40000000000017,
          21.45000000000017,
          21.50000000000017,
          21.55000000000017,
          21.600000000000172,
          21.650000000000173,
          21.700000000000173,
          21.750000000000174,
          21.800000000000175,
          21.850000000000176,
          21.900000000000176,
          21.950000000000177,
          22.000000000000178,
          22.05000000000018,
          22.10000000000018,
          22.15000000000018,
          22.20000000000018,
          22.25000000000018,
          22.300000000000182,
          22.350000000000183,
          22.400000000000183,
          22.450000000000184,
          22.500000000000185,
          22.550000000000185,
          22.600000000000186,
          22.650000000000187,
          22.700000000000188,
          22.75000000000019,
          22.80000000000019,
          22.85000000000019,
          22.90000000000019,
          22.95000000000019,
          23.000000000000192,
          23.050000000000193,
          23.100000000000193,
          23.150000000000194,
          23.200000000000195,
          23.250000000000195,
          23.300000000000196,
          23.350000000000197,
          23.400000000000198,
          23.4500000000002,
          23.5000000000002,
          23.5500000000002,
          23.6000000000002,
          23.6500000000002,
          23.700000000000202,
          23.750000000000203,
          23.800000000000203,
          23.850000000000204,
          23.900000000000205,
          23.950000000000205,
          24.000000000000206,
          24.050000000000207,
          24.100000000000207,
          24.150000000000208,
          24.20000000000021,
          24.25000000000021,
          24.30000000000021,
          24.35000000000021,
          24.40000000000021,
          24.450000000000212,
          24.500000000000213,
          24.550000000000214,
          24.600000000000215,
          24.650000000000215,
          24.700000000000216,
          24.750000000000217,
          24.800000000000217,
          24.850000000000218,
          24.90000000000022,
          24.95000000000022,
          25.00000000000022,
          25.05000000000022,
          25.10000000000022,
          25.150000000000222,
          25.200000000000223,
          25.250000000000224,
          25.300000000000225,
          25.350000000000225,
          25.400000000000226,
          25.450000000000227,
          25.500000000000227,
          25.550000000000228,
          25.60000000000023,
          25.65000000000023,
          25.70000000000023,
          25.75000000000023,
          25.80000000000023,
          25.850000000000232,
          25.900000000000233,
          25.950000000000234,
          26.000000000000234,
          26.050000000000235,
          26.100000000000236,
          26.150000000000237,
          26.200000000000237,
          26.250000000000238,
          26.30000000000024,
          26.35000000000024,
          26.40000000000024,
          26.45000000000024,
          26.50000000000024,
          26.550000000000242,
          26.600000000000243,
          26.650000000000244,
          26.700000000000244,
          26.750000000000245,
          26.800000000000246,
          26.850000000000247,
          26.900000000000247,
          26.950000000000248,
          27.00000000000025,
          27.05000000000025,
          27.10000000000025,
          27.15000000000025,
          27.20000000000025,
          27.250000000000252,
          27.300000000000253,
          27.350000000000254,
          27.400000000000254,
          27.450000000000255,
          27.500000000000256,
          27.550000000000257,
          27.600000000000257,
          27.650000000000258,
          27.70000000000026,
          27.75000000000026,
          27.80000000000026,
          27.85000000000026,
          27.90000000000026,
          27.950000000000262,
          28.000000000000263,
          28.050000000000264,
          28.100000000000264,
          28.150000000000265,
          28.200000000000266,
          28.250000000000266,
          28.300000000000267,
          28.350000000000268,
          28.40000000000027,
          28.45000000000027,
          28.50000000000027,
          28.55000000000027,
          28.60000000000027,
          28.650000000000272,
          28.700000000000273,
          28.750000000000274,
          28.800000000000274,
          28.850000000000275,
          28.900000000000276,
          28.950000000000276,
          29.000000000000277,
          29.050000000000278,
          29.10000000000028,
          29.15000000000028,
          29.20000000000028,
          29.25000000000028,
          29.30000000000028,
          29.350000000000282,
          29.400000000000283,
          29.450000000000284,
          29.500000000000284,
          29.550000000000285,
          29.600000000000286,
          29.650000000000286,
          29.700000000000287,
          29.750000000000288,
          29.80000000000029,
          29.85000000000029,
          29.90000000000029,
          29.95000000000029,
          30.00000000000029,
          30.050000000000292,
          30.100000000000293,
          30.150000000000293,
          30.200000000000294,
          30.250000000000295,
          30.300000000000296,
          30.350000000000296,
          30.400000000000297,
          30.450000000000298,
          30.5000000000003,
          30.5500000000003,
          30.6000000000003,
          30.6500000000003,
          30.7000000000003,
          30.750000000000302,
          30.800000000000303,
          30.850000000000303,
          30.900000000000304,
          30.950000000000305,
          31.000000000000306,
          31.050000000000306,
          31.100000000000307,
          31.150000000000308,
          31.20000000000031,
          31.25000000000031,
          31.30000000000031,
          31.35000000000031,
          31.40000000000031,
          31.450000000000312,
          31.500000000000313,
          31.550000000000313,
          31.600000000000314,
          31.650000000000315,
          31.700000000000315,
          31.750000000000316,
          31.800000000000317,
          31.850000000000318,
          31.90000000000032,
          31.95000000000032,
          32.00000000000032,
          32.05000000000032,
          32.100000000000314,
          32.15000000000031,
          32.20000000000031,
          32.250000000000306,
          32.3000000000003,
          32.3500000000003,
          32.4000000000003,
          32.450000000000294,
          32.50000000000029,
          32.55000000000029,
          32.600000000000286,
          32.65000000000028,
          32.70000000000028,
          32.75000000000028,
          32.800000000000274,
          32.85000000000027,
          32.90000000000027,
          32.950000000000266,
          33.00000000000026,
          33.05000000000026,
          33.10000000000026,
          33.150000000000254,
          33.20000000000025,
          33.25000000000025,
          33.300000000000246,
          33.35000000000024,
          33.40000000000024,
          33.45000000000024,
          33.500000000000234,
          33.55000000000023,
          33.60000000000023,
          33.650000000000226,
          33.70000000000022,
          33.75000000000022,
          33.80000000000022,
          33.850000000000215,
          33.90000000000021,
          33.95000000000021,
          34.000000000000206,
          34.0500000000002,
          34.1000000000002,
          34.1500000000002,
          34.200000000000195,
          34.25000000000019,
          34.30000000000019,
          34.350000000000186,
          34.40000000000018,
          34.45000000000018,
          34.50000000000018,
          34.550000000000175,
          34.60000000000017,
          34.65000000000017,
          34.700000000000166,
          34.75000000000016,
          34.80000000000016,
          34.85000000000016,
          34.900000000000155,
          34.95000000000015,
          35.00000000000015,
          35.050000000000146,
          35.10000000000014,
          35.15000000000014,
          35.20000000000014,
          35.250000000000135,
          35.30000000000013,
          35.35000000000013,
          35.40000000000013,
          35.450000000000124,
          35.50000000000012,
          35.55000000000012,
          35.600000000000115,
          35.65000000000011,
          35.70000000000011,
          35.75000000000011,
          35.800000000000104,
          35.8500000000001,
          35.9000000000001,
          35.950000000000095,
          36.00000000000009,
          36.05000000000009,
          36.10000000000009,
          36.150000000000084,
          36.20000000000008,
          36.25000000000008,
          36.300000000000075,
          36.35000000000007,
          36.40000000000007,
          36.45000000000007,
          36.500000000000064,
          36.55000000000006,
          36.60000000000006,
          36.650000000000055,
          36.70000000000005,
          36.75000000000005,
          36.80000000000005
         ]
        }
       ],
       "layout": {
        "template": {
         "data": {
          "bar": [
           {
            "error_x": {
             "color": "#f2f5fa"
            },
            "error_y": {
             "color": "#f2f5fa"
            },
            "marker": {
             "line": {
              "color": "rgb(17,17,17)",
              "width": 0.5
             },
             "pattern": {
              "fillmode": "overlay",
              "size": 10,
              "solidity": 0.2
             }
            },
            "type": "bar"
           }
          ],
          "barpolar": [
           {
            "marker": {
             "line": {
              "color": "rgb(17,17,17)",
              "width": 0.5
             },
             "pattern": {
              "fillmode": "overlay",
              "size": 10,
              "solidity": 0.2
             }
            },
            "type": "barpolar"
           }
          ],
          "carpet": [
           {
            "aaxis": {
             "endlinecolor": "#A2B1C6",
             "gridcolor": "#506784",
             "linecolor": "#506784",
             "minorgridcolor": "#506784",
             "startlinecolor": "#A2B1C6"
            },
            "baxis": {
             "endlinecolor": "#A2B1C6",
             "gridcolor": "#506784",
             "linecolor": "#506784",
             "minorgridcolor": "#506784",
             "startlinecolor": "#A2B1C6"
            },
            "type": "carpet"
           }
          ],
          "choropleth": [
           {
            "colorbar": {
             "outlinewidth": 0,
             "ticks": ""
            },
            "type": "choropleth"
           }
          ],
          "contour": [
           {
            "colorbar": {
             "outlinewidth": 0,
             "ticks": ""
            },
            "colorscale": [
             [
              0,
              "#0d0887"
             ],
             [
              0.1111111111111111,
              "#46039f"
             ],
             [
              0.2222222222222222,
              "#7201a8"
             ],
             [
              0.3333333333333333,
              "#9c179e"
             ],
             [
              0.4444444444444444,
              "#bd3786"
             ],
             [
              0.5555555555555556,
              "#d8576b"
             ],
             [
              0.6666666666666666,
              "#ed7953"
             ],
             [
              0.7777777777777778,
              "#fb9f3a"
             ],
             [
              0.8888888888888888,
              "#fdca26"
             ],
             [
              1,
              "#f0f921"
             ]
            ],
            "type": "contour"
           }
          ],
          "contourcarpet": [
           {
            "colorbar": {
             "outlinewidth": 0,
             "ticks": ""
            },
            "type": "contourcarpet"
           }
          ],
          "heatmap": [
           {
            "colorbar": {
             "outlinewidth": 0,
             "ticks": ""
            },
            "colorscale": [
             [
              0,
              "#0d0887"
             ],
             [
              0.1111111111111111,
              "#46039f"
             ],
             [
              0.2222222222222222,
              "#7201a8"
             ],
             [
              0.3333333333333333,
              "#9c179e"
             ],
             [
              0.4444444444444444,
              "#bd3786"
             ],
             [
              0.5555555555555556,
              "#d8576b"
             ],
             [
              0.6666666666666666,
              "#ed7953"
             ],
             [
              0.7777777777777778,
              "#fb9f3a"
             ],
             [
              0.8888888888888888,
              "#fdca26"
             ],
             [
              1,
              "#f0f921"
             ]
            ],
            "type": "heatmap"
           }
          ],
          "heatmapgl": [
           {
            "colorbar": {
             "outlinewidth": 0,
             "ticks": ""
            },
            "colorscale": [
             [
              0,
              "#0d0887"
             ],
             [
              0.1111111111111111,
              "#46039f"
             ],
             [
              0.2222222222222222,
              "#7201a8"
             ],
             [
              0.3333333333333333,
              "#9c179e"
             ],
             [
              0.4444444444444444,
              "#bd3786"
             ],
             [
              0.5555555555555556,
              "#d8576b"
             ],
             [
              0.6666666666666666,
              "#ed7953"
             ],
             [
              0.7777777777777778,
              "#fb9f3a"
             ],
             [
              0.8888888888888888,
              "#fdca26"
             ],
             [
              1,
              "#f0f921"
             ]
            ],
            "type": "heatmapgl"
           }
          ],
          "histogram": [
           {
            "marker": {
             "pattern": {
              "fillmode": "overlay",
              "size": 10,
              "solidity": 0.2
             }
            },
            "type": "histogram"
           }
          ],
          "histogram2d": [
           {
            "colorbar": {
             "outlinewidth": 0,
             "ticks": ""
            },
            "colorscale": [
             [
              0,
              "#0d0887"
             ],
             [
              0.1111111111111111,
              "#46039f"
             ],
             [
              0.2222222222222222,
              "#7201a8"
             ],
             [
              0.3333333333333333,
              "#9c179e"
             ],
             [
              0.4444444444444444,
              "#bd3786"
             ],
             [
              0.5555555555555556,
              "#d8576b"
             ],
             [
              0.6666666666666666,
              "#ed7953"
             ],
             [
              0.7777777777777778,
              "#fb9f3a"
             ],
             [
              0.8888888888888888,
              "#fdca26"
             ],
             [
              1,
              "#f0f921"
             ]
            ],
            "type": "histogram2d"
           }
          ],
          "histogram2dcontour": [
           {
            "colorbar": {
             "outlinewidth": 0,
             "ticks": ""
            },
            "colorscale": [
             [
              0,
              "#0d0887"
             ],
             [
              0.1111111111111111,
              "#46039f"
             ],
             [
              0.2222222222222222,
              "#7201a8"
             ],
             [
              0.3333333333333333,
              "#9c179e"
             ],
             [
              0.4444444444444444,
              "#bd3786"
             ],
             [
              0.5555555555555556,
              "#d8576b"
             ],
             [
              0.6666666666666666,
              "#ed7953"
             ],
             [
              0.7777777777777778,
              "#fb9f3a"
             ],
             [
              0.8888888888888888,
              "#fdca26"
             ],
             [
              1,
              "#f0f921"
             ]
            ],
            "type": "histogram2dcontour"
           }
          ],
          "mesh3d": [
           {
            "colorbar": {
             "outlinewidth": 0,
             "ticks": ""
            },
            "type": "mesh3d"
           }
          ],
          "parcoords": [
           {
            "line": {
             "colorbar": {
              "outlinewidth": 0,
              "ticks": ""
             }
            },
            "type": "parcoords"
           }
          ],
          "pie": [
           {
            "automargin": true,
            "type": "pie"
           }
          ],
          "scatter": [
           {
            "marker": {
             "line": {
              "color": "#283442"
             }
            },
            "type": "scatter"
           }
          ],
          "scatter3d": [
           {
            "line": {
             "colorbar": {
              "outlinewidth": 0,
              "ticks": ""
             }
            },
            "marker": {
             "colorbar": {
              "outlinewidth": 0,
              "ticks": ""
             }
            },
            "type": "scatter3d"
           }
          ],
          "scattercarpet": [
           {
            "marker": {
             "colorbar": {
              "outlinewidth": 0,
              "ticks": ""
             }
            },
            "type": "scattercarpet"
           }
          ],
          "scattergeo": [
           {
            "marker": {
             "colorbar": {
              "outlinewidth": 0,
              "ticks": ""
             }
            },
            "type": "scattergeo"
           }
          ],
          "scattergl": [
           {
            "marker": {
             "line": {
              "color": "#283442"
             }
            },
            "type": "scattergl"
           }
          ],
          "scattermapbox": [
           {
            "marker": {
             "colorbar": {
              "outlinewidth": 0,
              "ticks": ""
             }
            },
            "type": "scattermapbox"
           }
          ],
          "scatterpolar": [
           {
            "marker": {
             "colorbar": {
              "outlinewidth": 0,
              "ticks": ""
             }
            },
            "type": "scatterpolar"
           }
          ],
          "scatterpolargl": [
           {
            "marker": {
             "colorbar": {
              "outlinewidth": 0,
              "ticks": ""
             }
            },
            "type": "scatterpolargl"
           }
          ],
          "scatterternary": [
           {
            "marker": {
             "colorbar": {
              "outlinewidth": 0,
              "ticks": ""
             }
            },
            "type": "scatterternary"
           }
          ],
          "surface": [
           {
            "colorbar": {
             "outlinewidth": 0,
             "ticks": ""
            },
            "colorscale": [
             [
              0,
              "#0d0887"
             ],
             [
              0.1111111111111111,
              "#46039f"
             ],
             [
              0.2222222222222222,
              "#7201a8"
             ],
             [
              0.3333333333333333,
              "#9c179e"
             ],
             [
              0.4444444444444444,
              "#bd3786"
             ],
             [
              0.5555555555555556,
              "#d8576b"
             ],
             [
              0.6666666666666666,
              "#ed7953"
             ],
             [
              0.7777777777777778,
              "#fb9f3a"
             ],
             [
              0.8888888888888888,
              "#fdca26"
             ],
             [
              1,
              "#f0f921"
             ]
            ],
            "type": "surface"
           }
          ],
          "table": [
           {
            "cells": {
             "fill": {
              "color": "#506784"
             },
             "line": {
              "color": "rgb(17,17,17)"
             }
            },
            "header": {
             "fill": {
              "color": "#2a3f5f"
             },
             "line": {
              "color": "rgb(17,17,17)"
             }
            },
            "type": "table"
           }
          ]
         },
         "layout": {
          "annotationdefaults": {
           "arrowcolor": "#f2f5fa",
           "arrowhead": 0,
           "arrowwidth": 1
          },
          "autotypenumbers": "strict",
          "coloraxis": {
           "colorbar": {
            "outlinewidth": 0,
            "ticks": ""
           }
          },
          "colorscale": {
           "diverging": [
            [
             0,
             "#8e0152"
            ],
            [
             0.1,
             "#c51b7d"
            ],
            [
             0.2,
             "#de77ae"
            ],
            [
             0.3,
             "#f1b6da"
            ],
            [
             0.4,
             "#fde0ef"
            ],
            [
             0.5,
             "#f7f7f7"
            ],
            [
             0.6,
             "#e6f5d0"
            ],
            [
             0.7,
             "#b8e186"
            ],
            [
             0.8,
             "#7fbc41"
            ],
            [
             0.9,
             "#4d9221"
            ],
            [
             1,
             "#276419"
            ]
           ],
           "sequential": [
            [
             0,
             "#0d0887"
            ],
            [
             0.1111111111111111,
             "#46039f"
            ],
            [
             0.2222222222222222,
             "#7201a8"
            ],
            [
             0.3333333333333333,
             "#9c179e"
            ],
            [
             0.4444444444444444,
             "#bd3786"
            ],
            [
             0.5555555555555556,
             "#d8576b"
            ],
            [
             0.6666666666666666,
             "#ed7953"
            ],
            [
             0.7777777777777778,
             "#fb9f3a"
            ],
            [
             0.8888888888888888,
             "#fdca26"
            ],
            [
             1,
             "#f0f921"
            ]
           ],
           "sequentialminus": [
            [
             0,
             "#0d0887"
            ],
            [
             0.1111111111111111,
             "#46039f"
            ],
            [
             0.2222222222222222,
             "#7201a8"
            ],
            [
             0.3333333333333333,
             "#9c179e"
            ],
            [
             0.4444444444444444,
             "#bd3786"
            ],
            [
             0.5555555555555556,
             "#d8576b"
            ],
            [
             0.6666666666666666,
             "#ed7953"
            ],
            [
             0.7777777777777778,
             "#fb9f3a"
            ],
            [
             0.8888888888888888,
             "#fdca26"
            ],
            [
             1,
             "#f0f921"
            ]
           ]
          },
          "colorway": [
           "#636efa",
           "#EF553B",
           "#00cc96",
           "#ab63fa",
           "#FFA15A",
           "#19d3f3",
           "#FF6692",
           "#B6E880",
           "#FF97FF",
           "#FECB52"
          ],
          "font": {
           "color": "#f2f5fa"
          },
          "geo": {
           "bgcolor": "rgb(17,17,17)",
           "lakecolor": "rgb(17,17,17)",
           "landcolor": "rgb(17,17,17)",
           "showlakes": true,
           "showland": true,
           "subunitcolor": "#506784"
          },
          "hoverlabel": {
           "align": "left"
          },
          "hovermode": "closest",
          "mapbox": {
           "style": "dark"
          },
          "paper_bgcolor": "rgb(17,17,17)",
          "plot_bgcolor": "rgb(17,17,17)",
          "polar": {
           "angularaxis": {
            "gridcolor": "#506784",
            "linecolor": "#506784",
            "ticks": ""
           },
           "bgcolor": "rgb(17,17,17)",
           "radialaxis": {
            "gridcolor": "#506784",
            "linecolor": "#506784",
            "ticks": ""
           }
          },
          "scene": {
           "xaxis": {
            "backgroundcolor": "rgb(17,17,17)",
            "gridcolor": "#506784",
            "gridwidth": 2,
            "linecolor": "#506784",
            "showbackground": true,
            "ticks": "",
            "zerolinecolor": "#C8D4E3"
           },
           "yaxis": {
            "backgroundcolor": "rgb(17,17,17)",
            "gridcolor": "#506784",
            "gridwidth": 2,
            "linecolor": "#506784",
            "showbackground": true,
            "ticks": "",
            "zerolinecolor": "#C8D4E3"
           },
           "zaxis": {
            "backgroundcolor": "rgb(17,17,17)",
            "gridcolor": "#506784",
            "gridwidth": 2,
            "linecolor": "#506784",
            "showbackground": true,
            "ticks": "",
            "zerolinecolor": "#C8D4E3"
           }
          },
          "shapedefaults": {
           "line": {
            "color": "#f2f5fa"
           }
          },
          "sliderdefaults": {
           "bgcolor": "#C8D4E3",
           "bordercolor": "rgb(17,17,17)",
           "borderwidth": 1,
           "tickwidth": 0
          },
          "ternary": {
           "aaxis": {
            "gridcolor": "#506784",
            "linecolor": "#506784",
            "ticks": ""
           },
           "baxis": {
            "gridcolor": "#506784",
            "linecolor": "#506784",
            "ticks": ""
           },
           "bgcolor": "rgb(17,17,17)",
           "caxis": {
            "gridcolor": "#506784",
            "linecolor": "#506784",
            "ticks": ""
           }
          },
          "title": {
           "x": 0.05
          },
          "updatemenudefaults": {
           "bgcolor": "#506784",
           "borderwidth": 0
          },
          "xaxis": {
           "automargin": true,
           "gridcolor": "#283442",
           "linecolor": "#506784",
           "ticks": "",
           "title": {
            "standoff": 15
           },
           "zerolinecolor": "#283442",
           "zerolinewidth": 2
          },
          "yaxis": {
           "automargin": true,
           "gridcolor": "#283442",
           "linecolor": "#506784",
           "ticks": "",
           "title": {
            "standoff": 15
           },
           "zerolinecolor": "#283442",
           "zerolinewidth": 2
          }
         }
        },
        "title": {
         "text": "HVC-function"
        },
        "xaxis": {
         "title": {
          "text": "contaminations"
         }
        },
        "yaxis": {
         "title": {
          "text": "msc"
         }
        }
       }
      }
     },
     "metadata": {},
     "output_type": "display_data"
    }
   ],
   "source": [
    "import plotly.graph_objects as go\n",
    "\n",
    "def plot_series(series):\n",
    "    x_values = [item[1] for item in series]\n",
    "    y_values = [item[0] for item in series]\n",
    "    \n",
    "    fig = go.Figure(data=go.Scatter(x=x_values, y=y_values, mode='lines'))\n",
    "    fig.update_layout(\n",
    "        title='HVC-function',\n",
    "        xaxis_title='contaminations',\n",
    "        yaxis_title='msc',\n",
    "        template='plotly_dark'\n",
    "    )\n",
    "    fig.show()\n",
    "\n",
    "# count contaminationsA\n",
    "fn_passing = list()\n",
    "passing_score = 0\n",
    "while passing_score < df_total['minimum_scale_coefficient'].max():\n",
    "    passing_score += 0.05\n",
    "    df_total['pass'] = df_total['minimum_scale_coefficient'].apply(lambda x : x > passing_score)\n",
    "    merge_intensity = len(df_total[df_total['pass']]) #/len(df_total)\n",
    "    fn_passing.append([passing_score, merge_intensity])\n",
    "\n",
    "plot_series(fn_passing)"
   ]
  },
  {
   "cell_type": "markdown",
   "metadata": {},
   "source": [
    "After normalization, we can simply input the desired merge intensity and get the msc required to obtain it"
   ]
  },
  {
   "cell_type": "code",
   "execution_count": 114,
   "metadata": {},
   "outputs": [
    {
     "data": {
      "application/vnd.plotly.v1+json": {
       "config": {
        "plotlyServerURL": "https://plot.ly"
       },
       "data": [
        {
         "mode": "lines",
         "type": "scatter",
         "x": [
          1,
          1,
          1,
          1,
          1,
          1,
          1,
          1,
          1,
          1,
          1,
          1,
          0.9995918367346939,
          0.9924489795918368,
          0.9559183673469388,
          0.9132653061224489,
          0.8814285714285715,
          0.8622448979591837,
          0.8577551020408163,
          0.8571428571428571,
          0.8571428571428571,
          0.8571428571428571,
          0.8571428571428571,
          0.8571428571428571,
          0.8571428571428571,
          0.8571428571428571,
          0.8571428571428571,
          0.8571428571428571,
          0.8571428571428571,
          0.8571428571428571,
          0.8571428571428571,
          0.8571428571428571,
          0.856938775510204,
          0.856938775510204,
          0.856734693877551,
          0.8557142857142858,
          0.853265306122449,
          0.8493877551020408,
          0.8448979591836735,
          0.8391836734693877,
          0.8336734693877551,
          0.8287755102040816,
          0.8244897959183674,
          0.8208163265306122,
          0.8197959183673469,
          0.8183673469387756,
          0.8148979591836735,
          0.81,
          0.8040816326530612,
          0.7944897959183673,
          0.7846938775510204,
          0.7761224489795918,
          0.7644897959183673,
          0.7518367346938776,
          0.7414285714285714,
          0.7293877551020408,
          0.7185714285714285,
          0.71,
          0.7004081632653061,
          0.6906122448979591,
          0.6818367346938775,
          0.6738775510204081,
          0.6669387755102041,
          0.6591836734693878,
          0.6469387755102041,
          0.6363265306122449,
          0.6242857142857143,
          0.6118367346938776,
          0.6028571428571429,
          0.5916326530612245,
          0.5781632653061225,
          0.5685714285714286,
          0.559795918367347,
          0.5469387755102041,
          0.5369387755102041,
          0.5269387755102041,
          0.516734693877551,
          0.5073469387755102,
          0.4946938775510204,
          0.48489795918367345,
          0.47408163265306125,
          0.46530612244897956,
          0.4573469387755102,
          0.44693877551020406,
          0.43673469387755104,
          0.4251020408163265,
          0.4146938775510204,
          0.40224489795918367,
          0.39122448979591834,
          0.37979591836734694,
          0.3716326530612245,
          0.3626530612244898,
          0.3536734693877551,
          0.3483673469387755,
          0.3395918367346939,
          0.33387755102040817,
          0.32857142857142857,
          0.32326530612244897,
          0.31755102040816324,
          0.3116326530612245,
          0.30612244897959184,
          0.3016326530612245,
          0.2953061224489796,
          0.2897959183673469,
          0.2863265306122449,
          0.2814285714285714,
          0.27653061224489794,
          0.2714285714285714,
          0.2677551020408163,
          0.2630612244897959,
          0.25857142857142856,
          0.2557142857142857,
          0.25285714285714284,
          0.24755102040816326,
          0.24551020408163265,
          0.24224489795918366,
          0.23918367346938776,
          0.2373469387755102,
          0.23387755102040816,
          0.23224489795918368,
          0.2304081632653061,
          0.22938775510204082,
          0.2279591836734694,
          0.22714285714285715,
          0.22591836734693876,
          0.2246938775510204,
          0.223265306122449,
          0.22224489795918367,
          0.22163265306122448,
          0.22040816326530613,
          0.2193877551020408,
          0.21775510204081633,
          0.21612244897959185,
          0.2153061224489796,
          0.21387755102040817,
          0.21244897959183673,
          0.21040816326530612,
          0.20979591836734693,
          0.20857142857142857,
          0.20714285714285716,
          0.20530612244897958,
          0.20346938775510204,
          0.2010204081632653,
          0.1989795918367347,
          0.19755102040816327,
          0.1957142857142857,
          0.1946938775510204,
          0.1936734693877551,
          0.1920408163265306,
          0.19020408163265307,
          0.18877551020408162,
          0.1879591836734694,
          0.18571428571428572,
          0.18428571428571427,
          0.18285714285714286,
          0.1816326530612245,
          0.18,
          0.1783673469387755,
          0.17673469387755103,
          0.17653061224489797,
          0.17591836734693878,
          0.1742857142857143,
          0.17326530612244898,
          0.17183673469387756,
          0.17081632653061224,
          0.16959183673469388,
          0.1683673469387755,
          0.16673469387755102,
          0.1657142857142857,
          0.1636734693877551,
          0.1620408163265306,
          0.16020408163265307,
          0.15775510204081633,
          0.15489795918367347,
          0.15285714285714286,
          0.15081632653061225,
          0.15020408163265306,
          0.14959183673469387,
          0.14857142857142858,
          0.14653061224489797,
          0.1457142857142857,
          0.1436734693877551,
          0.14265306122448979,
          0.14122448979591837,
          0.14,
          0.1389795918367347,
          0.13795918367346938,
          0.13673469387755102,
          0.13612244897959183,
          0.1346938775510204,
          0.13346938775510203,
          0.13285714285714287,
          0.13224489795918368,
          0.1306122448979592,
          0.12918367346938775,
          0.12775510204081633,
          0.12653061224489795,
          0.12632653061224489,
          0.1259183673469388,
          0.12510204081632653,
          0.12408163265306123,
          0.12306122448979592,
          0.12244897959183673,
          0.12142857142857143,
          0.11959183673469388,
          0.11938775510204082,
          0.11795918367346939,
          0.11734693877551021,
          0.11612244897959184,
          0.11571428571428571,
          0.11530612244897959,
          0.11469387755102041,
          0.11346938775510204,
          0.11244897959183674,
          0.1116326530612245,
          0.11122448979591837,
          0.11061224489795918,
          0.10979591836734694,
          0.1089795918367347,
          0.10857142857142857,
          0.10755102040816326,
          0.1073469387755102,
          0.10693877551020409,
          0.10653061224489796,
          0.1063265306122449,
          0.10571428571428572,
          0.10489795918367346,
          0.10448979591836735,
          0.10387755102040816,
          0.10306122448979592,
          0.10306122448979592,
          0.10285714285714286,
          0.10265306122448979,
          0.10204081632653061,
          0.10163265306122449,
          0.10102040816326531,
          0.10020408163265306,
          0.1,
          0.09959183673469388,
          0.09938775510204081,
          0.09918367346938775,
          0.09897959183673469,
          0.09816326530612245,
          0.09775510204081633,
          0.09693877551020408,
          0.09673469387755101,
          0.09653061224489796,
          0.09653061224489796,
          0.09571428571428571,
          0.09489795918367347,
          0.09489795918367347,
          0.09448979591836734,
          0.09408163265306123,
          0.09326530612244897,
          0.09224489795918367,
          0.09183673469387756,
          0.09122448979591836,
          0.09,
          0.08938775510204082,
          0.08897959183673469,
          0.08877551020408163,
          0.08836734693877552,
          0.08693877551020408,
          0.08551020408163265,
          0.08448979591836735,
          0.08387755102040817,
          0.08285714285714285,
          0.08204081632653061,
          0.08020408163265307,
          0.07959183673469387,
          0.07918367346938776,
          0.07714285714285714,
          0.07693877551020409,
          0.07673469387755102,
          0.07591836734693877,
          0.07489795918367347,
          0.07448979591836735,
          0.07285714285714286,
          0.07244897959183673,
          0.07163265306122449,
          0.07102040816326531,
          0.07020408163265306,
          0.06918367346938775,
          0.06857142857142857,
          0.06816326530612245,
          0.0673469387755102,
          0.0663265306122449,
          0.0653061224489796,
          0.06408163265306123,
          0.06285714285714286,
          0.06224489795918367,
          0.06142857142857143,
          0.060816326530612246,
          0.06,
          0.05979591836734694,
          0.059387755102040814,
          0.05918367346938776,
          0.05795918367346939,
          0.057346938775510205,
          0.056938775510204084,
          0.0563265306122449,
          0.05551020408163265,
          0.054285714285714284,
          0.0536734693877551,
          0.05326530612244898,
          0.053061224489795916,
          0.052653061224489796,
          0.05204081632653061,
          0.051224489795918364,
          0.051224489795918364,
          0.05102040816326531,
          0.05040816326530612,
          0.05020408163265306,
          0.05,
          0.049591836734693875,
          0.049183673469387755,
          0.04857142857142857,
          0.04795918367346939,
          0.047551020408163266,
          0.0473469387755102,
          0.04693877551020408,
          0.046122448979591835,
          0.04591836734693878,
          0.045306122448979594,
          0.044897959183673466,
          0.04428571428571428,
          0.04387755102040816,
          0.04346938775510204,
          0.04326530612244898,
          0.04244897959183674,
          0.04244897959183674,
          0.04224489795918367,
          0.04204081632653061,
          0.04183673469387755,
          0.041020408163265305,
          0.040612244897959185,
          0.040612244897959185,
          0.04040816326530612,
          0.040204081632653065,
          0.04,
          0.03938775510204082,
          0.038979591836734696,
          0.03877551020408163,
          0.03857142857142857,
          0.03836734693877551,
          0.03816326530612245,
          0.0373469387755102,
          0.03693877551020408,
          0.03653061224489796,
          0.03653061224489796,
          0.03653061224489796,
          0.03653061224489796,
          0.03653061224489796,
          0.03653061224489796,
          0.03612244897959184,
          0.03571428571428571,
          0.03530612244897959,
          0.03530612244897959,
          0.03530612244897959,
          0.03510204081632653,
          0.03510204081632653,
          0.03489795918367347,
          0.03469387755102041,
          0.03469387755102041,
          0.03469387755102041,
          0.034489795918367344,
          0.034489795918367344,
          0.034081632653061224,
          0.03387755102040816,
          0.0336734693877551,
          0.03326530612244898,
          0.032448979591836735,
          0.032448979591836735,
          0.03224489795918367,
          0.032040816326530615,
          0.03183673469387755,
          0.03163265306122449,
          0.03142857142857143,
          0.031224489795918367,
          0.031224489795918367,
          0.031224489795918367,
          0.031224489795918367,
          0.031020408163265307,
          0.030816326530612243,
          0.030816326530612243,
          0.030816326530612243,
          0.030816326530612243,
          0.030612244897959183,
          0.030408163265306123,
          0.030408163265306123,
          0.030408163265306123,
          0.030204081632653063,
          0.030204081632653063,
          0.030204081632653063,
          0.030204081632653063,
          0.03,
          0.03,
          0.03,
          0.03,
          0.03,
          0.03,
          0.03,
          0.03,
          0.03,
          0.03,
          0.02979591836734694,
          0.02979591836734694,
          0.02979591836734694,
          0.02979591836734694,
          0.02979591836734694,
          0.02959183673469388,
          0.02959183673469388,
          0.02959183673469388,
          0.02959183673469388,
          0.02959183673469388,
          0.02959183673469388,
          0.02959183673469388,
          0.02959183673469388,
          0.02959183673469388,
          0.02959183673469388,
          0.02959183673469388,
          0.02959183673469388,
          0.02959183673469388,
          0.02959183673469388,
          0.02959183673469388,
          0.02959183673469388,
          0.02959183673469388,
          0.02959183673469388,
          0.02959183673469388,
          0.02959183673469388,
          0.02959183673469388,
          0.02959183673469388,
          0.02959183673469388,
          0.02959183673469388,
          0.02959183673469388,
          0.02959183673469388,
          0.02959183673469388,
          0.02959183673469388,
          0.02959183673469388,
          0.02959183673469388,
          0.02959183673469388,
          0.02959183673469388,
          0.02959183673469388,
          0.02959183673469388,
          0.02959183673469388,
          0.02959183673469388,
          0.02959183673469388,
          0.02959183673469388,
          0.02959183673469388,
          0.02959183673469388,
          0.02959183673469388,
          0.029387755102040815,
          0.029387755102040815,
          0.029387755102040815,
          0.029387755102040815,
          0.029183673469387755,
          0.029183673469387755,
          0.029183673469387755,
          0.029183673469387755,
          0.029183673469387755,
          0.029183673469387755,
          0.029183673469387755,
          0.029183673469387755,
          0.029183673469387755,
          0.028979591836734694,
          0.028775510204081634,
          0.02857142857142857,
          0.02857142857142857,
          0.02836734693877551,
          0.02816326530612245,
          0.027959183673469386,
          0.027959183673469386,
          0.027959183673469386,
          0.027959183673469386,
          0.027755102040816326,
          0.027755102040816326,
          0.027755102040816326,
          0.027755102040816326,
          0.027346938775510202,
          0.027346938775510202,
          0.027346938775510202,
          0.027142857142857142,
          0.026938775510204082,
          0.026530612244897958,
          0.026326530612244898,
          0.025918367346938774,
          0.025918367346938774,
          0.025918367346938774,
          0.025714285714285714,
          0.025714285714285714,
          0.025306122448979593,
          0.025306122448979593,
          0.02510204081632653,
          0.02489795918367347,
          0.02469387755102041,
          0.024489795918367346,
          0.024285714285714285,
          0.024081632653061225,
          0.02387755102040816,
          0.0236734693877551,
          0.0236734693877551,
          0.0236734693877551,
          0.02346938775510204,
          0.02326530612244898,
          0.023061224489795917,
          0.022653061224489797,
          0.022448979591836733,
          0.022448979591836733,
          0.022448979591836733,
          0.022244897959183673,
          0.021836734693877553,
          0.021836734693877553,
          0.02163265306122449,
          0.02163265306122449,
          0.02163265306122449,
          0.02142857142857143,
          0.02122448979591837,
          0.02122448979591837,
          0.020612244897959184,
          0.02040816326530612,
          0.02040816326530612,
          0.02040816326530612,
          0.02040816326530612,
          0.02040816326530612,
          0.02020408163265306,
          0.02020408163265306,
          0.02,
          0.019591836734693877,
          0.019183673469387756,
          0.018775510204081632,
          0.018571428571428572,
          0.018571428571428572,
          0.018163265306122448,
          0.017959183673469388,
          0.017551020408163264,
          0.017346938775510204,
          0.017346938775510204,
          0.01693877551020408,
          0.01693877551020408,
          0.01673469387755102,
          0.01673469387755102,
          0.01673469387755102,
          0.01653061224489796,
          0.01653061224489796,
          0.01653061224489796,
          0.015918367346938776,
          0.015918367346938776,
          0.015714285714285715,
          0.015714285714285715,
          0.015306122448979591,
          0.015306122448979591,
          0.015102040816326531,
          0.015102040816326531,
          0.015102040816326531,
          0.015102040816326531,
          0.014693877551020407,
          0.014693877551020407,
          0.014489795918367347,
          0.014489795918367347,
          0.013877551020408163,
          0.013877551020408163,
          0.013673469387755101,
          0.013265306122448979,
          0.013061224489795919,
          0.012857142857142857,
          0.012448979591836735,
          0.012448979591836735,
          0.012448979591836735,
          0.012448979591836735,
          0.012244897959183673,
          0.01183673469387755,
          0.011428571428571429,
          0.011224489795918367,
          0.011020408163265306,
          0.010612244897959184,
          0.010408163265306122,
          0.010408163265306122,
          0.01020408163265306,
          0.01,
          0.009795918367346938,
          0.009795918367346938,
          0.009591836734693878,
          0.009591836734693878,
          0.009387755102040816,
          0.009183673469387756,
          0.009183673469387756,
          0.008775510204081632,
          0.008571428571428572,
          0.008571428571428572,
          0.00816326530612245,
          0.007959183673469388,
          0.007959183673469388,
          0.007959183673469388,
          0.007959183673469388,
          0.007755102040816327,
          0.007346938775510204,
          0.007142857142857143,
          0.007142857142857143,
          0.0069387755102040816,
          0.006326530612244898,
          0.006122448979591836,
          0.005918367346938775,
          0.005918367346938775,
          0.005918367346938775,
          0.005918367346938775,
          0.005918367346938775,
          0.005918367346938775,
          0.005714285714285714,
          0.005714285714285714,
          0.005714285714285714,
          0.005714285714285714,
          0.005306122448979592,
          0.00510204081632653,
          0.00510204081632653,
          0.004897959183673469,
          0.004897959183673469,
          0.004897959183673469,
          0.004285714285714286,
          0.004081632653061225,
          0.0038775510204081634,
          0.003673469387755102,
          0.0034693877551020408,
          0.0034693877551020408,
          0.0032653061224489797,
          0.0032653061224489797,
          0.0032653061224489797,
          0.0032653061224489797,
          0.0032653061224489797,
          0.0032653061224489797,
          0.0032653061224489797,
          0.0032653061224489797,
          0.0032653061224489797,
          0.0032653061224489797,
          0.0032653061224489797,
          0.0032653061224489797,
          0.0032653061224489797,
          0.003061224489795918,
          0.003061224489795918,
          0.002857142857142857,
          0.002857142857142857,
          0.002857142857142857,
          0.002857142857142857,
          0.002857142857142857,
          0.002653061224489796,
          0.002653061224489796,
          0.002653061224489796,
          0.002653061224489796,
          0.002653061224489796,
          0.002653061224489796,
          0.002653061224489796,
          0.002653061224489796,
          0.002653061224489796,
          0.0022448979591836735,
          0.0020408163265306124,
          0.001836734693877551,
          0.001836734693877551,
          0.0014285714285714286,
          0.0012244897959183673,
          0.0012244897959183673,
          0.0012244897959183673,
          0.0012244897959183673,
          0.0012244897959183673,
          0.0012244897959183673,
          0.0012244897959183673,
          0.0012244897959183673,
          0.0012244897959183673,
          0.0012244897959183673,
          0.0012244897959183673,
          0.0012244897959183673,
          0.0012244897959183673,
          0.0010204081632653062,
          0.0010204081632653062,
          0.0010204081632653062,
          0.0010204081632653062,
          0.0010204081632653062,
          0.0010204081632653062,
          0.0010204081632653062,
          0.0010204081632653062,
          0.0010204081632653062,
          0.0010204081632653062,
          0.0010204081632653062,
          0.0010204081632653062,
          0.0010204081632653062,
          0.0010204081632653062,
          0.0010204081632653062,
          0.0010204081632653062,
          0.0010204081632653062,
          0.0010204081632653062,
          0.0008163265306122449,
          0.0008163265306122449,
          0.0008163265306122449,
          0.0008163265306122449,
          0.0008163265306122449,
          0.0006122448979591836,
          0.0006122448979591836,
          0.0006122448979591836,
          0.0006122448979591836,
          0.0006122448979591836,
          0.0006122448979591836,
          0.0006122448979591836,
          0.0006122448979591836,
          0.00040816326530612246,
          0.00020408163265306123,
          0.00020408163265306123,
          0.00020408163265306123,
          0.00020408163265306123,
          0.00020408163265306123,
          0.00020408163265306123,
          0.00020408163265306123,
          0.00020408163265306123,
          0.00020408163265306123,
          0.00020408163265306123,
          0.00020408163265306123,
          0.00020408163265306123,
          0.00020408163265306123,
          0.00020408163265306123,
          0.00020408163265306123,
          0.00020408163265306123,
          0.00020408163265306123,
          0.00020408163265306123,
          0.00020408163265306123,
          0.00020408163265306123,
          0.00020408163265306123,
          0.00020408163265306123,
          0.00020408163265306123,
          0.00020408163265306123,
          0.00020408163265306123,
          0.00020408163265306123,
          0.00020408163265306123,
          0.00020408163265306123,
          0.00020408163265306123,
          0.00020408163265306123,
          0.00020408163265306123,
          0.00020408163265306123,
          0.00020408163265306123,
          0
         ],
         "y": [
          0.05,
          0.1,
          0.15000000000000002,
          0.2,
          0.25,
          0.3,
          0.35,
          0.39999999999999997,
          0.44999999999999996,
          0.49999999999999994,
          0.5499999999999999,
          0.6,
          0.65,
          0.7000000000000001,
          0.7500000000000001,
          0.8000000000000002,
          0.8500000000000002,
          0.9000000000000002,
          0.9500000000000003,
          1.0000000000000002,
          1.0500000000000003,
          1.1000000000000003,
          1.1500000000000004,
          1.2000000000000004,
          1.2500000000000004,
          1.3000000000000005,
          1.3500000000000005,
          1.4000000000000006,
          1.4500000000000006,
          1.5000000000000007,
          1.5500000000000007,
          1.6000000000000008,
          1.6500000000000008,
          1.7000000000000008,
          1.7500000000000009,
          1.800000000000001,
          1.850000000000001,
          1.900000000000001,
          1.950000000000001,
          2.000000000000001,
          2.0500000000000007,
          2.1000000000000005,
          2.1500000000000004,
          2.2,
          2.25,
          2.3,
          2.3499999999999996,
          2.3999999999999995,
          2.4499999999999993,
          2.499999999999999,
          2.549999999999999,
          2.5999999999999988,
          2.6499999999999986,
          2.6999999999999984,
          2.7499999999999982,
          2.799999999999998,
          2.849999999999998,
          2.8999999999999977,
          2.9499999999999975,
          2.9999999999999973,
          3.049999999999997,
          3.099999999999997,
          3.149999999999997,
          3.1999999999999966,
          3.2499999999999964,
          3.2999999999999963,
          3.349999999999996,
          3.399999999999996,
          3.4499999999999957,
          3.4999999999999956,
          3.5499999999999954,
          3.599999999999995,
          3.649999999999995,
          3.699999999999995,
          3.7499999999999947,
          3.7999999999999945,
          3.8499999999999943,
          3.899999999999994,
          3.949999999999994,
          3.999999999999994,
          4.049999999999994,
          4.099999999999993,
          4.149999999999993,
          4.199999999999993,
          4.249999999999993,
          4.299999999999993,
          4.3499999999999925,
          4.399999999999992,
          4.449999999999992,
          4.499999999999992,
          4.549999999999992,
          4.599999999999992,
          4.6499999999999915,
          4.699999999999991,
          4.749999999999991,
          4.799999999999991,
          4.849999999999991,
          4.899999999999991,
          4.94999999999999,
          4.99999999999999,
          5.04999999999999,
          5.09999999999999,
          5.14999999999999,
          5.1999999999999895,
          5.249999999999989,
          5.299999999999989,
          5.349999999999989,
          5.399999999999989,
          5.449999999999989,
          5.4999999999999885,
          5.549999999999988,
          5.599999999999988,
          5.649999999999988,
          5.699999999999988,
          5.749999999999988,
          5.799999999999987,
          5.849999999999987,
          5.899999999999987,
          5.949999999999987,
          5.999999999999987,
          6.0499999999999865,
          6.099999999999986,
          6.149999999999986,
          6.199999999999986,
          6.249999999999986,
          6.299999999999986,
          6.349999999999985,
          6.399999999999985,
          6.449999999999985,
          6.499999999999985,
          6.549999999999985,
          6.5999999999999845,
          6.649999999999984,
          6.699999999999984,
          6.749999999999984,
          6.799999999999984,
          6.849999999999984,
          6.8999999999999835,
          6.949999999999983,
          6.999999999999983,
          7.049999999999983,
          7.099999999999983,
          7.149999999999983,
          7.199999999999982,
          7.249999999999982,
          7.299999999999982,
          7.349999999999982,
          7.399999999999982,
          7.4499999999999815,
          7.499999999999981,
          7.549999999999981,
          7.599999999999981,
          7.649999999999981,
          7.699999999999981,
          7.7499999999999805,
          7.79999999999998,
          7.84999999999998,
          7.89999999999998,
          7.94999999999998,
          7.99999999999998,
          8.04999999999998,
          8.09999999999998,
          8.14999999999998,
          8.199999999999982,
          8.249999999999982,
          8.299999999999983,
          8.349999999999984,
          8.399999999999984,
          8.449999999999985,
          8.499999999999986,
          8.549999999999986,
          8.599999999999987,
          8.649999999999988,
          8.699999999999989,
          8.74999999999999,
          8.79999999999999,
          8.84999999999999,
          8.899999999999991,
          8.949999999999992,
          8.999999999999993,
          9.049999999999994,
          9.099999999999994,
          9.149999999999995,
          9.199999999999996,
          9.249999999999996,
          9.299999999999997,
          9.349999999999998,
          9.399999999999999,
          9.45,
          9.5,
          9.55,
          9.600000000000001,
          9.650000000000002,
          9.700000000000003,
          9.750000000000004,
          9.800000000000004,
          9.850000000000005,
          9.900000000000006,
          9.950000000000006,
          10.000000000000007,
          10.050000000000008,
          10.100000000000009,
          10.15000000000001,
          10.20000000000001,
          10.25000000000001,
          10.300000000000011,
          10.350000000000012,
          10.400000000000013,
          10.450000000000014,
          10.500000000000014,
          10.550000000000015,
          10.600000000000016,
          10.650000000000016,
          10.700000000000017,
          10.750000000000018,
          10.800000000000018,
          10.85000000000002,
          10.90000000000002,
          10.95000000000002,
          11.000000000000021,
          11.050000000000022,
          11.100000000000023,
          11.150000000000023,
          11.200000000000024,
          11.250000000000025,
          11.300000000000026,
          11.350000000000026,
          11.400000000000027,
          11.450000000000028,
          11.500000000000028,
          11.55000000000003,
          11.60000000000003,
          11.65000000000003,
          11.700000000000031,
          11.750000000000032,
          11.800000000000033,
          11.850000000000033,
          11.900000000000034,
          11.950000000000035,
          12.000000000000036,
          12.050000000000036,
          12.100000000000037,
          12.150000000000038,
          12.200000000000038,
          12.250000000000039,
          12.30000000000004,
          12.35000000000004,
          12.400000000000041,
          12.450000000000042,
          12.500000000000043,
          12.550000000000043,
          12.600000000000044,
          12.650000000000045,
          12.700000000000045,
          12.750000000000046,
          12.800000000000047,
          12.850000000000048,
          12.900000000000048,
          12.950000000000049,
          13.00000000000005,
          13.05000000000005,
          13.100000000000051,
          13.150000000000052,
          13.200000000000053,
          13.250000000000053,
          13.300000000000054,
          13.350000000000055,
          13.400000000000055,
          13.450000000000056,
          13.500000000000057,
          13.550000000000058,
          13.600000000000058,
          13.650000000000059,
          13.70000000000006,
          13.75000000000006,
          13.800000000000061,
          13.850000000000062,
          13.900000000000063,
          13.950000000000063,
          14.000000000000064,
          14.050000000000065,
          14.100000000000065,
          14.150000000000066,
          14.200000000000067,
          14.250000000000068,
          14.300000000000068,
          14.350000000000069,
          14.40000000000007,
          14.45000000000007,
          14.500000000000071,
          14.550000000000072,
          14.600000000000072,
          14.650000000000073,
          14.700000000000074,
          14.750000000000075,
          14.800000000000075,
          14.850000000000076,
          14.900000000000077,
          14.950000000000077,
          15.000000000000078,
          15.050000000000079,
          15.10000000000008,
          15.15000000000008,
          15.200000000000081,
          15.250000000000082,
          15.300000000000082,
          15.350000000000083,
          15.400000000000084,
          15.450000000000085,
          15.500000000000085,
          15.550000000000086,
          15.600000000000087,
          15.650000000000087,
          15.700000000000088,
          15.750000000000089,
          15.80000000000009,
          15.85000000000009,
          15.900000000000091,
          15.950000000000092,
          16.000000000000092,
          16.050000000000093,
          16.100000000000094,
          16.150000000000095,
          16.200000000000095,
          16.250000000000096,
          16.300000000000097,
          16.350000000000097,
          16.400000000000098,
          16.4500000000001,
          16.5000000000001,
          16.5500000000001,
          16.6000000000001,
          16.6500000000001,
          16.700000000000102,
          16.750000000000103,
          16.800000000000104,
          16.850000000000104,
          16.900000000000105,
          16.950000000000106,
          17.000000000000107,
          17.050000000000107,
          17.100000000000108,
          17.15000000000011,
          17.20000000000011,
          17.25000000000011,
          17.30000000000011,
          17.35000000000011,
          17.400000000000112,
          17.450000000000113,
          17.500000000000114,
          17.550000000000114,
          17.600000000000115,
          17.650000000000116,
          17.700000000000117,
          17.750000000000117,
          17.800000000000118,
          17.85000000000012,
          17.90000000000012,
          17.95000000000012,
          18.00000000000012,
          18.05000000000012,
          18.100000000000122,
          18.150000000000123,
          18.200000000000124,
          18.250000000000124,
          18.300000000000125,
          18.350000000000126,
          18.400000000000126,
          18.450000000000127,
          18.500000000000128,
          18.55000000000013,
          18.60000000000013,
          18.65000000000013,
          18.70000000000013,
          18.75000000000013,
          18.800000000000132,
          18.850000000000133,
          18.900000000000134,
          18.950000000000134,
          19.000000000000135,
          19.050000000000136,
          19.100000000000136,
          19.150000000000137,
          19.200000000000138,
          19.25000000000014,
          19.30000000000014,
          19.35000000000014,
          19.40000000000014,
          19.45000000000014,
          19.500000000000142,
          19.550000000000143,
          19.600000000000144,
          19.650000000000144,
          19.700000000000145,
          19.750000000000146,
          19.800000000000146,
          19.850000000000147,
          19.900000000000148,
          19.95000000000015,
          20.00000000000015,
          20.05000000000015,
          20.10000000000015,
          20.15000000000015,
          20.200000000000152,
          20.250000000000153,
          20.300000000000153,
          20.350000000000154,
          20.400000000000155,
          20.450000000000156,
          20.500000000000156,
          20.550000000000157,
          20.600000000000158,
          20.65000000000016,
          20.70000000000016,
          20.75000000000016,
          20.80000000000016,
          20.85000000000016,
          20.900000000000162,
          20.950000000000163,
          21.000000000000163,
          21.050000000000164,
          21.100000000000165,
          21.150000000000166,
          21.200000000000166,
          21.250000000000167,
          21.300000000000168,
          21.35000000000017,
          21.40000000000017,
          21.45000000000017,
          21.50000000000017,
          21.55000000000017,
          21.600000000000172,
          21.650000000000173,
          21.700000000000173,
          21.750000000000174,
          21.800000000000175,
          21.850000000000176,
          21.900000000000176,
          21.950000000000177,
          22.000000000000178,
          22.05000000000018,
          22.10000000000018,
          22.15000000000018,
          22.20000000000018,
          22.25000000000018,
          22.300000000000182,
          22.350000000000183,
          22.400000000000183,
          22.450000000000184,
          22.500000000000185,
          22.550000000000185,
          22.600000000000186,
          22.650000000000187,
          22.700000000000188,
          22.75000000000019,
          22.80000000000019,
          22.85000000000019,
          22.90000000000019,
          22.95000000000019,
          23.000000000000192,
          23.050000000000193,
          23.100000000000193,
          23.150000000000194,
          23.200000000000195,
          23.250000000000195,
          23.300000000000196,
          23.350000000000197,
          23.400000000000198,
          23.4500000000002,
          23.5000000000002,
          23.5500000000002,
          23.6000000000002,
          23.6500000000002,
          23.700000000000202,
          23.750000000000203,
          23.800000000000203,
          23.850000000000204,
          23.900000000000205,
          23.950000000000205,
          24.000000000000206,
          24.050000000000207,
          24.100000000000207,
          24.150000000000208,
          24.20000000000021,
          24.25000000000021,
          24.30000000000021,
          24.35000000000021,
          24.40000000000021,
          24.450000000000212,
          24.500000000000213,
          24.550000000000214,
          24.600000000000215,
          24.650000000000215,
          24.700000000000216,
          24.750000000000217,
          24.800000000000217,
          24.850000000000218,
          24.90000000000022,
          24.95000000000022,
          25.00000000000022,
          25.05000000000022,
          25.10000000000022,
          25.150000000000222,
          25.200000000000223,
          25.250000000000224,
          25.300000000000225,
          25.350000000000225,
          25.400000000000226,
          25.450000000000227,
          25.500000000000227,
          25.550000000000228,
          25.60000000000023,
          25.65000000000023,
          25.70000000000023,
          25.75000000000023,
          25.80000000000023,
          25.850000000000232,
          25.900000000000233,
          25.950000000000234,
          26.000000000000234,
          26.050000000000235,
          26.100000000000236,
          26.150000000000237,
          26.200000000000237,
          26.250000000000238,
          26.30000000000024,
          26.35000000000024,
          26.40000000000024,
          26.45000000000024,
          26.50000000000024,
          26.550000000000242,
          26.600000000000243,
          26.650000000000244,
          26.700000000000244,
          26.750000000000245,
          26.800000000000246,
          26.850000000000247,
          26.900000000000247,
          26.950000000000248,
          27.00000000000025,
          27.05000000000025,
          27.10000000000025,
          27.15000000000025,
          27.20000000000025,
          27.250000000000252,
          27.300000000000253,
          27.350000000000254,
          27.400000000000254,
          27.450000000000255,
          27.500000000000256,
          27.550000000000257,
          27.600000000000257,
          27.650000000000258,
          27.70000000000026,
          27.75000000000026,
          27.80000000000026,
          27.85000000000026,
          27.90000000000026,
          27.950000000000262,
          28.000000000000263,
          28.050000000000264,
          28.100000000000264,
          28.150000000000265,
          28.200000000000266,
          28.250000000000266,
          28.300000000000267,
          28.350000000000268,
          28.40000000000027,
          28.45000000000027,
          28.50000000000027,
          28.55000000000027,
          28.60000000000027,
          28.650000000000272,
          28.700000000000273,
          28.750000000000274,
          28.800000000000274,
          28.850000000000275,
          28.900000000000276,
          28.950000000000276,
          29.000000000000277,
          29.050000000000278,
          29.10000000000028,
          29.15000000000028,
          29.20000000000028,
          29.25000000000028,
          29.30000000000028,
          29.350000000000282,
          29.400000000000283,
          29.450000000000284,
          29.500000000000284,
          29.550000000000285,
          29.600000000000286,
          29.650000000000286,
          29.700000000000287,
          29.750000000000288,
          29.80000000000029,
          29.85000000000029,
          29.90000000000029,
          29.95000000000029,
          30.00000000000029,
          30.050000000000292,
          30.100000000000293,
          30.150000000000293,
          30.200000000000294,
          30.250000000000295,
          30.300000000000296,
          30.350000000000296,
          30.400000000000297,
          30.450000000000298,
          30.5000000000003,
          30.5500000000003,
          30.6000000000003,
          30.6500000000003,
          30.7000000000003,
          30.750000000000302,
          30.800000000000303,
          30.850000000000303,
          30.900000000000304,
          30.950000000000305,
          31.000000000000306,
          31.050000000000306,
          31.100000000000307,
          31.150000000000308,
          31.20000000000031,
          31.25000000000031,
          31.30000000000031,
          31.35000000000031,
          31.40000000000031,
          31.450000000000312,
          31.500000000000313,
          31.550000000000313,
          31.600000000000314,
          31.650000000000315,
          31.700000000000315,
          31.750000000000316,
          31.800000000000317,
          31.850000000000318,
          31.90000000000032,
          31.95000000000032,
          32.00000000000032,
          32.05000000000032,
          32.100000000000314,
          32.15000000000031,
          32.20000000000031,
          32.250000000000306,
          32.3000000000003,
          32.3500000000003,
          32.4000000000003,
          32.450000000000294,
          32.50000000000029,
          32.55000000000029,
          32.600000000000286,
          32.65000000000028,
          32.70000000000028,
          32.75000000000028,
          32.800000000000274,
          32.85000000000027,
          32.90000000000027,
          32.950000000000266,
          33.00000000000026,
          33.05000000000026,
          33.10000000000026,
          33.150000000000254,
          33.20000000000025,
          33.25000000000025,
          33.300000000000246,
          33.35000000000024,
          33.40000000000024,
          33.45000000000024,
          33.500000000000234,
          33.55000000000023,
          33.60000000000023,
          33.650000000000226,
          33.70000000000022,
          33.75000000000022,
          33.80000000000022,
          33.850000000000215,
          33.90000000000021,
          33.95000000000021,
          34.000000000000206,
          34.0500000000002,
          34.1000000000002,
          34.1500000000002,
          34.200000000000195,
          34.25000000000019,
          34.30000000000019,
          34.350000000000186,
          34.40000000000018,
          34.45000000000018,
          34.50000000000018,
          34.550000000000175,
          34.60000000000017,
          34.65000000000017,
          34.700000000000166,
          34.75000000000016,
          34.80000000000016,
          34.85000000000016,
          34.900000000000155,
          34.95000000000015,
          35.00000000000015,
          35.050000000000146,
          35.10000000000014,
          35.15000000000014,
          35.20000000000014,
          35.250000000000135,
          35.30000000000013,
          35.35000000000013,
          35.40000000000013,
          35.450000000000124,
          35.50000000000012,
          35.55000000000012,
          35.600000000000115,
          35.65000000000011,
          35.70000000000011,
          35.75000000000011,
          35.800000000000104,
          35.8500000000001,
          35.9000000000001,
          35.950000000000095,
          36.00000000000009,
          36.05000000000009,
          36.10000000000009,
          36.150000000000084,
          36.20000000000008,
          36.25000000000008,
          36.300000000000075,
          36.35000000000007,
          36.40000000000007,
          36.45000000000007,
          36.500000000000064,
          36.55000000000006,
          36.60000000000006,
          36.650000000000055,
          36.70000000000005,
          36.75000000000005,
          36.80000000000005
         ]
        }
       ],
       "layout": {
        "template": {
         "data": {
          "bar": [
           {
            "error_x": {
             "color": "#f2f5fa"
            },
            "error_y": {
             "color": "#f2f5fa"
            },
            "marker": {
             "line": {
              "color": "rgb(17,17,17)",
              "width": 0.5
             },
             "pattern": {
              "fillmode": "overlay",
              "size": 10,
              "solidity": 0.2
             }
            },
            "type": "bar"
           }
          ],
          "barpolar": [
           {
            "marker": {
             "line": {
              "color": "rgb(17,17,17)",
              "width": 0.5
             },
             "pattern": {
              "fillmode": "overlay",
              "size": 10,
              "solidity": 0.2
             }
            },
            "type": "barpolar"
           }
          ],
          "carpet": [
           {
            "aaxis": {
             "endlinecolor": "#A2B1C6",
             "gridcolor": "#506784",
             "linecolor": "#506784",
             "minorgridcolor": "#506784",
             "startlinecolor": "#A2B1C6"
            },
            "baxis": {
             "endlinecolor": "#A2B1C6",
             "gridcolor": "#506784",
             "linecolor": "#506784",
             "minorgridcolor": "#506784",
             "startlinecolor": "#A2B1C6"
            },
            "type": "carpet"
           }
          ],
          "choropleth": [
           {
            "colorbar": {
             "outlinewidth": 0,
             "ticks": ""
            },
            "type": "choropleth"
           }
          ],
          "contour": [
           {
            "colorbar": {
             "outlinewidth": 0,
             "ticks": ""
            },
            "colorscale": [
             [
              0,
              "#0d0887"
             ],
             [
              0.1111111111111111,
              "#46039f"
             ],
             [
              0.2222222222222222,
              "#7201a8"
             ],
             [
              0.3333333333333333,
              "#9c179e"
             ],
             [
              0.4444444444444444,
              "#bd3786"
             ],
             [
              0.5555555555555556,
              "#d8576b"
             ],
             [
              0.6666666666666666,
              "#ed7953"
             ],
             [
              0.7777777777777778,
              "#fb9f3a"
             ],
             [
              0.8888888888888888,
              "#fdca26"
             ],
             [
              1,
              "#f0f921"
             ]
            ],
            "type": "contour"
           }
          ],
          "contourcarpet": [
           {
            "colorbar": {
             "outlinewidth": 0,
             "ticks": ""
            },
            "type": "contourcarpet"
           }
          ],
          "heatmap": [
           {
            "colorbar": {
             "outlinewidth": 0,
             "ticks": ""
            },
            "colorscale": [
             [
              0,
              "#0d0887"
             ],
             [
              0.1111111111111111,
              "#46039f"
             ],
             [
              0.2222222222222222,
              "#7201a8"
             ],
             [
              0.3333333333333333,
              "#9c179e"
             ],
             [
              0.4444444444444444,
              "#bd3786"
             ],
             [
              0.5555555555555556,
              "#d8576b"
             ],
             [
              0.6666666666666666,
              "#ed7953"
             ],
             [
              0.7777777777777778,
              "#fb9f3a"
             ],
             [
              0.8888888888888888,
              "#fdca26"
             ],
             [
              1,
              "#f0f921"
             ]
            ],
            "type": "heatmap"
           }
          ],
          "heatmapgl": [
           {
            "colorbar": {
             "outlinewidth": 0,
             "ticks": ""
            },
            "colorscale": [
             [
              0,
              "#0d0887"
             ],
             [
              0.1111111111111111,
              "#46039f"
             ],
             [
              0.2222222222222222,
              "#7201a8"
             ],
             [
              0.3333333333333333,
              "#9c179e"
             ],
             [
              0.4444444444444444,
              "#bd3786"
             ],
             [
              0.5555555555555556,
              "#d8576b"
             ],
             [
              0.6666666666666666,
              "#ed7953"
             ],
             [
              0.7777777777777778,
              "#fb9f3a"
             ],
             [
              0.8888888888888888,
              "#fdca26"
             ],
             [
              1,
              "#f0f921"
             ]
            ],
            "type": "heatmapgl"
           }
          ],
          "histogram": [
           {
            "marker": {
             "pattern": {
              "fillmode": "overlay",
              "size": 10,
              "solidity": 0.2
             }
            },
            "type": "histogram"
           }
          ],
          "histogram2d": [
           {
            "colorbar": {
             "outlinewidth": 0,
             "ticks": ""
            },
            "colorscale": [
             [
              0,
              "#0d0887"
             ],
             [
              0.1111111111111111,
              "#46039f"
             ],
             [
              0.2222222222222222,
              "#7201a8"
             ],
             [
              0.3333333333333333,
              "#9c179e"
             ],
             [
              0.4444444444444444,
              "#bd3786"
             ],
             [
              0.5555555555555556,
              "#d8576b"
             ],
             [
              0.6666666666666666,
              "#ed7953"
             ],
             [
              0.7777777777777778,
              "#fb9f3a"
             ],
             [
              0.8888888888888888,
              "#fdca26"
             ],
             [
              1,
              "#f0f921"
             ]
            ],
            "type": "histogram2d"
           }
          ],
          "histogram2dcontour": [
           {
            "colorbar": {
             "outlinewidth": 0,
             "ticks": ""
            },
            "colorscale": [
             [
              0,
              "#0d0887"
             ],
             [
              0.1111111111111111,
              "#46039f"
             ],
             [
              0.2222222222222222,
              "#7201a8"
             ],
             [
              0.3333333333333333,
              "#9c179e"
             ],
             [
              0.4444444444444444,
              "#bd3786"
             ],
             [
              0.5555555555555556,
              "#d8576b"
             ],
             [
              0.6666666666666666,
              "#ed7953"
             ],
             [
              0.7777777777777778,
              "#fb9f3a"
             ],
             [
              0.8888888888888888,
              "#fdca26"
             ],
             [
              1,
              "#f0f921"
             ]
            ],
            "type": "histogram2dcontour"
           }
          ],
          "mesh3d": [
           {
            "colorbar": {
             "outlinewidth": 0,
             "ticks": ""
            },
            "type": "mesh3d"
           }
          ],
          "parcoords": [
           {
            "line": {
             "colorbar": {
              "outlinewidth": 0,
              "ticks": ""
             }
            },
            "type": "parcoords"
           }
          ],
          "pie": [
           {
            "automargin": true,
            "type": "pie"
           }
          ],
          "scatter": [
           {
            "marker": {
             "line": {
              "color": "#283442"
             }
            },
            "type": "scatter"
           }
          ],
          "scatter3d": [
           {
            "line": {
             "colorbar": {
              "outlinewidth": 0,
              "ticks": ""
             }
            },
            "marker": {
             "colorbar": {
              "outlinewidth": 0,
              "ticks": ""
             }
            },
            "type": "scatter3d"
           }
          ],
          "scattercarpet": [
           {
            "marker": {
             "colorbar": {
              "outlinewidth": 0,
              "ticks": ""
             }
            },
            "type": "scattercarpet"
           }
          ],
          "scattergeo": [
           {
            "marker": {
             "colorbar": {
              "outlinewidth": 0,
              "ticks": ""
             }
            },
            "type": "scattergeo"
           }
          ],
          "scattergl": [
           {
            "marker": {
             "line": {
              "color": "#283442"
             }
            },
            "type": "scattergl"
           }
          ],
          "scattermapbox": [
           {
            "marker": {
             "colorbar": {
              "outlinewidth": 0,
              "ticks": ""
             }
            },
            "type": "scattermapbox"
           }
          ],
          "scatterpolar": [
           {
            "marker": {
             "colorbar": {
              "outlinewidth": 0,
              "ticks": ""
             }
            },
            "type": "scatterpolar"
           }
          ],
          "scatterpolargl": [
           {
            "marker": {
             "colorbar": {
              "outlinewidth": 0,
              "ticks": ""
             }
            },
            "type": "scatterpolargl"
           }
          ],
          "scatterternary": [
           {
            "marker": {
             "colorbar": {
              "outlinewidth": 0,
              "ticks": ""
             }
            },
            "type": "scatterternary"
           }
          ],
          "surface": [
           {
            "colorbar": {
             "outlinewidth": 0,
             "ticks": ""
            },
            "colorscale": [
             [
              0,
              "#0d0887"
             ],
             [
              0.1111111111111111,
              "#46039f"
             ],
             [
              0.2222222222222222,
              "#7201a8"
             ],
             [
              0.3333333333333333,
              "#9c179e"
             ],
             [
              0.4444444444444444,
              "#bd3786"
             ],
             [
              0.5555555555555556,
              "#d8576b"
             ],
             [
              0.6666666666666666,
              "#ed7953"
             ],
             [
              0.7777777777777778,
              "#fb9f3a"
             ],
             [
              0.8888888888888888,
              "#fdca26"
             ],
             [
              1,
              "#f0f921"
             ]
            ],
            "type": "surface"
           }
          ],
          "table": [
           {
            "cells": {
             "fill": {
              "color": "#506784"
             },
             "line": {
              "color": "rgb(17,17,17)"
             }
            },
            "header": {
             "fill": {
              "color": "#2a3f5f"
             },
             "line": {
              "color": "rgb(17,17,17)"
             }
            },
            "type": "table"
           }
          ]
         },
         "layout": {
          "annotationdefaults": {
           "arrowcolor": "#f2f5fa",
           "arrowhead": 0,
           "arrowwidth": 1
          },
          "autotypenumbers": "strict",
          "coloraxis": {
           "colorbar": {
            "outlinewidth": 0,
            "ticks": ""
           }
          },
          "colorscale": {
           "diverging": [
            [
             0,
             "#8e0152"
            ],
            [
             0.1,
             "#c51b7d"
            ],
            [
             0.2,
             "#de77ae"
            ],
            [
             0.3,
             "#f1b6da"
            ],
            [
             0.4,
             "#fde0ef"
            ],
            [
             0.5,
             "#f7f7f7"
            ],
            [
             0.6,
             "#e6f5d0"
            ],
            [
             0.7,
             "#b8e186"
            ],
            [
             0.8,
             "#7fbc41"
            ],
            [
             0.9,
             "#4d9221"
            ],
            [
             1,
             "#276419"
            ]
           ],
           "sequential": [
            [
             0,
             "#0d0887"
            ],
            [
             0.1111111111111111,
             "#46039f"
            ],
            [
             0.2222222222222222,
             "#7201a8"
            ],
            [
             0.3333333333333333,
             "#9c179e"
            ],
            [
             0.4444444444444444,
             "#bd3786"
            ],
            [
             0.5555555555555556,
             "#d8576b"
            ],
            [
             0.6666666666666666,
             "#ed7953"
            ],
            [
             0.7777777777777778,
             "#fb9f3a"
            ],
            [
             0.8888888888888888,
             "#fdca26"
            ],
            [
             1,
             "#f0f921"
            ]
           ],
           "sequentialminus": [
            [
             0,
             "#0d0887"
            ],
            [
             0.1111111111111111,
             "#46039f"
            ],
            [
             0.2222222222222222,
             "#7201a8"
            ],
            [
             0.3333333333333333,
             "#9c179e"
            ],
            [
             0.4444444444444444,
             "#bd3786"
            ],
            [
             0.5555555555555556,
             "#d8576b"
            ],
            [
             0.6666666666666666,
             "#ed7953"
            ],
            [
             0.7777777777777778,
             "#fb9f3a"
            ],
            [
             0.8888888888888888,
             "#fdca26"
            ],
            [
             1,
             "#f0f921"
            ]
           ]
          },
          "colorway": [
           "#636efa",
           "#EF553B",
           "#00cc96",
           "#ab63fa",
           "#FFA15A",
           "#19d3f3",
           "#FF6692",
           "#B6E880",
           "#FF97FF",
           "#FECB52"
          ],
          "font": {
           "color": "#f2f5fa"
          },
          "geo": {
           "bgcolor": "rgb(17,17,17)",
           "lakecolor": "rgb(17,17,17)",
           "landcolor": "rgb(17,17,17)",
           "showlakes": true,
           "showland": true,
           "subunitcolor": "#506784"
          },
          "hoverlabel": {
           "align": "left"
          },
          "hovermode": "closest",
          "mapbox": {
           "style": "dark"
          },
          "paper_bgcolor": "rgb(17,17,17)",
          "plot_bgcolor": "rgb(17,17,17)",
          "polar": {
           "angularaxis": {
            "gridcolor": "#506784",
            "linecolor": "#506784",
            "ticks": ""
           },
           "bgcolor": "rgb(17,17,17)",
           "radialaxis": {
            "gridcolor": "#506784",
            "linecolor": "#506784",
            "ticks": ""
           }
          },
          "scene": {
           "xaxis": {
            "backgroundcolor": "rgb(17,17,17)",
            "gridcolor": "#506784",
            "gridwidth": 2,
            "linecolor": "#506784",
            "showbackground": true,
            "ticks": "",
            "zerolinecolor": "#C8D4E3"
           },
           "yaxis": {
            "backgroundcolor": "rgb(17,17,17)",
            "gridcolor": "#506784",
            "gridwidth": 2,
            "linecolor": "#506784",
            "showbackground": true,
            "ticks": "",
            "zerolinecolor": "#C8D4E3"
           },
           "zaxis": {
            "backgroundcolor": "rgb(17,17,17)",
            "gridcolor": "#506784",
            "gridwidth": 2,
            "linecolor": "#506784",
            "showbackground": true,
            "ticks": "",
            "zerolinecolor": "#C8D4E3"
           }
          },
          "shapedefaults": {
           "line": {
            "color": "#f2f5fa"
           }
          },
          "sliderdefaults": {
           "bgcolor": "#C8D4E3",
           "bordercolor": "rgb(17,17,17)",
           "borderwidth": 1,
           "tickwidth": 0
          },
          "ternary": {
           "aaxis": {
            "gridcolor": "#506784",
            "linecolor": "#506784",
            "ticks": ""
           },
           "baxis": {
            "gridcolor": "#506784",
            "linecolor": "#506784",
            "ticks": ""
           },
           "bgcolor": "rgb(17,17,17)",
           "caxis": {
            "gridcolor": "#506784",
            "linecolor": "#506784",
            "ticks": ""
           }
          },
          "title": {
           "x": 0.05
          },
          "updatemenudefaults": {
           "bgcolor": "#506784",
           "borderwidth": 0
          },
          "xaxis": {
           "automargin": true,
           "gridcolor": "#283442",
           "linecolor": "#506784",
           "ticks": "",
           "title": {
            "standoff": 15
           },
           "zerolinecolor": "#283442",
           "zerolinewidth": 2
          },
          "yaxis": {
           "automargin": true,
           "gridcolor": "#283442",
           "linecolor": "#506784",
           "ticks": "",
           "title": {
            "standoff": 15
           },
           "zerolinecolor": "#283442",
           "zerolinewidth": 2
          }
         }
        },
        "title": {
         "text": "HVC-function"
        },
        "xaxis": {
         "title": {
          "text": "merge_intensity"
         }
        },
        "yaxis": {
         "title": {
          "text": "msc"
         }
        }
       }
      }
     },
     "metadata": {},
     "output_type": "display_data"
    }
   ],
   "source": [
    "def plot_series(series):\n",
    "    x_values = [item[0] for item in series]\n",
    "    y_values = [item[1] for item in series]\n",
    "    \n",
    "    fig = go.Figure(data=go.Scatter(x=x_values, y=y_values, mode='lines'))\n",
    "    fig.update_layout(\n",
    "        title='HVC-function',\n",
    "        xaxis_title='merge_intensity',\n",
    "        yaxis_title='msc',\n",
    "        template='plotly_dark'\n",
    "    )\n",
    "    fig.show()\n",
    "\n",
    "# count contaminations\n",
    "fn_passing = list()\n",
    "passing_score = 0\n",
    "while passing_score < df_total['minimum_scale_coefficient'].max():\n",
    "    passing_score += 0.05\n",
    "    df_total['pass'] = df_total['minimum_scale_coefficient'].apply(lambda x : x > passing_score)\n",
    "    merge_intensity = len(df_total[df_total['pass']])/len(df_total)\n",
    "    fn_passing.append([merge_intensity, passing_score])\n",
    "\n",
    "plot_series(fn_passing)"
   ]
  }
 ],
 "metadata": {
  "kernelspec": {
   "display_name": "Python 3",
   "language": "python",
   "name": "python3"
  },
  "language_info": {
   "codemirror_mode": {
    "name": "ipython",
    "version": 3
   },
   "file_extension": ".py",
   "mimetype": "text/x-python",
   "name": "python",
   "nbconvert_exporter": "python",
   "pygments_lexer": "ipython3",
   "version": "3.11.9"
  }
 },
 "nbformat": 4,
 "nbformat_minor": 2
}
